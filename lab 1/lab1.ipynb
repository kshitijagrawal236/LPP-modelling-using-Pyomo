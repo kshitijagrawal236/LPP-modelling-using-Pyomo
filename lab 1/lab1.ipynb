{
 "cells": [
  {
   "cell_type": "code",
   "execution_count": 8,
   "metadata": {
    "colab": {},
    "colab_type": "code",
    "id": "LE0bDtVYAdpG"
   },
   "outputs": [],
   "source": [
    "!pip install -q pyomo"
   ]
  },
  {
   "cell_type": "code",
   "execution_count": 9,
   "metadata": {
    "colab": {},
    "colab_type": "code",
    "id": "BP2I5hRmA3t1"
   },
   "outputs": [],
   "source": [
    "from pyomo.environ import *"
   ]
  },
  {
   "cell_type": "code",
   "execution_count": null,
   "metadata": {
    "colab": {},
    "colab_type": "code",
    "id": "EIX0i0gImqGn"
   },
   "outputs": [],
   "source": []
  },
  {
   "cell_type": "code",
   "execution_count": 10,
   "metadata": {
    "colab": {},
    "colab_type": "code",
    "id": "R6Bg6ofGWcHW"
   },
   "outputs": [],
   "source": [
    "!apt-get install -y -qq glpk-utils"
   ]
  },
  {
   "cell_type": "markdown",
   "metadata": {
    "colab_type": "text",
    "id": "OdZlS0x1Bef5"
   },
   "source": [
    "# Start of Exercise 1:  \n",
    "\n",
    "min. 2*x1 + 15*x2 − 4*x3 − 6*x4 + 7*x5 − 9*x6 − 1.6*x7\n",
    "\n",
    "s.t.\n",
    "\n",
    "Constraint1: x1 + x2 + x3 + x4 + x5 + x6 + x7 = 200     \n",
    "Constraint2:x1 + x2 ≥ 10,          \n",
    "Constraint3: 4*x3 + 2*x6 + 3*x7 ≤ 150,     \n",
    "Constraint4: 10*x1 − x6 + 3*x5 ≥ 20,    \n",
    "Constraint5: x3 − x5 + 3*x7 ≥ 10,    \n",
    "Constraint6: x1 ≥ 0,    \n",
    "Constraint7: x2 ≥ 12,   \n",
    "Constraint8: x3 ≥ −10,   \n",
    "Constraint9: x4 ≥ 8,    \n",
    "Constraint10: x5 ≥ 9,    \n",
    "Constraint11: x6 ≥ −1,    \n",
    "Constraint12: x7 ≥ 0 "
   ]
  },
  {
   "cell_type": "code",
   "execution_count": null,
   "metadata": {
    "colab": {},
    "colab_type": "code",
    "id": "kydb7xExRXZ6"
   },
   "outputs": [],
   "source": [
    "# Model creation\n",
    "model1 = ConcreteModel()"
   ]
  },
  {
   "cell_type": "code",
   "execution_count": null,
   "metadata": {
    "colab": {},
    "colab_type": "code",
    "id": "SYP-t-e4RZ-Y"
   },
   "outputs": [],
   "source": [
    "# Variable declaration\n",
    "model1.x1 = Var(domain=Reals)\n",
    "model1.x2 = Var(domain=Reals)\n",
    "model1.x3 = Var(domain=Reals)\n",
    "model1.x4 = Var(domain=Reals)\n",
    "model1.x5 = Var(domain=Reals)\n",
    "model1.x6 = Var(domain=Reals)\n",
    "model1.x7 = Var(domain=Reals)"
   ]
  },
  {
   "cell_type": "code",
   "execution_count": null,
   "metadata": {
    "colab": {},
    "colab_type": "code",
    "id": "jtr-RNjWRexa"
   },
   "outputs": [],
   "source": [
    "# Objective declaration\n",
    "model1.cost = Objective(expr = 2*model1.x1 + 15*model1.x2 - 4*model1.x3 - 6*model1.x4 + 7*model1.x5 -9*model1.x6-1.6*model1.x7, sense=minimize)"
   ]
  },
  {
   "cell_type": "code",
   "execution_count": null,
   "metadata": {
    "colab": {},
    "colab_type": "code",
    "id": "kO_aGF_uRolk"
   },
   "outputs": [],
   "source": [
    "# Constraints declaration\n",
    "model1.constr1 = Constraint(expr = model1.x1 + model1.x2 + model1.x3 + model1.x4 + model1.x5 + model1.x6 + model1.x7 == 200)\n",
    "model1.constr2 = Constraint(expr = model1.x1 + model1.x2  >= 10)\n",
    "model1.constr3 = Constraint(expr = 4*model1.x3 + 2*model1.x6 + 3*model1.x7 <= 150)\n",
    "model1.constr4 = Constraint(expr = 10*model1.x1 - model1.x6 + 3*model1.x5 >= 20)\n",
    "model1.constr5 = Constraint(expr = model1.x3 - model1.x5 + 3*model1.x7 >= 10)\n",
    "model1.constr6 = Constraint(expr = model1.x1 >= 0)\n",
    "model1.constr7 = Constraint(expr = model1.x2 >= 12)\n",
    "model1.constr8 = Constraint(expr = model1.x3 >= -10)\n",
    "model1.constr9 = Constraint(expr = model1.x4 >= 8)\n",
    "model1.constr10 = Constraint(expr = model1.x5 >= 9)\n",
    "model1.constr11 = Constraint(expr = model1.x6 >= -1)\n",
    "model1.constr12 = Constraint(expr = model1.x7 >= 0)"
   ]
  },
  {
   "cell_type": "code",
   "execution_count": null,
   "metadata": {
    "colab": {
     "base_uri": "https://localhost:8080/",
     "height": 1000
    },
    "colab_type": "code",
    "id": "j0x3yFVKW_Nb",
    "outputId": "34b4b338-a95a-4ae0-aa36-6a84bebefbc0"
   },
   "outputs": [
    {
     "name": "stdout",
     "output_type": "stream",
     "text": [
      "7 Var Declarations\n",
      "    x1 : Size=1, Index=None\n",
      "        Key  : Lower : Value : Upper : Fixed : Stale : Domain\n",
      "        None :  None :  7.35 :  None : False : False :  Reals\n",
      "    x2 : Size=1, Index=None\n",
      "        Key  : Lower : Value : Upper : Fixed : Stale : Domain\n",
      "        None :  None :  12.0 :  None : False : False :  Reals\n",
      "    x3 : Size=1, Index=None\n",
      "        Key  : Lower : Value : Upper : Fixed : Stale : Domain\n",
      "        None :  None : -10.0 :  None : False : False :  Reals\n",
      "    x4 : Size=1, Index=None\n",
      "        Key  : Lower : Value            : Upper : Fixed : Stale : Domain\n",
      "        None :  None : 91.4833333333333 :  None : False : False :  Reals\n",
      "    x5 : Size=1, Index=None\n",
      "        Key  : Lower : Value : Upper : Fixed : Stale : Domain\n",
      "        None :  None :   9.0 :  None : False : False :  Reals\n",
      "    x6 : Size=1, Index=None\n",
      "        Key  : Lower : Value : Upper : Fixed : Stale : Domain\n",
      "        None :  None :  80.5 :  None : False : False :  Reals\n",
      "    x7 : Size=1, Index=None\n",
      "        Key  : Lower : Value            : Upper : Fixed : Stale : Domain\n",
      "        None :  None : 9.66666666666667 :  None : False : False :  Reals\n",
      "\n",
      "1 Objective Declarations\n",
      "    cost : Size=1, Index=None, Active=True\n",
      "        Key  : Active : Sense    : Expression\n",
      "        None :   True : minimize : 2*x1 + 15*x2 - 4*x3 - 6*x4 + 7*x5 - 9*x6 - 1.6*x7\n",
      "\n",
      "13 Constraint Declarations\n",
      "    constr1 : Size=1, Index=None, Active=True\n",
      "        Key  : Lower : Body                             : Upper : Active\n",
      "        None : 200.0 : x1 + x2 + x3 + x4 + x5 + x6 + x7 : 200.0 :   True\n",
      "    constr10 : Size=1, Index=None, Active=True\n",
      "        Key  : Lower : Body : Upper : Active\n",
      "        None :   9.0 :   x5 :  +Inf :   True\n",
      "    constr11 : Size=1, Index=None, Active=True\n",
      "        Key  : Lower : Body : Upper : Active\n",
      "        None :  -1.0 :   x6 :  +Inf :   True\n",
      "    constr12 : Size=1, Index=None, Active=True\n",
      "        Key  : Lower : Body : Upper : Active\n",
      "        None :   0.0 :   x7 :  +Inf :   True\n",
      "    constr13 : Size=1, Index=None, Active=True\n",
      "        Key  : Lower : Body : Upper : Active\n",
      "        None :   0.0 :   x7 :  +Inf :   True\n",
      "    constr2 : Size=1, Index=None, Active=True\n",
      "        Key  : Lower : Body    : Upper : Active\n",
      "        None :  10.0 : x1 + x2 :  +Inf :   True\n",
      "    constr3 : Size=1, Index=None, Active=True\n",
      "        Key  : Lower : Body               : Upper : Active\n",
      "        None :  -Inf : 4*x3 + 2*x6 + 3*x7 : 150.0 :   True\n",
      "    constr4 : Size=1, Index=None, Active=True\n",
      "        Key  : Lower : Body              : Upper : Active\n",
      "        None :  20.0 : 10*x1 - x6 + 3*x5 :  +Inf :   True\n",
      "    constr5 : Size=1, Index=None, Active=True\n",
      "        Key  : Lower : Body           : Upper : Active\n",
      "        None :  10.0 : x3 - x5 + 3*x7 :  +Inf :   True\n",
      "    constr6 : Size=1, Index=None, Active=True\n",
      "        Key  : Lower : Body : Upper : Active\n",
      "        None :   0.0 :   x1 :  +Inf :   True\n",
      "    constr7 : Size=1, Index=None, Active=True\n",
      "        Key  : Lower : Body : Upper : Active\n",
      "        None :  12.0 :   x2 :  +Inf :   True\n",
      "    constr8 : Size=1, Index=None, Active=True\n",
      "        Key  : Lower : Body : Upper : Active\n",
      "        None : -10.0 :   x3 :  +Inf :   True\n",
      "    constr9 : Size=1, Index=None, Active=True\n",
      "        Key  : Lower : Body : Upper : Active\n",
      "        None :   8.0 :   x4 :  +Inf :   True\n",
      "\n",
      "21 Declarations: x1 x2 x3 x4 x5 x6 x7 cost constr13 constr1 constr2 constr3 constr4 constr5 constr6 constr7 constr8 constr9 constr10 constr11 constr12\n"
     ]
    }
   ],
   "source": [
    "model1.pprint()"
   ]
  },
  {
   "cell_type": "code",
   "execution_count": null,
   "metadata": {
    "colab": {
     "base_uri": "https://localhost:8080/",
     "height": 590
    },
    "colab_type": "code",
    "id": "atjY0QT2VW_3",
    "outputId": "ce587f51-f372-46f0-e754-2d17da53f0a1"
   },
   "outputs": [
    {
     "name": "stdout",
     "output_type": "stream",
     "text": [
      "# ==========================================================\n",
      "# = Solver Results                                         =\n",
      "# ==========================================================\n",
      "# ----------------------------------------------------------\n",
      "#   Problem Information\n",
      "# ----------------------------------------------------------\n",
      "Problem: \n",
      "- Name: unknown\n",
      "  Lower bound: -991.166666666667\n",
      "  Upper bound: -991.166666666667\n",
      "  Number of objectives: 1\n",
      "  Number of constraints: 13\n",
      "  Number of variables: 8\n",
      "  Number of nonzeros: 26\n",
      "  Sense: minimize\n",
      "# ----------------------------------------------------------\n",
      "#   Solver Information\n",
      "# ----------------------------------------------------------\n",
      "Solver: \n",
      "- Status: ok\n",
      "  Termination condition: optimal\n",
      "  Statistics: \n",
      "    Branch and bound: \n",
      "      Number of bounded subproblems: 0\n",
      "      Number of created subproblems: 0\n",
      "  Error rc: 0\n",
      "  Time: 0.013065099716186523\n",
      "# ----------------------------------------------------------\n",
      "#   Solution Information\n",
      "# ----------------------------------------------------------\n",
      "Solution: \n",
      "- number of solutions: 0\n",
      "  number of solutions displayed: 0\n"
     ]
    }
   ],
   "source": [
    "SolverFactory('glpk', executable='/usr/bin/glpsol').solve(model1).write()"
   ]
  },
  {
   "cell_type": "code",
   "execution_count": null,
   "metadata": {
    "colab": {
     "base_uri": "https://localhost:8080/",
     "height": 295
    },
    "colab_type": "code",
    "id": "ofvH_L-4Xj3T",
    "outputId": "3c29e0f2-d547-45a2-d7c1-a21689cafc21"
   },
   "outputs": [
    {
     "name": "stdout",
     "output_type": "stream",
     "text": [
      "Objective Function Value = -991.1666666666665\n",
      "\n",
      "value of variables at the optimum are following\n",
      "x1= 7.35\n",
      "x2= 12.0\n",
      "x3= -10.0\n",
      "x4= 91.4833333333333\n",
      "x5= 9.0\n",
      "x6= 80.5\n",
      "x7= 9.66666666666667\n",
      "\n",
      "value of first four constraints at optimum\n",
      "199.99999999999997\n",
      "19.35\n",
      "150.0\n",
      "20.0\n"
     ]
    }
   ],
   "source": [
    "# solution display\n",
    "\n",
    "print(\"Objective Function Value =\",model1.cost())\n",
    "\n",
    "print(\"\\nvalue of variables at the optimum are following\")\n",
    "print('x1=',model1.x1())\n",
    "print('x2=',model1.x2())\n",
    "print('x3=',model1.x3())\n",
    "print('x4=',model1.x4())\n",
    "print('x5=',model1.x5())\n",
    "print('x6=',model1.x6())\n",
    "print('x7=',model1.x7())\n",
    "\n",
    "print(\"\\nvalue of first four constraints at optimum\")\n",
    "print(model1.constr1())\n",
    "print(model1.constr2())\n",
    "print(model1.constr3())\n",
    "print(model1.constr4())\n",
    "\n",
    "\n"
   ]
  },
  {
   "cell_type": "markdown",
   "metadata": {
    "colab_type": "text",
    "id": "-NqET4_FiH9D"
   },
   "source": [
    "For the constraint nos. 1,3 & 4, LHS=RHS so these are active constraints.\n",
    "\n",
    "For constraint no.2, LHS!=RHS so constraint2 is not active.\n",
    "\n",
    "\n",
    "\n",
    "# ***************END OF EXERCISE 1****************"
   ]
  },
  {
   "cell_type": "markdown",
   "metadata": {
    "colab_type": "text",
    "id": "1eWjcYsImX1y"
   },
   "source": [
    "## **Start of Exercise: 2**\n",
    "\n",
    "max. 0.043*x1+0.027*x2+0.025*x3+0.022*x4+0.045*x5-0.0275y\n",
    "s.t.   \n",
    "Constraint1: x1+x2+x3+x4+x5-y<=100  \n",
    "Constraint2: x2+x3+x4>=60  \n",
    "Constraint3: 0.6*x1+0.6*x2-0.4*x3*0.4*x4+3.6*x5<=0  \n",
    "Constraint4: 4*x1+10*x2-x3+3*x4-3*x5<=0  \n",
    "Non negativity constraints:x1,x2,x3,x4,x5>=0  \n",
    "Range for y [0,5]"
   ]
  },
  {
   "cell_type": "code",
   "execution_count": null,
   "metadata": {
    "colab": {},
    "colab_type": "code",
    "id": "1qbpS6Bc7e3O"
   },
   "outputs": [],
   "source": [
    "#Model Creation\n",
    "model2 = ConcreteModel()"
   ]
  },
  {
   "cell_type": "code",
   "execution_count": null,
   "metadata": {
    "colab": {},
    "colab_type": "code",
    "id": "_-NfM9Ev7nhw"
   },
   "outputs": [],
   "source": [
    "#Variables Declaration\n",
    "model2.x1=Var(domain=NonNegativeReals)\n",
    "model2.x2=Var(domain=NonNegativeReals)\n",
    "model2.x3=Var(domain=NonNegativeReals)\n",
    "model2.x4=Var(domain=NonNegativeReals)\n",
    "model2.x5=Var(domain=NonNegativeReals)\n",
    "model2.y=Var(domain=Reals,bounds=(0,5))"
   ]
  },
  {
   "cell_type": "code",
   "execution_count": null,
   "metadata": {
    "colab": {},
    "colab_type": "code",
    "id": "x02D31477saX"
   },
   "outputs": [],
   "source": [
    "#Objective Declaration\n",
    "model2.obj=Objective(expr=0.043*model2.x1+0.027*model2.x2+0.025*model2.x3+0.022*model2.x4+0.045*model2.x5-0.027*model2.y,sense=maximize)\n"
   ]
  },
  {
   "cell_type": "code",
   "execution_count": null,
   "metadata": {
    "colab": {},
    "colab_type": "code",
    "id": "KOHEBdvx8QSI"
   },
   "outputs": [],
   "source": [
    "#Constrainsts Declaration\n",
    "model2.constr1=Constraint(expr=model2.x1+model2.x2+model2.x3+model2.x4+model2.x5-model2.y<=100)\n",
    "model2.constr2=Constraint(expr=model2.x2+model2.x3+model2.x4>=60)\n",
    "model2.constr3=Constraint(expr=0.6*model2.x1+0.6*model2.x2-0.4*model2.x3-0.4*model2.x4+3.6*model2.x5<=0)\n",
    "model2.constr4=Constraint(expr=4*model2.x1+10*model2.x2-model2.x3+3*model2.x4-3*model2.x5<=0)\n"
   ]
  },
  {
   "cell_type": "code",
   "execution_count": null,
   "metadata": {
    "colab": {
     "base_uri": "https://localhost:8080/",
     "height": 712
    },
    "colab_type": "code",
    "id": "tfTdtGSa8cUM",
    "outputId": "f2777f64-0aa1-4c41-e575-cff4955af845"
   },
   "outputs": [
    {
     "name": "stdout",
     "output_type": "stream",
     "text": [
      "6 Var Declarations\n",
      "    x1 : Size=1, Index=None\n",
      "        Key  : Lower : Value : Upper : Fixed : Stale : Domain\n",
      "        None :     0 :  None :  None : False :  True : NonNegativeReals\n",
      "    x2 : Size=1, Index=None\n",
      "        Key  : Lower : Value : Upper : Fixed : Stale : Domain\n",
      "        None :     0 :  None :  None : False :  True : NonNegativeReals\n",
      "    x3 : Size=1, Index=None\n",
      "        Key  : Lower : Value : Upper : Fixed : Stale : Domain\n",
      "        None :     0 :  None :  None : False :  True : NonNegativeReals\n",
      "    x4 : Size=1, Index=None\n",
      "        Key  : Lower : Value : Upper : Fixed : Stale : Domain\n",
      "        None :     0 :  None :  None : False :  True : NonNegativeReals\n",
      "    x5 : Size=1, Index=None\n",
      "        Key  : Lower : Value : Upper : Fixed : Stale : Domain\n",
      "        None :     0 :  None :  None : False :  True : NonNegativeReals\n",
      "    y : Size=1, Index=None\n",
      "        Key  : Lower : Value : Upper : Fixed : Stale : Domain\n",
      "        None :     0 :  None :     5 : False :  True :  Reals\n",
      "\n",
      "1 Objective Declarations\n",
      "    obj : Size=1, Index=None, Active=True\n",
      "        Key  : Active : Sense    : Expression\n",
      "        None :   True : maximize : 0.043*x1 + 0.027*x2 + 0.025*x3 + 0.022*x4 + 0.045*x5 - 0.027*y\n",
      "\n",
      "4 Constraint Declarations\n",
      "    constr1 : Size=1, Index=None, Active=True\n",
      "        Key  : Lower : Body                       : Upper : Active\n",
      "        None :  -Inf : x1 + x2 + x3 + x4 + x5 - y : 100.0 :   True\n",
      "    constr2 : Size=1, Index=None, Active=True\n",
      "        Key  : Lower : Body         : Upper : Active\n",
      "        None :  60.0 : x2 + x3 + x4 :  +Inf :   True\n",
      "    constr3 : Size=1, Index=None, Active=True\n",
      "        Key  : Lower : Body                                       : Upper : Active\n",
      "        None :  -Inf : 0.6*x1 + 0.6*x2 - 0.4*x3 - 0.4*x4 + 3.6*x5 :   0.0 :   True\n",
      "    constr4 : Size=1, Index=None, Active=True\n",
      "        Key  : Lower : Body                            : Upper : Active\n",
      "        None :  -Inf : 4*x1 + 10*x2 - x3 + 3*x4 - 3*x5 :   0.0 :   True\n",
      "\n",
      "11 Declarations: x1 x2 x3 x4 x5 y obj constr1 constr2 constr3 constr4\n"
     ]
    }
   ],
   "source": [
    "model2.pprint()\n"
   ]
  },
  {
   "cell_type": "code",
   "execution_count": null,
   "metadata": {
    "colab": {
     "base_uri": "https://localhost:8080/",
     "height": 590
    },
    "colab_type": "code",
    "id": "y58h6gHE8enz",
    "outputId": "dd97733f-451d-4a08-90af-479430ad170d"
   },
   "outputs": [
    {
     "name": "stdout",
     "output_type": "stream",
     "text": [
      "# ==========================================================\n",
      "# = Solver Results                                         =\n",
      "# ==========================================================\n",
      "# ----------------------------------------------------------\n",
      "#   Problem Information\n",
      "# ----------------------------------------------------------\n",
      "Problem: \n",
      "- Name: unknown\n",
      "  Lower bound: 2.99781818181818\n",
      "  Upper bound: 2.99781818181818\n",
      "  Number of objectives: 1\n",
      "  Number of constraints: 5\n",
      "  Number of variables: 7\n",
      "  Number of nonzeros: 20\n",
      "  Sense: maximize\n",
      "# ----------------------------------------------------------\n",
      "#   Solver Information\n",
      "# ----------------------------------------------------------\n",
      "Solver: \n",
      "- Status: ok\n",
      "  Termination condition: optimal\n",
      "  Statistics: \n",
      "    Branch and bound: \n",
      "      Number of bounded subproblems: 0\n",
      "      Number of created subproblems: 0\n",
      "  Error rc: 0\n",
      "  Time: 0.0135955810546875\n",
      "# ----------------------------------------------------------\n",
      "#   Solution Information\n",
      "# ----------------------------------------------------------\n",
      "Solution: \n",
      "- number of solutions: 0\n",
      "  number of solutions displayed: 0\n"
     ]
    }
   ],
   "source": [
    "SolverFactory('glpk', executable='/usr/bin/glpsol').solve(model2).write()"
   ]
  },
  {
   "cell_type": "code",
   "execution_count": null,
   "metadata": {
    "colab": {
     "base_uri": "https://localhost:8080/",
     "height": 451
    },
    "colab_type": "code",
    "id": "xDfQ-adx8kEN",
    "outputId": "21fc2d41-452d-4bc0-9090-96a9bd91516e"
   },
   "outputs": [
    {
     "name": "stdout",
     "output_type": "stream",
     "text": [
      "Optimal solution value =  2.9978181818181815\n",
      "\n",
      "value of variables at optimum are\n",
      "\n",
      " x1= 22.9090909090909\n",
      "\n",
      " x2= 0.0\n",
      "\n",
      " x3= 77.3181818181818\n",
      "\n",
      " x4= 0.0\n",
      "\n",
      " x5= 4.77272727272727\n",
      "\n",
      " y= 5.0\n",
      "\n",
      "value of constraints at optimum are\n",
      "\n",
      " Constraint1= 99.99999999999996\n",
      "\n",
      " Constraint2= 77.3181818181818\n",
      "\n",
      " Constraint3= -1.0658141036401503e-14\n",
      "\n",
      " Constraint4= -1.0658141036401503e-14\n"
     ]
    }
   ],
   "source": [
    "print(\"Optimal solution value = \",model2.obj())\n",
    "print(\"\\nvalue of variables at optimum are\")\n",
    "print(\"\\n x1=\",model2.x1())\n",
    "print(\"\\n x2=\",model2.x2())\n",
    "print(\"\\n x3=\",model2.x3())\n",
    "print(\"\\n x4=\",model2.x4())\n",
    "print(\"\\n x5=\",model2.x5())\n",
    "print(\"\\n y=\",model2.y())\n",
    "print(\"\\nvalue of constraints at optimum are\")\n",
    "print(\"\\n Constraint1=\",model2.constr1())\n",
    "print(\"\\n Constraint2=\",model2.constr2())\n",
    "print(\"\\n Constraint3=\",model2.constr3())\n",
    "print(\"\\n Constraint4=\",model2.constr4())\n"
   ]
  },
  {
   "cell_type": "markdown",
   "metadata": {
    "colab_type": "text",
    "id": "f4tQLoVN9SjX"
   },
   "source": [
    "Constraint 1,3 and 4 are active as for these value at optimum = RHS value while constraint 2 is not active.  \n",
    "Also non negativity constraints, x2 and x4 are active as they both are 0 at optimum.  \n",
    "For y it is obtaining one of the boundary value i.e.5 at optimum so this constraint on y is also active.\n",
    "\n",
    "## **END OF EXERCISE 2**"
   ]
  },
  {
   "cell_type": "markdown",
   "metadata": {
    "colab_type": "text",
    "id": "ksuTtu8e8zNv"
   },
   "source": [
    "## **Start of Exercise 3**\n",
    "\n",
    "Let no. of kgs of product P produced be 'p' and no. of kgs of product produced be 'q'.\n",
    "\n",
    "Combined production should be at least 160 kgs: *p+q>=160* ....Constraint1    \n",
    "Customer requires 45 kgs of P: *p>=45*. ......................Constraint2  \n",
    "customer also requires 29 kgs of Q;   *q>=29*................Constraint3\n",
    "\n",
    "Production time requirements for\n",
    "Product P: 1.25 hrs/kg\n",
    "Product Q: 0.75 hrs/kg\n",
    "\n",
    "Total available hrs = 350\n",
    "\n",
    "1.25*p+0.75*q<=350   ....... Constraint4\n",
    "\n",
    "Objective is to minimise production cost.\n",
    "Cost for producing P = Rs. 45/kg\n",
    "Cost for producing Q = Rs. 80/kg\n",
    "\n",
    "minimize. 45*P + 80*Q.....Objective function\n",
    "\n"
   ]
  },
  {
   "cell_type": "code",
   "execution_count": 14,
   "metadata": {
    "colab": {
     "base_uri": "https://localhost:8080/",
     "height": 1000
    },
    "colab_type": "code",
    "id": "vU7gMhX6OBrH",
    "outputId": "ee063efe-2e51-4912-80cf-84ccf489923a"
   },
   "outputs": [
    {
     "name": "stdout",
     "output_type": "stream",
     "text": [
      "2 Var Declarations\n",
      "    p : Size=1, Index=None\n",
      "        Key  : Lower : Value : Upper : Fixed : Stale : Domain\n",
      "        None :     0 :  None :  None : False :  True : NonNegativeReals\n",
      "    q : Size=1, Index=None\n",
      "        Key  : Lower : Value : Upper : Fixed : Stale : Domain\n",
      "        None :     0 :  None :  None : False :  True : NonNegativeReals\n",
      "\n",
      "1 Objective Declarations\n",
      "    cost : Size=1, Index=None, Active=True\n",
      "        Key  : Active : Sense    : Expression\n",
      "        None :   True : minimize : 45*p + 80*q\n",
      "\n",
      "4 Constraint Declarations\n",
      "    constr1 : Size=1, Index=None, Active=True\n",
      "        Key  : Lower : Body  : Upper : Active\n",
      "        None : 160.0 : p + q :  +Inf :   True\n",
      "    constr2 : Size=1, Index=None, Active=True\n",
      "        Key  : Lower : Body : Upper : Active\n",
      "        None :  45.0 :    p :  +Inf :   True\n",
      "    constr3 : Size=1, Index=None, Active=True\n",
      "        Key  : Lower : Body : Upper : Active\n",
      "        None :  29.0 :    q :  +Inf :   True\n",
      "    constr4 : Size=1, Index=None, Active=True\n",
      "        Key  : Lower : Body            : Upper : Active\n",
      "        None :  -Inf : 1.25*p + 0.75*q : 350.0 :   True\n",
      "\n",
      "7 Declarations: p q cost constr1 constr2 constr3 constr4\n",
      "# ==========================================================\n",
      "# = Solver Results                                         =\n",
      "# ==========================================================\n",
      "# ----------------------------------------------------------\n",
      "#   Problem Information\n",
      "# ----------------------------------------------------------\n",
      "Problem: \n",
      "- Name: unknown\n",
      "  Lower bound: 8215.0\n",
      "  Upper bound: 8215.0\n",
      "  Number of objectives: 1\n",
      "  Number of constraints: 5\n",
      "  Number of variables: 3\n",
      "  Number of nonzeros: 7\n",
      "  Sense: minimize\n",
      "# ----------------------------------------------------------\n",
      "#   Solver Information\n",
      "# ----------------------------------------------------------\n",
      "Solver: \n",
      "- Status: ok\n",
      "  Termination condition: optimal\n",
      "  Statistics: \n",
      "    Branch and bound: \n",
      "      Number of bounded subproblems: 0\n",
      "      Number of created subproblems: 0\n",
      "  Error rc: 0\n",
      "  Time: 0.016802549362182617\n",
      "# ----------------------------------------------------------\n",
      "#   Solution Information\n",
      "# ----------------------------------------------------------\n",
      "Solution: \n",
      "- number of solutions: 0\n",
      "  number of solutions displayed: 0\n",
      "\n",
      "Minimum cost = Rs. 8215.0\n",
      "\n",
      "value of products at optimal are\n",
      "kgs of product P = 131.0\n",
      "kgs of product Q = 29.0\n",
      "\n",
      "value of constraints at optimum are\n",
      "Constraint1= 160.0\n",
      "Constraint2= 131.0\n",
      "Constraint3= 29.0\n",
      "Constraint4= 185.5\n"
     ]
    }
   ],
   "source": [
    "#Model Creation\n",
    "model3 = ConcreteModel()\n",
    "\n",
    "#Variables Declaration\n",
    "model3.p=Var(domain=NonNegativeReals)\n",
    "model3.q=Var(domain=NonNegativeReals)\n",
    "\n",
    "#Objective Declaration\n",
    "model3.cost=Objective(expr=45*model3.p+80*model3.q,sense=minimize)\n",
    "\n",
    "#Constraints Declaration\n",
    "model3.constr1=Constraint(expr=model3.p+model3.q>=160)\n",
    "model3.constr2=Constraint(expr=model3.p>=45)\n",
    "model3.constr3=Constraint(expr=model3.q>=29)\n",
    "model3.constr4=Constraint(expr=1.25*model3.p+0.75*model3.q<=350)\n",
    "\n",
    "model3.pprint()\n",
    "\n",
    "SolverFactory('glpk', executable='/usr/bin/glpsol').solve(model3).write()\n",
    "\n",
    "print(\"\\nMinimum cost = Rs.\",model3.cost())\n",
    "print(\"\\nvalue of products at optimal are\")\n",
    "print(\"kgs of product P =\",model3.p())\n",
    "print(\"kgs of product Q =\",model3.q())\n",
    "\n",
    "print(\"\\nvalue of constraints at optimum are\")\n",
    "print(\"Constraint1=\",model3.constr1())\n",
    "print(\"Constraint2=\",model3.constr2())\n",
    "print(\"Constraint3=\",model3.constr3())\n",
    "print(\"Constraint4=\",model3.constr4())\n"
   ]
  },
  {
   "cell_type": "markdown",
   "metadata": {
    "colab_type": "text",
    "id": "4xTmzgbiP8kB"
   },
   "source": [
    "\n",
    "Constraint1 and Constraint3 are active.  \n",
    "Constraint2 and Constraint4 are inactive"
   ]
  },
  {
   "cell_type": "markdown",
   "metadata": {
    "colab_type": "text",
    "id": "JnnPpbrMQ3-f"
   },
   "source": [
    "# Scenario 2 of exercise 3:\n",
    "\n",
    "Another customer has places order for 95 kgs of P and 75 kgs of Q\n",
    "\n",
    "Now required minimum quantity for product P = 45+95 = 140 kgs  \n",
    "Now required minimum quantity for product Q = 29+75 = 104 kgs\n",
    "\n",
    "New formulation (using same variables p and q as earlier)\n",
    "\n",
    "p+q>=160.. Constraint1  \n",
    "p>=140 ...Constraint2   \n",
    "q>=104 ...Constraint3   \n",
    "1.25*p+0.75*q<=350...Constraint4\n",
    "\n",
    "Objective: minimize 45*p+80*q\n"
   ]
  },
  {
   "cell_type": "code",
   "execution_count": 15,
   "metadata": {
    "colab": {
     "base_uri": "https://localhost:8080/",
     "height": 1000
    },
    "colab_type": "code",
    "id": "j3HVMeEySxRe",
    "outputId": "9a57d64a-639d-4af4-ce9c-de8fd0b8642b"
   },
   "outputs": [
    {
     "name": "stdout",
     "output_type": "stream",
     "text": [
      "2 Var Declarations\n",
      "    p : Size=1, Index=None\n",
      "        Key  : Lower : Value : Upper : Fixed : Stale : Domain\n",
      "        None :     0 :  None :  None : False :  True : NonNegativeReals\n",
      "    q : Size=1, Index=None\n",
      "        Key  : Lower : Value : Upper : Fixed : Stale : Domain\n",
      "        None :     0 :  None :  None : False :  True : NonNegativeReals\n",
      "\n",
      "1 Objective Declarations\n",
      "    cost : Size=1, Index=None, Active=True\n",
      "        Key  : Active : Sense    : Expression\n",
      "        None :   True : minimize : 45*p + 80*q\n",
      "\n",
      "4 Constraint Declarations\n",
      "    constr1 : Size=1, Index=None, Active=True\n",
      "        Key  : Lower : Body  : Upper : Active\n",
      "        None : 160.0 : p + q :  +Inf :   True\n",
      "    constr2 : Size=1, Index=None, Active=True\n",
      "        Key  : Lower : Body : Upper : Active\n",
      "        None : 140.0 :    p :  +Inf :   True\n",
      "    constr3 : Size=1, Index=None, Active=True\n",
      "        Key  : Lower : Body : Upper : Active\n",
      "        None : 104.0 :    q :  +Inf :   True\n",
      "    constr4 : Size=1, Index=None, Active=True\n",
      "        Key  : Lower : Body            : Upper : Active\n",
      "        None :  -Inf : 1.25*p + 0.75*q : 350.0 :   True\n",
      "\n",
      "7 Declarations: p q cost constr1 constr2 constr3 constr4\n",
      "# ==========================================================\n",
      "# = Solver Results                                         =\n",
      "# ==========================================================\n",
      "# ----------------------------------------------------------\n",
      "#   Problem Information\n",
      "# ----------------------------------------------------------\n",
      "Problem: \n",
      "- Name: unknown\n",
      "  Lower bound: 14620.0\n",
      "  Upper bound: 14620.0\n",
      "  Number of objectives: 1\n",
      "  Number of constraints: 5\n",
      "  Number of variables: 3\n",
      "  Number of nonzeros: 7\n",
      "  Sense: minimize\n",
      "# ----------------------------------------------------------\n",
      "#   Solver Information\n",
      "# ----------------------------------------------------------\n",
      "Solver: \n",
      "- Status: ok\n",
      "  Termination condition: optimal\n",
      "  Statistics: \n",
      "    Branch and bound: \n",
      "      Number of bounded subproblems: 0\n",
      "      Number of created subproblems: 0\n",
      "  Error rc: 0\n",
      "  Time: 0.019215822219848633\n",
      "# ----------------------------------------------------------\n",
      "#   Solution Information\n",
      "# ----------------------------------------------------------\n",
      "Solution: \n",
      "- number of solutions: 0\n",
      "  number of solutions displayed: 0\n",
      "\n",
      "Minimum cost = Rs. 14620.0\n",
      "\n",
      "value of products at optimal are\n",
      "kgs of product P = 140.0\n",
      "kgs of product Q = 104.0\n",
      "\n",
      "value of constraints at optimum are\n",
      "Constraint1= 244.0\n",
      "Constraint2= 140.0\n",
      "Constraint3= 104.0\n",
      "Constraint4= 253.0\n"
     ]
    }
   ],
   "source": [
    "#Model Creation\n",
    "model4 = ConcreteModel()\n",
    "\n",
    "#Variables Declaration\n",
    "model4.p=Var(domain=NonNegativeReals)\n",
    "model4.q=Var(domain=NonNegativeReals)\n",
    "\n",
    "#Objective Declaration\n",
    "model4.cost=Objective(expr=45*model4.p+80*model4.q,sense=minimize)\n",
    "\n",
    "#Constraints Declaration\n",
    "model4.constr1=Constraint(expr=model4.p+model4.q>=160)\n",
    "model4.constr2=Constraint(expr=model4.p>=140)\n",
    "model4.constr3=Constraint(expr=model4.q>=104)\n",
    "model4.constr4=Constraint(expr=1.25*model4.p+0.75*model4.q<=350)\n",
    "\n",
    "model4.pprint()\n",
    "\n",
    "SolverFactory('glpk', executable='/usr/bin/glpsol').solve(model4).write()\n",
    "\n",
    "print(\"\\nMinimum cost = Rs.\",model4.cost())\n",
    "print(\"\\nvalue of products at optimal are\")\n",
    "print(\"kgs of product P =\",model4.p())\n",
    "print(\"kgs of product Q =\",model4.q())\n",
    "\n",
    "print(\"\\nvalue of constraints at optimum are\")\n",
    "print(\"Constraint1=\",model4.constr1())\n",
    "print(\"Constraint2=\",model4.constr2())\n",
    "print(\"Constraint3=\",model4.constr3())\n",
    "print(\"Constraint4=\",model4.constr4())\n"
   ]
  },
  {
   "cell_type": "markdown",
   "metadata": {
    "colab_type": "text",
    "id": "Hddr2KHOWY4S"
   },
   "source": [
    "Constraint2 and Constraint3 are active while Constraint1 and  Constraint4 are inactive.\n",
    "  \n",
    "  \n",
    "As suggested by management the minimum combined production for product P and Q shlould be at least 160 kgs.  \n",
    "In the first scenario customer demands could be fulfilled just by producing 160 kgs but in scenario 2 customer demand can not be fulfilled by this limit, so Keshar Industries are advised to produce more than 140 kgs of product P and more than 104 kgs of product Q. Combbined it should be more than 244 kgs in order to fulfill current demands and for future orders."
   ]
  }
 ],
 "metadata": {
  "colab": {
   "collapsed_sections": [
    "f4tQLoVN9SjX"
   ],
   "name": "203190015_IE507_Lab1.ipynb",
   "provenance": []
  },
  "kernelspec": {
   "display_name": "Python 3",
   "language": "python",
   "name": "python3"
  },
  "language_info": {
   "codemirror_mode": {
    "name": "ipython",
    "version": 3
   },
   "file_extension": ".py",
   "mimetype": "text/x-python",
   "name": "python",
   "nbconvert_exporter": "python",
   "pygments_lexer": "ipython3",
   "version": "3.8.5"
  }
 },
 "nbformat": 4,
 "nbformat_minor": 1
}
