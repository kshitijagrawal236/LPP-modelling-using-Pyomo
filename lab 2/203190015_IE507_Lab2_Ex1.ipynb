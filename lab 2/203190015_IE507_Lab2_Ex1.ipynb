{
 "cells": [
  {
   "cell_type": "markdown",
   "metadata": {
    "colab_type": "text",
    "id": "63mPfArYnOrI"
   },
   "source": [
    "**Problem Structure**\n",
    "\n",
    "min c1 x1 + c2 x2 + . . . + cN xN ,   \n",
    "such that   \n",
    "  x1 + x2 + . . . + xN ≤ b1 ,  \n",
    "  w1 x1 + . . . + wN xN = b2 ,  \n",
    "  xi ≤ ui,  i = 1, . . . , N,  \n",
    "  xi ≥ li , i = 1, . . . , N.  \n",
    "  \n",
    "**Value of parameters**\n",
    "\n",
    "b1 = 151.2,  \n",
    "b2 = 44.6,  \n",
    "c = [−10.1, 20.15, 60.5, 80.05, 0.15, 40.5, −0.05, −30.02, 40.65, 0.125];  \n",
    "w = [0, 1.6, −2.02, 0, 1.01, −2.005, 0, 1.39, 1, −1.214];  \n",
    "l = [−∞, 1, 0, 0, 7, 0, −∞, −∞, 1, 1],  \n",
    "u = [4, 3, +∞, 2, 10, +∞, 13, 20, +∞, 21]\n",
    "\n"
   ]
  },
  {
   "cell_type": "code",
   "execution_count": null,
   "metadata": {
    "colab": {},
    "colab_type": "code",
    "id": "6Kw5LcXbogoy"
   },
   "outputs": [],
   "source": [
    "!pip install pyomo"
   ]
  },
  {
   "cell_type": "code",
   "execution_count": null,
   "metadata": {
    "colab": {},
    "colab_type": "code",
    "id": "Py4P_Elbo9yT"
   },
   "outputs": [],
   "source": [
    "!apt-get install -y -qq glpk-utils"
   ]
  },
  {
   "cell_type": "code",
   "execution_count": 3,
   "metadata": {
    "colab": {
     "base_uri": "https://localhost:8080/",
     "height": 627
    },
    "colab_type": "code",
    "id": "SyEnFT2apIhY",
    "outputId": "9bdc4b8d-cc7f-4b6a-9b4b-3d1da359d779"
   },
   "outputs": [
    {
     "name": "stdout",
     "output_type": "stream",
     "text": [
      "2 Set Declarations\n",
      "    constraints_index : Size=1, Index=None, Ordered=Insertion\n",
      "        Key  : Dimen : Domain : Size : Members\n",
      "        None :     1 :    Any :    2 : {1, 2}\n",
      "    x_index : Size=1, Index=None, Ordered=False\n",
      "        Key  : Dimen : Domain : Size : Members\n",
      "        None :     1 :    Any :   10 : {0, 1, 2, 3, 4, 5, 6, 7, 8, 9}\n",
      "\n",
      "1 Var Declarations\n",
      "    x : Size=10, Index=x_index\n",
      "        Key : Lower : Value : Upper : Fixed : Stale : Domain\n",
      "          0 :  -inf :  None :   4.0 : False :  True :  Reals\n",
      "          1 :   1.0 :  None :   3.0 : False :  True :  Reals\n",
      "          2 :   0.0 :  None :   inf : False :  True :  Reals\n",
      "          3 :   0.0 :  None :   2.0 : False :  True :  Reals\n",
      "          4 :   7.0 :  None :  10.0 : False :  True :  Reals\n",
      "          5 :   0.0 :  None :   inf : False :  True :  Reals\n",
      "          6 :  -inf :  None :  13.0 : False :  True :  Reals\n",
      "          7 :  -inf :  None :  20.0 : False :  True :  Reals\n",
      "          8 :   1.0 :  None :   inf : False :  True :  Reals\n",
      "          9 :   1.0 :  None :  21.0 : False :  True :  Reals\n",
      "\n",
      "1 Objective Declarations\n",
      "    objective : Size=1, Index=None, Active=True\n",
      "        Key  : Active : Sense    : Expression\n",
      "        None :   True : minimize : -10.1*x[0] + 20.15*x[1] + 60.5*x[2] + 80.05*x[3] + 0.15*x[4] + 40.5*x[5] - 0.05*x[6] - 30.02*x[7] + 40.65*x[8] + 0.125*x[9]\n",
      "\n",
      "1 Constraint Declarations\n",
      "    constraints : Size=2, Index=constraints_index, Active=True\n",
      "        Key : Lower : Body                                                                          : Upper : Active\n",
      "          1 :  -Inf :           x[0] + x[1] + x[2] + x[3] + x[4] + x[5] + x[6] + x[7] + x[8] + x[9] : 151.2 :   True\n",
      "          2 :  44.6 : 1.6*x[1] - 2.02*x[2] + 1.01*x[4] - 2.005*x[5] + 1.39*x[7] + x[8] - 1.214*x[9] :  44.6 :   True\n",
      "\n",
      "5 Declarations: x_index x constraints_index constraints objective\n"
     ]
    }
   ],
   "source": [
    "from pyomo.environ import*\n",
    "import numpy as np\n",
    "\n",
    "#no. of variables\n",
    "n=10\n",
    "\n",
    "#model creation\n",
    "model=ConcreteModel()\n",
    "\n",
    "#objective function coefficients\n",
    "obj_coef_c=np.array([ -10.1, 20.15, 60.5, 80.05, 0.15, 40.5, -0.05, -30.02, 40.65, 0.125])\n",
    "\n",
    "#constraint coefficients\n",
    "constr1_coef_p=np.array([1,1,1,1,1,1,1,1,1,1])\n",
    "constr2_coef_q=np.array([0, 1.6, -2.02, 0, 1.01, -2.005, 0, 1.39, 1, -1.214])\n",
    "\n",
    "#constraint rhs values\n",
    "constr1_rhs_b1=151.2\n",
    "constr2_rhs_b2=44.6\n",
    "\n",
    "#upper and lower bound values\n",
    "lower_bound=np.array([-np.inf, 1, 0, 0, 7, 0, -np.inf, -np.inf, 1, 1])\n",
    "upper_bound=np.array([4, 3, np.inf, 2, 10, np.inf, 13, 20, np.inf, 21])\n",
    "\n",
    "\n",
    "col_indices=np.arange(n)\n",
    "\n",
    "model.x=Var(col_indices)\n",
    "\n",
    "model.constraints=ConstraintList()\n",
    "\n",
    "#defining constraints for the model\n",
    "model.constraints.add(sum(model.x[i]*constr1_coef_p[i] for i in col_indices)<=constr1_rhs_b1)\n",
    "model.constraints.add(sum(model.x[j]*constr2_coef_q[j] for j in col_indices)==constr2_rhs_b2)\n",
    "\n",
    "#setting bounds for variables\n",
    "for j in col_indices:\n",
    "    model.x[j].setlb(lower_bound[j])\n",
    "    model.x[j].setub(upper_bound[j])\n",
    "\n",
    "#setting objective \n",
    "model.objective=Objective(expr=sum(obj_coef_c[j]*model.x[j] for j in col_indices), sense=minimize)\n",
    "\n",
    "model.pprint()\n",
    "\n",
    "\n",
    "\n"
   ]
  },
  {
   "cell_type": "code",
   "execution_count": 4,
   "metadata": {
    "colab": {
     "base_uri": "https://localhost:8080/",
     "height": 590
    },
    "colab_type": "code",
    "id": "Ju-Bx6cCr40h",
    "outputId": "479aaa9f-9e35-4b3d-cdb0-049c646bca20"
   },
   "outputs": [
    {
     "name": "stdout",
     "output_type": "stream",
     "text": [
      "# ==========================================================\n",
      "# = Solver Results                                         =\n",
      "# ==========================================================\n",
      "# ----------------------------------------------------------\n",
      "#   Problem Information\n",
      "# ----------------------------------------------------------\n",
      "Problem: \n",
      "- Name: unknown\n",
      "  Lower bound: -452.7909\n",
      "  Upper bound: -452.7909\n",
      "  Number of objectives: 1\n",
      "  Number of constraints: 3\n",
      "  Number of variables: 11\n",
      "  Number of nonzeros: 18\n",
      "  Sense: minimize\n",
      "# ----------------------------------------------------------\n",
      "#   Solver Information\n",
      "# ----------------------------------------------------------\n",
      "Solver: \n",
      "- Status: ok\n",
      "  Termination condition: optimal\n",
      "  Statistics: \n",
      "    Branch and bound: \n",
      "      Number of bounded subproblems: 0\n",
      "      Number of created subproblems: 0\n",
      "  Error rc: 0\n",
      "  Time: 0.009906291961669922\n",
      "# ----------------------------------------------------------\n",
      "#   Solution Information\n",
      "# ----------------------------------------------------------\n",
      "Solution: \n",
      "- number of solutions: 0\n",
      "  number of solutions displayed: 0\n"
     ]
    }
   ],
   "source": [
    "\n",
    "#solving model and printing solver status\n",
    "SolverFactory('glpk', executable='/usr/bin/glpsol').solve(model).write()\n"
   ]
  },
  {
   "cell_type": "code",
   "execution_count": 5,
   "metadata": {
    "colab": {
     "base_uri": "https://localhost:8080/",
     "height": 260
    },
    "colab_type": "code",
    "id": "_4iJtNiGsFH4",
    "outputId": "f78e2de0-a946-44b4-fc57-613e7d1b3d27"
   },
   "outputs": [
    {
     "name": "stdout",
     "output_type": "stream",
     "text": [
      "\n",
      "value of decision variables at optimum\n",
      "x[ 0 ] =  4.0\n",
      "x[ 1 ] =  3.0\n",
      "x[ 2 ] =  0.0\n",
      "x[ 3 ] =  0.0\n",
      "x[ 4 ] =  10.0\n",
      "x[ 5 ] =  0.0\n",
      "x[ 6 ] =  13.0\n",
      "x[ 7 ] =  20.0\n",
      "x[ 8 ] =  3.114\n",
      "x[ 9 ] =  1.0\n",
      "\n",
      "Objective function value =  -452.7909\n"
     ]
    }
   ],
   "source": [
    "#printing decison variables value at optimum\n",
    "print('\\nvalue of decision variables at optimum')\n",
    "for i in col_indices:\n",
    "  print('x[',i,'] = ', model.x[i].value)\n",
    "\n",
    "#printing objective function value\n",
    "print('\\nObjective function value = ', model.objective())"
   ]
  }
 ],
 "metadata": {
  "colab": {
   "collapsed_sections": [],
   "name": "203190015_IE507_Lab2_Ex1.ipynb",
   "provenance": []
  },
  "kernelspec": {
   "display_name": "Python 3",
   "language": "python",
   "name": "python3"
  },
  "language_info": {
   "codemirror_mode": {
    "name": "ipython",
    "version": 3
   },
   "file_extension": ".py",
   "mimetype": "text/x-python",
   "name": "python",
   "nbconvert_exporter": "python",
   "pygments_lexer": "ipython3",
   "version": "3.8.5"
  }
 },
 "nbformat": 4,
 "nbformat_minor": 1
}
