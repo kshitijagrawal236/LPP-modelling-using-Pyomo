{
 "cells": [
  {
   "cell_type": "markdown",
   "metadata": {
    "colab_type": "text",
    "id": "OHBtFGxiwQYA"
   },
   "source": [
    "**Problem Structure**\n",
    "min c'x,  \n",
    "s.t Ax ≤ b  \n",
    "l ≤ x ≤ u.  \n",
    "\n",
    "**Value of parameters**  \n",
    "c = [8.6, −20.35, 61.5, 39.05, −0.15, 40.5, −0.05, −30.02, 40.65, 5.125]  \n",
    "\n",
    "A= ([0,1,-2,0,1,-2,0,1,1,-1],  \n",
    "    [-1,1,-3,2.5,0,1.4,0,-2,1,-1.5],  \n",
    "    [-0.45,4.78,-2,-3.22,-1.3,1,-1,0,0,0.25],  \n",
    "    [1,1,0,0,1,1,0,1,1,0] )  \n",
    "\n",
    "b = [55.4, 67.9, 21.43, 12.7]\n",
    "\n",
    "l = [−∞, −∞, 0, 0, −57, 0, −∞, −3, 4, 1],\n",
    "\n",
    "u = [4, ∞, +∞, 2, 10, 45, 13, 20, +∞, +∞]\n",
    "\n"
   ]
  },
  {
   "cell_type": "code",
   "execution_count": null,
   "metadata": {
    "colab": {},
    "colab_type": "code",
    "id": "eEn3Lh4Uxmjh"
   },
   "outputs": [],
   "source": [
    "!pip install pyomo"
   ]
  },
  {
   "cell_type": "code",
   "execution_count": null,
   "metadata": {
    "colab": {},
    "colab_type": "code",
    "id": "3dMKlcxCx2BV"
   },
   "outputs": [],
   "source": [
    "!apt-get install -y -qq glpk-utils"
   ]
  },
  {
   "cell_type": "code",
   "execution_count": 3,
   "metadata": {
    "colab": {
     "base_uri": "https://localhost:8080/",
     "height": 697
    },
    "colab_type": "code",
    "id": "Ysmd7grJyAIV",
    "outputId": "1ed5a83e-8db7-46f9-9a96-e16bff698434"
   },
   "outputs": [
    {
     "name": "stdout",
     "output_type": "stream",
     "text": [
      "[0 1 2 3]\n",
      "[0 1 2 3 4 5 6 7 8 9]\n",
      "2 Set Declarations\n",
      "    constraints_index : Size=1, Index=None, Ordered=Insertion\n",
      "        Key  : Dimen : Domain : Size : Members\n",
      "        None :     1 :    Any :    4 : {1, 2, 3, 4}\n",
      "    x_index : Size=1, Index=None, Ordered=False\n",
      "        Key  : Dimen : Domain : Size : Members\n",
      "        None :     1 :    Any :   10 : {0, 1, 2, 3, 4, 5, 6, 7, 8, 9}\n",
      "\n",
      "1 Var Declarations\n",
      "    x : Size=10, Index=x_index\n",
      "        Key : Lower : Value : Upper : Fixed : Stale : Domain\n",
      "          0 :  -inf :  None :   4.0 : False :  True :  Reals\n",
      "          1 :  -inf :  None :   inf : False :  True :  Reals\n",
      "          2 :   0.0 :  None :   inf : False :  True :  Reals\n",
      "          3 :   0.0 :  None :   2.0 : False :  True :  Reals\n",
      "          4 : -57.0 :  None :  10.0 : False :  True :  Reals\n",
      "          5 :   0.0 :  None :  45.0 : False :  True :  Reals\n",
      "          6 :  -inf :  None :  13.0 : False :  True :  Reals\n",
      "          7 :  -3.0 :  None :  20.0 : False :  True :  Reals\n",
      "          8 :   4.0 :  None :   inf : False :  True :  Reals\n",
      "          9 :   1.0 :  None :   inf : False :  True :  Reals\n",
      "\n",
      "1 Objective Declarations\n",
      "    objective : Size=1, Index=None, Active=True\n",
      "        Key  : Active : Sense    : Expression\n",
      "        None :   True : minimize : 8.6*x[0] - 20.35*x[1] + 61.5*x[2] + 39.05*x[3] - 0.15*x[4] + 40.5*x[5] - 0.05*x[6] - 30.02*x[7] + 40.65*x[8] + 5.125*x[9]\n",
      "\n",
      "1 Constraint Declarations\n",
      "    constraints : Size=4, Index=constraints_index, Active=True\n",
      "        Key : Lower : Body                                                                               : Upper : Active\n",
      "          1 :  -Inf :                             x[1] - 2.0*x[2] + x[4] - 2.0*x[5] + x[7] + x[8] - x[9] :  55.4 :   True\n",
      "          2 :  -Inf :        - x[0] + x[1] - 3.0*x[2] + 2.5*x[3] + 1.4*x[5] - 2.0*x[7] + x[8] - 1.5*x[9] :  67.9 :   True\n",
      "          3 :  -Inf : -0.45*x[0] + 4.78*x[1] - 2.0*x[2] - 3.22*x[3] - 1.3*x[4] + x[5] - x[6] + 0.25*x[9] : 21.43 :   True\n",
      "          4 :  -Inf :                                            x[0] + x[1] + x[4] + x[5] + x[7] + x[8] :  12.7 :   True\n",
      "\n",
      "5 Declarations: x_index x constraints_index constraints objective\n"
     ]
    }
   ],
   "source": [
    "from pyomo.environ import*\n",
    "import numpy as np\n",
    "\n",
    "#model creation\n",
    "model=ConcreteModel()\n",
    "\n",
    "# N is no. of variables and M is for no. of constraints\n",
    "N=10\n",
    "M=4\n",
    "\n",
    "#objective function coefficients\n",
    "obj_coef_c=np.array([8.6, -20.35, 61.5, 39.05, -0.15, 40.5, -0.05, -30.02, 40.65, 5.125])\n",
    "\n",
    "#constraints coefficients\n",
    "constr_coef_A=np.array([[0,1,-2,0,1,-2,0,1,1,-1],\n",
    "                        [-1,1,-3,2.5,0,1.4,0,-2,1,-1.5],\n",
    "                        [-0.45,4.78,-2,-3.22,-1.3,1,-1,0,0,0.25],\n",
    "                        [1,1,0,0,1,1,0,1,1,0]])\n",
    "\n",
    "#constraints rhs values\n",
    "constr_rhs_b=np.array([55.4, 67.9, 21.43, 12.7])\n",
    "\n",
    "#variables bounds\n",
    "lower_bound=np.array([-np.inf, -np.inf, 0, 0, -57, 0, -np.inf, -3, 4, 1])\n",
    "upper_bound=np.array([4, np.inf, np.inf, 2, 10, 45, 13, 20, np.inf, np.inf])\n",
    "\n",
    "#list to create indices for traversing arrays\n",
    "col_indices=np.arange(N)\n",
    "row_indices=np.arange(M)\n",
    "\n",
    "#printing content of list created\n",
    "print(row_indices)\n",
    "print(col_indices)\n",
    "model.x=Var(col_indices)\n",
    "\n",
    "model.constraints=ConstraintList()\n",
    "\n",
    "#adding constraint to model\n",
    "for i in row_indices:\n",
    "    model.constraints.add(sum(constr_coef_A[i,j]*model.x[j] for j in col_indices)<=constr_rhs_b[i])\n",
    "\n",
    "#setting bounds\n",
    "for j in col_indices:\n",
    "    model.x[j].setlb(lower_bound[j])\n",
    "    model.x[j].setub(upper_bound[j])\n",
    "\n",
    "#defining objective\n",
    "model.objective=Objective(expr=sum(obj_coef_c[j]*model.x[j] for j in col_indices), sense=minimize)\n",
    "\n",
    "#printing model to check if it is correctly created\n",
    "model.pprint()\n",
    "\n"
   ]
  },
  {
   "cell_type": "markdown",
   "metadata": {
    "colab_type": "text",
    "id": "guF4fQLXzvF9"
   },
   "source": [
    "**Model has been created properly as per the question.**"
   ]
  },
  {
   "cell_type": "code",
   "execution_count": 4,
   "metadata": {
    "colab": {
     "base_uri": "https://localhost:8080/",
     "height": 486
    },
    "colab_type": "code",
    "id": "T1nOqX5jz2px",
    "outputId": "ee014b32-0e89-4cf6-b8dc-8a77b09945fc"
   },
   "outputs": [
    {
     "name": "stdout",
     "output_type": "stream",
     "text": [
      "# ==========================================================\n",
      "# = Solver Results                                         =\n",
      "# ==========================================================\n",
      "# ----------------------------------------------------------\n",
      "#   Problem Information\n",
      "# ----------------------------------------------------------\n",
      "Problem: \n",
      "- Name: unknown\n",
      "  Lower bound: -inf\n",
      "  Upper bound: inf\n",
      "  Number of objectives: 1\n",
      "  Number of constraints: 5\n",
      "  Number of variables: 11\n",
      "  Number of nonzeros: 30\n",
      "  Sense: minimize\n",
      "# ----------------------------------------------------------\n",
      "#   Solver Information\n",
      "# ----------------------------------------------------------\n",
      "Solver: \n",
      "- Status: ok\n",
      "  Termination condition: other\n",
      "  Statistics: \n",
      "    Branch and bound: \n",
      "      Number of bounded subproblems: 0\n",
      "      Number of created subproblems: 0\n",
      "  Error rc: 0\n",
      "  Time: 0.010608673095703125\n"
     ]
    }
   ],
   "source": [
    "#solving model and printing solver status\n",
    "SolverFactory('glpk', executable='/usr/bin/glpsol').solve(model).write()\n",
    "\n"
   ]
  },
  {
   "cell_type": "markdown",
   "metadata": {
    "colab_type": "text",
    "id": "lEmtO-530Cdg"
   },
   "source": [
    "In the solver status we see that  \n",
    "  **Lower bound: -inf**  \n",
    "  **Upper bound: inf** \n",
    "\n",
    "  this means that solver is unable to solve problem, the possible reason for this could be **problem is not bounded** or there is not a feasible solution.\n"
   ]
  },
  {
   "cell_type": "code",
   "execution_count": 5,
   "metadata": {
    "colab": {
     "base_uri": "https://localhost:8080/",
     "height": 225
    },
    "colab_type": "code",
    "id": "vvyEntkB03Th",
    "outputId": "e383baf5-a6e7-425f-fc0e-db5a8436dfc6"
   },
   "outputs": [
    {
     "name": "stdout",
     "output_type": "stream",
     "text": [
      "\n",
      "value of decision variables\n",
      "x 0 =  None\n",
      "x 1 =  None\n",
      "x 2 =  None\n",
      "x 3 =  None\n",
      "x 4 =  None\n",
      "x 5 =  None\n",
      "x 6 =  None\n",
      "x 7 =  None\n",
      "x 8 =  None\n",
      "x 9 =  None\n"
     ]
    }
   ],
   "source": [
    "#printing value of decision variables\n",
    "print('\\nvalue of decision variables')\n",
    "for i in col_indices:\n",
    "    print('x',i,'= ', model.x[i].value)"
   ]
  },
  {
   "cell_type": "markdown",
   "metadata": {
    "colab_type": "text",
    "id": "vYzNc6Tx1IPv"
   },
   "source": [
    "**We can see that since solver is unable to optimise the problem, so none value has been assigned to the decision variables.**\n",
    "\n",
    "**In this case if we try to print objective function or constraint values then we will get error, as they can not be calculated without assigning values to the variables.**\n",
    "\n",
    "**Also it is not possibe to tell which constraints are active as they can not be computed**. "
   ]
  }
 ],
 "metadata": {
  "colab": {
   "collapsed_sections": [],
   "name": "203190015_IE507_Lab2_Ex2.ipynb",
   "provenance": []
  },
  "kernelspec": {
   "display_name": "Python 3",
   "language": "python",
   "name": "python3"
  },
  "language_info": {
   "codemirror_mode": {
    "name": "ipython",
    "version": 3
   },
   "file_extension": ".py",
   "mimetype": "text/x-python",
   "name": "python",
   "nbconvert_exporter": "python",
   "pygments_lexer": "ipython3",
   "version": "3.8.5"
  }
 },
 "nbformat": 4,
 "nbformat_minor": 1
}
