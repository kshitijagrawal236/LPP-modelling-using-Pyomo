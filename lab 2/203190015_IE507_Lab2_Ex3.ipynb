{
 "cells": [
  {
   "cell_type": "markdown",
   "metadata": {
    "colab_type": "text",
    "id": "Dgw05Fsx4u44"
   },
   "source": [
    "Formulation of problem given in exercis 3 as LPP\n",
    "\n",
    "To formulate and solve this problem let us divide quantity for each of the the 10 available alloys in two parts \n",
    "1. quantity to be used form inhouse stock, xi \n",
    "2. quantity to be purchased,yi\n",
    "\n",
    "Given\n",
    "1.total product qty = 250 tons  \n",
    "Composition  \n",
    "45% Chromium  \n",
    "35% zinc  \n",
    "20% silver  \n",
    "\n",
    "% compostion of all the 10 alloys and their inhouse stock (tons) is given.\n",
    "Also cost for using inhouse stock and cost of procuring for each alloys is given.\n",
    "\n",
    "Using these data our formulation is\n",
    "\n",
    "Objective(minimise)\n",
    "x1 * 35+y1 * 72 + x2 * 50+y * 95 + x3 * 58+y3 * 110 + x4 * 60+y4* 125 + x5* 44+y5* 88 + x6* 39+y6* 74 + x7* 45+y7* 95 + x8* 55+y8* 115 + x9* 35+y9* 60 + x10* 40+y10* 84\n",
    "\n",
    "Such that  \n",
    "x1<=10  \n",
    "x2<=7  \n",
    "x3<=8  \n",
    "x4<=15  \n",
    "x5<=8  \n",
    "x6<=15  \n",
    "x7<=12  \n",
    "x8<=10  \n",
    "x9<=0  \n",
    "x10<=9\n",
    "\n",
    "x1+x2+x3+x4+x5+x6+x7+x8+x9+x10+y1+y2+y3+y4+y5+y6+y7+y8+y9+y10=250\n",
    "\n",
    "(x1*0.8+x2*0.75+x3*0.75+x4*06+x5*0.55+x6*0.55+x7*0.4+x8*03.5+x9*0.3+x10*0.3+y1*0.8+y2*0.75+y3*0.75+y4*0.6+y5*0.55+y6*0.55+y7*0.4+y8*0.35+y9*0.3+y10*03)=0.45*250\n",
    "\n",
    "(x1*0.15+x2*0.15+x3*0.10+x4*20+x5*0.25+x6*0.10+x7*0.5+x8*0.15+x9*0.3+x10*0.55+y1*0.15+y2*0.15+y3*0.10+y4*0.20+y5*0.25+y6*0.10+y7*0.50+y8*0.15+y9*0.3+y10*0.55)=0.35*250\n",
    "\n",
    "(x1*0.05+x2*0.10+x3*0.15+x4*0.20+x5*0.20+x6*0.35+x7*0.10+x8*0.50+x9*0.40+x10*0.15+y1*0.05+y2*0.10+y3*0.15+y4*0.20+y5*0.20+y6*0.35+y7*0.10+y8*0.50+y9*0.40+y10*0.15)=0.20*250\n"
   ]
  },
  {
   "cell_type": "code",
   "execution_count": null,
   "metadata": {
    "colab": {},
    "colab_type": "code",
    "id": "RdVJEaLq7Y09"
   },
   "outputs": [],
   "source": [
    "!pip install pyomo\n"
   ]
  },
  {
   "cell_type": "code",
   "execution_count": null,
   "metadata": {
    "colab": {},
    "colab_type": "code",
    "id": "GxG2NjNMAlYY"
   },
   "outputs": [],
   "source": [
    "!apt-get install -y -qq glpk-utils"
   ]
  },
  {
   "cell_type": "code",
   "execution_count": 3,
   "metadata": {
    "colab": {
     "base_uri": "https://localhost:8080/",
     "height": 923
    },
    "colab_type": "code",
    "id": "KArrg1HaA0DS",
    "outputId": "6bb9548e-ed1c-4078-9c6a-0c6683cde168"
   },
   "outputs": [
    {
     "name": "stdout",
     "output_type": "stream",
     "text": [
      "3 Set Declarations\n",
      "    constraints_index : Size=1, Index=None, Ordered=Insertion\n",
      "        Key  : Dimen : Domain : Size : Members\n",
      "        None :     1 :    Any :    4 : {1, 2, 3, 4}\n",
      "    inhouse_qty_index : Size=1, Index=None, Ordered=False\n",
      "        Key  : Dimen : Domain : Size : Members\n",
      "        None :     1 :    Any :   10 : {0, 1, 2, 3, 4, 5, 6, 7, 8, 9}\n",
      "    procured_qty_index : Size=1, Index=None, Ordered=False\n",
      "        Key  : Dimen : Domain : Size : Members\n",
      "        None :     1 :    Any :   10 : {0, 1, 2, 3, 4, 5, 6, 7, 8, 9}\n",
      "\n",
      "2 Var Declarations\n",
      "    inhouse_qty : Size=10, Index=inhouse_qty_index\n",
      "        Key : Lower : Value : Upper : Fixed : Stale : Domain\n",
      "          0 :     0 :  None :    10 : False :  True :  Reals\n",
      "          1 :     0 :  None :     7 : False :  True :  Reals\n",
      "          2 :     0 :  None :     8 : False :  True :  Reals\n",
      "          3 :     0 :  None :    15 : False :  True :  Reals\n",
      "          4 :     0 :  None :     8 : False :  True :  Reals\n",
      "          5 :     0 :  None :    15 : False :  True :  Reals\n",
      "          6 :     0 :  None :    12 : False :  True :  Reals\n",
      "          7 :     0 :  None :    10 : False :  True :  Reals\n",
      "          8 :     0 :  None :     0 : False :  True :  Reals\n",
      "          9 :     0 :  None :     9 : False :  True :  Reals\n",
      "    procured_qty : Size=10, Index=procured_qty_index\n",
      "        Key : Lower : Value : Upper : Fixed : Stale : Domain\n",
      "          0 :     0 :  None :   inf : False :  True :  Reals\n",
      "          1 :     0 :  None :   inf : False :  True :  Reals\n",
      "          2 :     0 :  None :   inf : False :  True :  Reals\n",
      "          3 :     0 :  None :   inf : False :  True :  Reals\n",
      "          4 :     0 :  None :   inf : False :  True :  Reals\n",
      "          5 :     0 :  None :   inf : False :  True :  Reals\n",
      "          6 :     0 :  None :   inf : False :  True :  Reals\n",
      "          7 :     0 :  None :   inf : False :  True :  Reals\n",
      "          8 :     0 :  None :   inf : False :  True :  Reals\n",
      "          9 :     0 :  None :   inf : False :  True :  Reals\n",
      "\n",
      "1 Objective Declarations\n",
      "    objective : Size=1, Index=None, Active=True\n",
      "        Key  : Active : Sense    : Expression\n",
      "        None :   True : minimize : 35*inhouse_qty[0] + 72*procured_qty[0] + 50*inhouse_qty[1] + 95*procured_qty[1] + 58*inhouse_qty[2] + 110*procured_qty[2] + 60*inhouse_qty[3] + 125*procured_qty[3] + 44*inhouse_qty[4] + 88*procured_qty[4] + 39*inhouse_qty[5] + 74*procured_qty[5] + 45*inhouse_qty[6] + 95*procured_qty[6] + 55*inhouse_qty[7] + 115*procured_qty[7] + 35*inhouse_qty[8] + 60*procured_qty[8] + 40*inhouse_qty[9] + 84*procured_qty[9]\n",
      "\n",
      "1 Constraint Declarations\n",
      "    constraints : Size=4, Index=constraints_index, Active=True\n",
      "        Key : Lower : Body                                                                                                                                                                                                                                                                                                                                                                                                                                                  : Upper : Active\n",
      "          1 : 250.0 :                                                                                           inhouse_qty[0] + procured_qty[0] + inhouse_qty[1] + procured_qty[1] + inhouse_qty[2] + procured_qty[2] + inhouse_qty[3] + procured_qty[3] + inhouse_qty[4] + procured_qty[4] + inhouse_qty[5] + procured_qty[5] + inhouse_qty[6] + procured_qty[6] + inhouse_qty[7] + procured_qty[7] + inhouse_qty[8] + procured_qty[8] + inhouse_qty[9] + procured_qty[9] : 250.0 :   True\n",
      "          2 : 112.5 : 0.8*inhouse_qty[0] + 0.8*procured_qty[0] + 0.75*inhouse_qty[1] + 0.75*procured_qty[1] + 0.75*inhouse_qty[2] + 0.75*procured_qty[2] + 0.6*inhouse_qty[3] + 0.6*procured_qty[3] + 0.55*inhouse_qty[4] + 0.55*procured_qty[4] + 0.55*inhouse_qty[5] + 0.55*procured_qty[5] + 0.4*inhouse_qty[6] + 0.4*procured_qty[6] + 0.35*inhouse_qty[7] + 0.35*procured_qty[7] + 0.3*inhouse_qty[8] + 0.3*procured_qty[8] + 0.3*inhouse_qty[9] + 0.3*procured_qty[9] : 112.5 :   True\n",
      "          3 :  87.5 : 0.15*inhouse_qty[0] + 0.15*procured_qty[0] + 0.15*inhouse_qty[1] + 0.15*procured_qty[1] + 0.1*inhouse_qty[2] + 0.1*procured_qty[2] + 0.2*inhouse_qty[3] + 0.2*procured_qty[3] + 0.25*inhouse_qty[4] + 0.25*procured_qty[4] + 0.1*inhouse_qty[5] + 0.1*procured_qty[5] + 0.5*inhouse_qty[6] + 0.5*procured_qty[6] + 0.15*inhouse_qty[7] + 0.15*procured_qty[7] + 0.3*inhouse_qty[8] + 0.3*procured_qty[8] + 0.55*inhouse_qty[9] + 0.55*procured_qty[9] :  87.5 :   True\n",
      "          4 :  50.0 :   0.05*inhouse_qty[0] + 0.05*procured_qty[0] + 0.1*inhouse_qty[1] + 0.1*procured_qty[1] + 0.15*inhouse_qty[2] + 0.15*procured_qty[2] + 0.2*inhouse_qty[3] + 0.2*procured_qty[3] + 0.2*inhouse_qty[4] + 0.2*procured_qty[4] + 0.35*inhouse_qty[5] + 0.35*procured_qty[5] + 0.1*inhouse_qty[6] + 0.1*procured_qty[6] + 0.5*inhouse_qty[7] + 0.5*procured_qty[7] + 0.4*inhouse_qty[8] + 0.4*procured_qty[8] + 0.15*inhouse_qty[9] + 0.15*procured_qty[9] :  50.0 :   True\n",
      "\n",
      "7 Declarations: inhouse_qty_index inhouse_qty procured_qty_index procured_qty constraints_index constraints objective\n"
     ]
    }
   ],
   "source": [
    "from pyomo.environ import*\n",
    "import numpy as np\n",
    "\n",
    "#model creation\n",
    "model=ConcreteModel()\n",
    "\n",
    "# M is value of available alloys and N is value of constraints\n",
    "N=10\n",
    "M=4\n",
    "\n",
    "#constraint coefficients \n",
    "constraint_coef_A=np.array([[1,1,1,1,1,1,1,1,1,1],\n",
    "                            [0.80,0.75,0.75,0.60,0.55,0.55,0.40,0.35,0.30,0.30],\n",
    "                            [0.15,0.15,0.10,0.20,0.25,0.10,0.50,0.15,0.30,0.55],\n",
    "                            [0.05,0.10,0.15,0.20,0.20,0.35,0.10,0.50,0.40,0.15]])\n",
    "\n",
    "#constraint rhs values\n",
    "constraint_rhs_b=np.array([250,0.45*250,0.35*250,0.20*250])\n",
    "\n",
    "\n",
    "#objective function array is 10x2 array for storing in house price and pruocuring cost\n",
    "obj_coef_c=np.array([[35,50,58,60,44,39,45,55,35,40],\n",
    "                     [72,95,110,125,88,74,95,115,60,84]])\n",
    "\n",
    "#bounds for decision variables\n",
    "inhouse_lower_bound=np.array([0,0,0,0,0,0,0,0,0,0])\n",
    "inhouse_upper_bound=np.array([10,7,8,15,8,15,12,10,0,9])\n",
    "procured_lower_bound=np.array([0,0,0,0,0,0,0,0,0,0,])\n",
    "procured_upper_bound=np.array([np.inf,np.inf,np.inf,np.inf,np.inf,np.inf,np.inf,np.inf,np.inf,np.inf])\n",
    "\n",
    "#list of index for traverisng arrays\n",
    "col_indices=np.arange(N)\n",
    "row_indices=np.arange(M)\n",
    "\n",
    "#variable declaration\n",
    "model.inhouse_qty=Var(col_indices)\n",
    "model.procured_qty=Var(col_indices)\n",
    "\n",
    "#empty list creation for containing constraints\n",
    "model.constraints=ConstraintList()\n",
    "\n",
    "#constraints addition to model\n",
    "for i in row_indices:\n",
    "    model.constraints.add(sum(model.inhouse_qty[j]*constraint_coef_A[i,j]+model.procured_qty[j]*constraint_coef_A[i,j] for j in col_indices)==constraint_rhs_b[i])\n",
    "\n",
    "#setting variables bounds\n",
    "for j in col_indices:\n",
    "    model.inhouse_qty[j].setlb(inhouse_lower_bound[j])\n",
    "    model.inhouse_qty[j].setub(inhouse_upper_bound[j])\n",
    "    model.procured_qty[j].setlb(procured_lower_bound[j])\n",
    "    model.procured_qty[j].setub(procured_upper_bound[j])\n",
    "\n",
    "#objective function \n",
    "model.objective=Objective(expr=sum(model.inhouse_qty[j]*obj_coef_c[0,j]+model.procured_qty[j]*obj_coef_c[1,j] for j in col_indices),sense=minimize)     \n",
    "\n",
    "#printing model to check it is correctly created\n",
    "model.pprint()\n"
   ]
  },
  {
   "cell_type": "markdown",
   "metadata": {
    "colab_type": "text",
    "id": "JqjS2gTKCEjJ"
   },
   "source": [
    "**Model has been created as required**"
   ]
  },
  {
   "cell_type": "code",
   "execution_count": 4,
   "metadata": {
    "colab": {
     "base_uri": "https://localhost:8080/",
     "height": 590
    },
    "colab_type": "code",
    "id": "wOKVcGW4CDWX",
    "outputId": "8be1c3b4-cc56-4bfc-d9dd-71a1c4906b68"
   },
   "outputs": [
    {
     "name": "stdout",
     "output_type": "stream",
     "text": [
      "# ==========================================================\n",
      "# = Solver Results                                         =\n",
      "# ==========================================================\n",
      "# ----------------------------------------------------------\n",
      "#   Problem Information\n",
      "# ----------------------------------------------------------\n",
      "Problem: \n",
      "- Name: unknown\n",
      "  Lower bound: 16238.44\n",
      "  Upper bound: 16238.44\n",
      "  Number of objectives: 1\n",
      "  Number of constraints: 5\n",
      "  Number of variables: 21\n",
      "  Number of nonzeros: 81\n",
      "  Sense: minimize\n",
      "# ----------------------------------------------------------\n",
      "#   Solver Information\n",
      "# ----------------------------------------------------------\n",
      "Solver: \n",
      "- Status: ok\n",
      "  Termination condition: optimal\n",
      "  Statistics: \n",
      "    Branch and bound: \n",
      "      Number of bounded subproblems: 0\n",
      "      Number of created subproblems: 0\n",
      "  Error rc: 0\n",
      "  Time: 0.012109756469726562\n",
      "# ----------------------------------------------------------\n",
      "#   Solution Information\n",
      "# ----------------------------------------------------------\n",
      "Solution: \n",
      "- number of solutions: 0\n",
      "  number of solutions displayed: 0\n"
     ]
    }
   ],
   "source": [
    "#optimising model and writing solver status\n",
    "SolverFactory('glpk', executable='/usr/bin/glpsol').solve(model).write()"
   ]
  },
  {
   "cell_type": "code",
   "execution_count": 11,
   "metadata": {
    "colab": {
     "base_uri": "https://localhost:8080/",
     "height": 799
    },
    "colab_type": "code",
    "id": "RMKtXh7bCcHc",
    "outputId": "3ceb6c6b-2631-40fb-836a-b88b7fa5cb96"
   },
   "outputs": [
    {
     "name": "stdout",
     "output_type": "stream",
     "text": [
      "\n",
      "optimal cost =  16238.44\n",
      "\n",
      "quantity of alloy at optimum\n",
      "\n",
      "procured qty of alloy 1 = 28.6 kgs\n",
      "inhouse qty of alloy 1 = 10.0 kgs\n",
      "\n",
      "\n",
      "procured qty of alloy 2 = 0.0 kgs\n",
      "inhouse qty of alloy 2 = 7.0 kgs\n",
      "\n",
      "\n",
      "procured qty of alloy 3 = 0.0 kgs\n",
      "inhouse qty of alloy 3 = 8.0 kgs\n",
      "\n",
      "\n",
      "procured qty of alloy 4 = 0.0 kgs\n",
      "inhouse qty of alloy 4 = 15.0 kgs\n",
      "\n",
      "\n",
      "procured qty of alloy 5 = 0.0 kgs\n",
      "inhouse qty of alloy 5 = 8.0 kgs\n",
      "\n",
      "\n",
      "procured qty of alloy 6 = 0.0 kgs\n",
      "inhouse qty of alloy 6 = 15.0 kgs\n",
      "\n",
      "\n",
      "procured qty of alloy 7 = 0.0 kgs\n",
      "inhouse qty of alloy 7 = 12.0 kgs\n",
      "\n",
      "\n",
      "procured qty of alloy 8 = 0.0 kgs\n",
      "inhouse qty of alloy 8 = 0.0 kgs\n",
      "\n",
      "\n",
      "procured qty of alloy 9 = 52.64 kgs\n",
      "inhouse qty of alloy 9 = 0.0 kgs\n",
      "\n",
      "\n",
      "procured qty of alloy 10 = 84.76 kgs\n",
      "inhouse qty of alloy 10 = 9.0 kgs\n",
      "\n",
      "\n"
     ]
    }
   ],
   "source": [
    "print('\\noptimal cost = ', model.objective())\n",
    "print('\\nquantity of alloy at optimum\\n')\n",
    "for i in col_indices:\n",
    "   print('procured qty of alloy',i+1,'=',model.procured_qty[i].value,'kgs')\n",
    "   print('inhouse qty of alloy',i+1,'=',model.inhouse_qty[i].value,'kgs')\n",
    "   print(\"\\n\")\n",
    "\n"
   ]
  },
  {
   "cell_type": "markdown",
   "metadata": {
    "colab_type": "text",
    "id": "3xmXzgikDdxW"
   },
   "source": [
    "Ans.4 \n",
    "There are only three alloys which are needed to be bought and quantites are \n",
    "alloy 10 = 84.76 kgs  \n",
    "alloy 9 = 52.64 kgs   \n",
    "alloy 1 = 28.6 kgs\n",
    "\n",
    "Since there are only three alloys to be bought so they can be ranked in both ways, either high to low or low to high in terms of purchase quantity.\n",
    "\n",
    "Ans.5\n",
    "Except alloy8 and alloy9 stock of all other alloys are completely used, this is so because their required quantity at optimum is more than that available in the stock.\n",
    "\n",
    "Ans.6\n",
    "Except alloy 1,9 and 10, no other alloys is needed to be acquired from market because their requird quantity at optimum is either less or same as the stocked quantity.\n",
    "\n",
    "\n",
    "\n"
   ]
  }
 ],
 "metadata": {
  "colab": {
   "collapsed_sections": [],
   "name": "203190015_IE507_Lab2_Ex3.ipynb",
   "provenance": []
  },
  "kernelspec": {
   "display_name": "Python 3",
   "language": "python",
   "name": "python3"
  },
  "language_info": {
   "codemirror_mode": {
    "name": "ipython",
    "version": 3
   },
   "file_extension": ".py",
   "mimetype": "text/x-python",
   "name": "python",
   "nbconvert_exporter": "python",
   "pygments_lexer": "ipython3",
   "version": "3.8.5"
  }
 },
 "nbformat": 4,
 "nbformat_minor": 1
}
