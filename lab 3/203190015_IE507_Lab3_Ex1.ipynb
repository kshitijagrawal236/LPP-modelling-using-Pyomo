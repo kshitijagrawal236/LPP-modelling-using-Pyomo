{
 "cells": [
  {
   "cell_type": "markdown",
   "metadata": {
    "colab_type": "text",
    "id": "zN3TsUK5Ci1G"
   },
   "source": [
    "min. x1-x2+x3  \n",
    "s.t. x1>=1, x2>=1, x3>=2,  \n",
    "2x1 − x2 + 2x3 ≤ 4,  \n",
    "2x1 − 3x2 + x3 ≤ −5,  \n",
    "−x1 + x2 − 2x3 ≤ −1.  \n"
   ]
  },
  {
   "cell_type": "code",
   "execution_count": 9,
   "metadata": {
    "colab": {},
    "colab_type": "code",
    "id": "OLyP0NjKEDzo"
   },
   "outputs": [],
   "source": [
    "!pip install -q pyomo\n",
    "!apt-get install -y -qq glpk-utils\n",
    "!apt-get install -y -qq coinor-cbc\n"
   ]
  },
  {
   "cell_type": "code",
   "execution_count": 10,
   "metadata": {
    "colab": {
     "base_uri": "https://localhost:8080/",
     "height": 503
    },
    "colab_type": "code",
    "id": "m5kSpNqSClCk",
    "outputId": "7a8197ff-4ceb-4d3b-ce2f-3a17d37dedbf"
   },
   "outputs": [
    {
     "name": "stdout",
     "output_type": "stream",
     "text": [
      "2 Set Declarations\n",
      "    constraint_index : Size=1, Index=None, Ordered=Insertion\n",
      "        Key  : Dimen : Domain : Size : Members\n",
      "        None :     1 :    Any :    3 : {1, 2, 3}\n",
      "    x_index : Size=1, Index=None, Ordered=False\n",
      "        Key  : Dimen : Domain : Size : Members\n",
      "        None :     1 :    Any :    3 : {0, 1, 2}\n",
      "\n",
      "1 Var Declarations\n",
      "    x : Size=3, Index=x_index\n",
      "        Key : Lower : Value : Upper : Fixed : Stale : Domain\n",
      "          0 :     1 :  None :   inf : False :  True :  Reals\n",
      "          1 :     1 :  None :   inf : False :  True :  Reals\n",
      "          2 :     2 :  None :   inf : False :  True :  Reals\n",
      "\n",
      "1 Objective Declarations\n",
      "    objective : Size=1, Index=None, Active=True\n",
      "        Key  : Active : Sense    : Expression\n",
      "        None :   True : minimize : x[0] - x[1] + x[2]\n",
      "\n",
      "1 Constraint Declarations\n",
      "    constraint : Size=3, Index=constraint_index, Active=True\n",
      "        Key : Lower : Body                   : Upper : Active\n",
      "          1 :  -Inf : 2*x[0] - x[1] + 2*x[2] :   4.0 :   True\n",
      "          2 :  -Inf : 2*x[0] - 3*x[1] + x[2] :  -5.0 :   True\n",
      "          3 :  -Inf : - x[0] + x[1] - 2*x[2] :  -1.0 :   True\n",
      "\n",
      "5 Declarations: x_index x constraint_index constraint objective\n"
     ]
    }
   ],
   "source": [
    "from pyomo.environ import *\n",
    "\n",
    "import numpy as np\n",
    "\n",
    "model=ConcreteModel()\n",
    "\n",
    "N=3\n",
    "M=3\n",
    "\n",
    "obj_coef=np.array([1,-1,1])\n",
    "\n",
    "constr_coef=np.array([[2,-1,2],\n",
    "                     [2,-3,1],\n",
    "                     [-1,1,-2]])\n",
    "\n",
    "\n",
    "\n",
    "constraint_rhs=np.array([4,-5,-1])\n",
    "\n",
    "lower_bounds=np.array([1,1,2])\n",
    "upper_bounds=np.array([np.inf,np.inf,np.inf])\n",
    "\n",
    "col_indices=np.arange(N)\n",
    "row_indices=np.arange(M)\n",
    "\n",
    "model.x=Var(col_indices)\n",
    "\n",
    "for i in col_indices:\n",
    "    model.x[i].setlb(lower_bounds[i])\n",
    "    model.x[i].setub(upper_bounds[i])\n",
    "\n",
    "\n",
    "model.constraint=ConstraintList()\n",
    "\n",
    "for i in row_indices:\n",
    "    model.constraint.add(sum(model.x[j]*constr_coef[i,j] for j in col_indices)<=constraint_rhs[i])\n",
    "\n",
    "model.objective=Objective(expr=summation(obj_coef,model.x),sense=minimize)\n",
    "\n",
    "model.pprint()\n",
    "\n",
    "cbc=SolverFactory('cbc')\n",
    "glpk=SolverFactory('glpk', executable='/usr/bin/glpsol')\n"
   ]
  },
  {
   "cell_type": "code",
   "execution_count": 11,
   "metadata": {
    "colab": {
     "base_uri": "https://localhost:8080/",
     "height": 555
    },
    "colab_type": "code",
    "id": "NAZBvV4CEbLK",
    "outputId": "f051c4f4-139a-4977-fc34-8060f05478aa"
   },
   "outputs": [
    {
     "name": "stdout",
     "output_type": "stream",
     "text": [
      "WARNING: Loading a SolverResults object with a warning status into\n",
      "    model=unknown;\n",
      "        message from solver=<undefined>\n",
      "cbcresult \n",
      "Problem: \n",
      "- Name: unknown\n",
      "  Lower bound: None\n",
      "  Upper bound: inf\n",
      "  Number of objectives: 1\n",
      "  Number of constraints: 4\n",
      "  Number of variables: 4\n",
      "  Number of nonzeros: 3\n",
      "  Sense: minimize\n",
      "Solver: \n",
      "- Status: warning\n",
      "  User time: -1.0\n",
      "  System time: 0.0\n",
      "  Wallclock time: 0.0\n",
      "  Termination condition: unbounded\n",
      "  Termination message: Model was proven to be unbounded.\n",
      "  Statistics: \n",
      "    Branch and bound: \n",
      "      Number of bounded subproblems: 0\n",
      "      Number of created subproblems: 0\n",
      "    Black box: \n",
      "      Number of iterations: 0\n",
      "  Error rc: 0\n",
      "  Time: 0.021604061126708984\n",
      "\n",
      "Solver Status: warning\n",
      "Solver Termaination Condition: unbounded\n"
     ]
    }
   ],
   "source": [
    "result_cbc=cbc.solve(model)\n",
    "print(\"cbcresult\",result_cbc)\n",
    "print(\"Solver Status:\",result_cbc.solver.status)\n",
    "print(\"Solver Termaination Condition:\",result_cbc.solver.termination_condition)"
   ]
  },
  {
   "cell_type": "markdown",
   "metadata": {
    "colab_type": "text",
    "id": "icMLopfBX-1T"
   },
   "source": [
    "On using coinor-cbc solver :\n",
    "Solver Status: warning \n",
    "Sover Termination Condition: unbounded\n",
    "\n",
    "The messages received above are quite clear. It is clearly mentioned that the problem is unbounded so it is aproaching -infinity in this case and hence the status shown is warning which is quite justified.  \n",
    "This happens because cbc is designed to give clear messages in these situations and the messages are nicely interpreted by pyomo."
   ]
  },
  {
   "cell_type": "code",
   "execution_count": 12,
   "metadata": {
    "colab": {
     "base_uri": "https://localhost:8080/",
     "height": 399
    },
    "colab_type": "code",
    "id": "1RhrL4XLEe-w",
    "outputId": "14e9e7e5-2f6c-4851-f69f-670ddb35c12a"
   },
   "outputs": [
    {
     "name": "stdout",
     "output_type": "stream",
     "text": [
      "glpkresult \n",
      "Problem: \n",
      "- Name: unknown\n",
      "  Lower bound: -inf\n",
      "  Upper bound: inf\n",
      "  Number of objectives: 1\n",
      "  Number of constraints: 4\n",
      "  Number of variables: 4\n",
      "  Number of nonzeros: 10\n",
      "  Sense: minimize\n",
      "Solver: \n",
      "- Status: ok\n",
      "  Termination condition: other\n",
      "  Statistics: \n",
      "    Branch and bound: \n",
      "      Number of bounded subproblems: 0\n",
      "      Number of created subproblems: 0\n",
      "  Error rc: 0\n",
      "  Time: 0.015077590942382812\n",
      "\n",
      "Solver Status: ok\n",
      "Solver Termaination Condition: other\n"
     ]
    }
   ],
   "source": [
    "result_glpk=glpk.solve(model)\n",
    "print(\"glpkresult\",result_glpk)\n",
    "print(\"Solver Status:\",result_glpk.solver.status)\n",
    "print(\"Solver Termaination Condition:\",result_glpk.solver.termination_condition)"
   ]
  },
  {
   "cell_type": "markdown",
   "metadata": {
    "colab_type": "text",
    "id": "V3Y7W-XHZXlR"
   },
   "source": [
    "On using glpk solver, the solver status is ok and termination condition is other. These messages do not give us very meaningful information about what is happening in the problem but one thing is clear that the problem is not solved to optimum otherwise termination condition would be optimal. But the Solver Status being ok does not make any sense here.\n",
    "\n",
    "The possible reasons for such ambiguous message might be that the glpk is not designed to give very clear message in such situations and its messages are not interpreted properly by pyomo."
   ]
  },
  {
   "cell_type": "code",
   "execution_count": 13,
   "metadata": {
    "colab": {
     "base_uri": "https://localhost:8080/",
     "height": 503
    },
    "colab_type": "code",
    "id": "HOaPSbINGOm6",
    "outputId": "11d72cd5-3146-4718-d7f6-1ce8cbaaffa2"
   },
   "outputs": [
    {
     "name": "stdout",
     "output_type": "stream",
     "text": [
      "2 Set Declarations\n",
      "    constraint_index : Size=1, Index=None, Ordered=Insertion\n",
      "        Key  : Dimen : Domain : Size : Members\n",
      "        None :     1 :    Any :    3 : {1, 2, 3}\n",
      "    x_index : Size=1, Index=None, Ordered=False\n",
      "        Key  : Dimen : Domain : Size : Members\n",
      "        None :     1 :    Any :    3 : {0, 1, 2}\n",
      "\n",
      "1 Var Declarations\n",
      "    x : Size=3, Index=x_index\n",
      "        Key : Lower : Value : Upper : Fixed : Stale : Domain\n",
      "          0 :     1 :  None :   inf : False :  True :  Reals\n",
      "          1 :     1 :  None :   inf : False :  True :  Reals\n",
      "          2 :     2 :  None :   inf : False :  True :  Reals\n",
      "\n",
      "1 Objective Declarations\n",
      "    objective : Size=1, Index=None, Active=True\n",
      "        Key  : Active : Sense    : Expression\n",
      "        None :   True : maximize : x[0] - x[1] + x[2]\n",
      "\n",
      "1 Constraint Declarations\n",
      "    constraint : Size=3, Index=constraint_index, Active=True\n",
      "        Key : Lower : Body                   : Upper : Active\n",
      "          1 :  -Inf : 2*x[0] - x[1] + 2*x[2] :   4.0 :   True\n",
      "          2 :  -Inf : 2*x[0] - 3*x[1] + x[2] :  -5.0 :   True\n",
      "          3 :  -Inf : - x[0] + x[1] - 2*x[2] :  -1.0 :   True\n",
      "\n",
      "5 Declarations: x_index x constraint_index constraint objective\n"
     ]
    }
   ],
   "source": [
    "#1st change:changing optimization sense\n",
    "model.objective.set_sense(maximize)\n",
    "model.pprint()"
   ]
  },
  {
   "cell_type": "code",
   "execution_count": 14,
   "metadata": {
    "colab": {
     "base_uri": "https://localhost:8080/",
     "height": 555
    },
    "colab_type": "code",
    "id": "8czwTb_SICSk",
    "outputId": "667a3869-cd2f-4394-8463-11d8ad9b8894"
   },
   "outputs": [
    {
     "name": "stdout",
     "output_type": "stream",
     "text": [
      "\n",
      "Problem: \n",
      "- Name: unknown\n",
      "  Lower bound: 0.4\n",
      "  Upper bound: 0.4\n",
      "  Number of objectives: 1\n",
      "  Number of constraints: 4\n",
      "  Number of variables: 4\n",
      "  Number of nonzeros: 3\n",
      "  Sense: maximize\n",
      "Solver: \n",
      "- Status: ok\n",
      "  User time: -1.0\n",
      "  System time: 0.0\n",
      "  Wallclock time: 0.0\n",
      "  Termination condition: optimal\n",
      "  Termination message: Model was solved to optimality (subject to tolerances), and an optimal solution is available.\n",
      "  Statistics: \n",
      "    Branch and bound: \n",
      "      Number of bounded subproblems: None\n",
      "      Number of created subproblems: None\n",
      "    Black box: \n",
      "      Number of iterations: 2\n",
      "  Error rc: 0\n",
      "  Time: 0.021485567092895508\n",
      "Solution: \n",
      "- number of solutions: 0\n",
      "  number of solutions displayed: 0\n",
      "\n",
      "solver status ok\n",
      "solver termination condition optimal\n"
     ]
    }
   ],
   "source": [
    "result_cbc=cbc.solve(model)\n",
    "print(result_cbc)\n",
    "print(\"solver status\",result_cbc.solver.status)\n",
    "print(\"solver termination condition\",result_cbc.solver.termination_condition)"
   ]
  },
  {
   "cell_type": "markdown",
   "metadata": {
    "colab_type": "text",
    "id": "wkv3RZ3EblY8"
   },
   "source": [
    "Solver Status is ok and termination condition is optimal. This indicates that the problem was solved and optimal condition is reached and hence the proper messages. "
   ]
  },
  {
   "cell_type": "code",
   "execution_count": 17,
   "metadata": {
    "colab": {
     "base_uri": "https://localhost:8080/",
     "height": 260
    },
    "colab_type": "code",
    "id": "PSZF0jeJcYJO",
    "outputId": "3e76ab1d-a262-40d6-87f9-bfb47241375f"
   },
   "outputs": [
    {
     "name": "stdout",
     "output_type": "stream",
     "text": [
      "\n",
      "Objective =  0.3999999999999999\n",
      "\n",
      "Decision Variables\n",
      "x[ 0 ] =  1.0\n",
      "x[ 1 ] =  3.2\n",
      "x[ 2 ] =  2.6\n",
      "\n",
      "Constraints\n",
      "constraint : Size=3\n",
      "    Key : Lower : Body               : Upper\n",
      "      1 :  None :                4.0 :   4.0\n",
      "      2 :  None : -5.000000000000002 :  -5.0\n",
      "      3 :  None :               -3.0 :  -1.0\n"
     ]
    }
   ],
   "source": [
    "print('\\nObjective = ', model.objective())\n",
    "\n",
    "print('\\nDecision Variables')\n",
    "for i in col_indices:\n",
    "  print('x[',i,'] = ', model.x[i].value)\n",
    "print('\\nConstraints')\n",
    "model.constraint.display()"
   ]
  },
  {
   "cell_type": "markdown",
   "metadata": {
    "colab_type": "text",
    "id": "Wtq1hdyOexan"
   },
   "source": [
    "Constraint 1 and 2 are active.  \n",
    "Constraint 3 is inactive."
   ]
  },
  {
   "cell_type": "code",
   "execution_count": 18,
   "metadata": {
    "colab": {
     "base_uri": "https://localhost:8080/",
     "height": 1000
    },
    "colab_type": "code",
    "id": "sfKz9sWOJbR7",
    "outputId": "9d3e4a6a-99d9-442b-fe64-69996084f392"
   },
   "outputs": [
    {
     "name": "stdout",
     "output_type": "stream",
     "text": [
      "2 Set Declarations\n",
      "    constraint_index : Size=1, Index=None, Ordered=Insertion\n",
      "        Key  : Dimen : Domain : Size : Members\n",
      "        None :     1 :    Any :    3 : {1, 2, 3}\n",
      "    x_index : Size=1, Index=None, Ordered=False\n",
      "        Key  : Dimen : Domain : Size : Members\n",
      "        None :     1 :    Any :    3 : {0, 1, 2}\n",
      "\n",
      "1 Var Declarations\n",
      "    x : Size=3, Index=x_index\n",
      "        Key : Lower : Value : Upper : Fixed : Stale : Domain\n",
      "          0 :     1 :   1.0 :   inf : False : False :  Reals\n",
      "          1 :     1 :   3.2 :     5 : False : False :  Reals\n",
      "          2 :     2 :   2.6 :   inf : False : False :  Reals\n",
      "\n",
      "1 Objective Declarations\n",
      "    objective : Size=1, Index=None, Active=True\n",
      "        Key  : Active : Sense    : Expression\n",
      "        None :   True : minimize : x[0] - x[1] + x[2]\n",
      "\n",
      "1 Constraint Declarations\n",
      "    constraint : Size=3, Index=constraint_index, Active=True\n",
      "        Key : Lower : Body                   : Upper : Active\n",
      "          1 :  -Inf : 2*x[0] - x[1] + 2*x[2] :   4.0 :   True\n",
      "          2 :  -Inf : 2*x[0] - 3*x[1] + x[2] :  -5.0 :   True\n",
      "          3 :  -Inf : - x[0] + x[1] - 2*x[2] :  -1.0 :   True\n",
      "\n",
      "5 Declarations: x_index x constraint_index constraint objective\n",
      "\n",
      "Problem: \n",
      "- Name: unknown\n",
      "  Lower bound: -1.5\n",
      "  Upper bound: -1.5\n",
      "  Number of objectives: 1\n",
      "  Number of constraints: 4\n",
      "  Number of variables: 4\n",
      "  Number of nonzeros: 3\n",
      "  Sense: minimize\n",
      "Solver: \n",
      "- Status: ok\n",
      "  User time: -1.0\n",
      "  System time: 0.0\n",
      "  Wallclock time: 0.0\n",
      "  Termination condition: optimal\n",
      "  Termination message: Model was solved to optimality (subject to tolerances), and an optimal solution is available.\n",
      "  Statistics: \n",
      "    Branch and bound: \n",
      "      Number of bounded subproblems: None\n",
      "      Number of created subproblems: None\n",
      "    Black box: \n",
      "      Number of iterations: 1\n",
      "  Error rc: 0\n",
      "  Time: 0.024951696395874023\n",
      "Solution: \n",
      "- number of solutions: 0\n",
      "  number of solutions displayed: 0\n",
      "\n",
      "solver status ok\n",
      "solver termination condition optimal\n"
     ]
    }
   ],
   "source": [
    "# 2nd change: setting upper bound on variable 2\n",
    "model.objective.set_sense(minimize)\n",
    "model.x[1].setub(5)\n",
    "model.pprint()\n",
    "result_cbc=cbc.solve(model)\n",
    "print(result_cbc)\n",
    "print(\"solver status\",result_cbc.solver.status)\n",
    "print(\"solver termination condition\",result_cbc.solver.termination_condition)"
   ]
  },
  {
   "cell_type": "markdown",
   "metadata": {
    "colab_type": "text",
    "id": "1Qisjca3e9dp"
   },
   "source": [
    "Solver Status is ok and termination condition is optimal. This indicates that the problem was solved and optimal condition is reached and hence the proper messages. "
   ]
  },
  {
   "cell_type": "code",
   "execution_count": 19,
   "metadata": {
    "colab": {
     "base_uri": "https://localhost:8080/",
     "height": 260
    },
    "colab_type": "code",
    "id": "1lsiVU19fM30",
    "outputId": "7c008daa-9130-41c3-9473-8bc76d211d10"
   },
   "outputs": [
    {
     "name": "stdout",
     "output_type": "stream",
     "text": [
      "\n",
      "Objective =  -1.5\n",
      "\n",
      "Decision Variables\n",
      "x[ 0 ] =  1.0\n",
      "x[ 1 ] =  5.0\n",
      "x[ 2 ] =  2.5\n",
      "\n",
      "Constraints\n",
      "constraint : Size=3\n",
      "    Key : Lower : Body  : Upper\n",
      "      1 :  None :   2.0 :   4.0\n",
      "      2 :  None : -10.5 :  -5.0\n",
      "      3 :  None :  -1.0 :  -1.0\n"
     ]
    }
   ],
   "source": [
    "print('\\nObjective = ', model.objective())\n",
    "\n",
    "print('\\nDecision Variables')\n",
    "for i in col_indices:\n",
    "  print('x[',i,'] = ', model.x[i].value)\n",
    "print('\\nConstraints')\n",
    "model.constraint.display()"
   ]
  },
  {
   "cell_type": "markdown",
   "metadata": {
    "colab_type": "text",
    "id": "h4um5-wQfrxE"
   },
   "source": [
    "Constraint 1 and 2 are inactive.  \n",
    "Constraint 3 is active"
   ]
  },
  {
   "cell_type": "code",
   "execution_count": 20,
   "metadata": {
    "colab": {
     "base_uri": "https://localhost:8080/",
     "height": 1000
    },
    "colab_type": "code",
    "id": "lZHTcBSDKbA8",
    "outputId": "c8a55d1f-9357-4257-f3a2-bb377d374088"
   },
   "outputs": [
    {
     "name": "stdout",
     "output_type": "stream",
     "text": [
      "2 Set Declarations\n",
      "    constraint_index : Size=1, Index=None, Ordered=Insertion\n",
      "        Key  : Dimen : Domain : Size : Members\n",
      "        None :     1 :    Any :    4 : {1, 2, 3, 4}\n",
      "    x_index : Size=1, Index=None, Ordered=False\n",
      "        Key  : Dimen : Domain : Size : Members\n",
      "        None :     1 :    Any :    3 : {0, 1, 2}\n",
      "\n",
      "1 Var Declarations\n",
      "    x : Size=3, Index=x_index\n",
      "        Key : Lower : Value : Upper : Fixed : Stale : Domain\n",
      "          0 :     1 :   1.0 :   inf : False : False :  Reals\n",
      "          1 :     1 :   5.0 :   inf : False : False :  Reals\n",
      "          2 :     2 :   2.5 :   inf : False : False :  Reals\n",
      "\n",
      "1 Objective Declarations\n",
      "    objective : Size=1, Index=None, Active=True\n",
      "        Key  : Active : Sense    : Expression\n",
      "        None :   True : minimize : x[0] - x[1] + x[2]\n",
      "\n",
      "1 Constraint Declarations\n",
      "    constraint : Size=4, Index=constraint_index, Active=True\n",
      "        Key : Lower : Body                   : Upper : Active\n",
      "          1 :  -Inf : 2*x[0] - x[1] + 2*x[2] :   4.0 :   True\n",
      "          2 :  -Inf : 2*x[0] - 3*x[1] + x[2] :  -5.0 :   True\n",
      "          3 :  -Inf : - x[0] + x[1] - 2*x[2] :  -1.0 :   True\n",
      "          4 :  -Inf :            x[1] - x[2] :   6.0 :   True\n",
      "\n",
      "5 Declarations: x_index x constraint_index constraint objective\n",
      "\n",
      "Problem: \n",
      "- Name: unknown\n",
      "  Lower bound: -5.0\n",
      "  Upper bound: -5.0\n",
      "  Number of objectives: 1\n",
      "  Number of constraints: 5\n",
      "  Number of variables: 4\n",
      "  Number of nonzeros: 3\n",
      "  Sense: minimize\n",
      "Solver: \n",
      "- Status: ok\n",
      "  User time: -1.0\n",
      "  System time: 0.0\n",
      "  Wallclock time: 0.0\n",
      "  Termination condition: optimal\n",
      "  Termination message: Model was solved to optimality (subject to tolerances), and an optimal solution is available.\n",
      "  Statistics: \n",
      "    Branch and bound: \n",
      "      Number of bounded subproblems: None\n",
      "      Number of created subproblems: None\n",
      "    Black box: \n",
      "      Number of iterations: 2\n",
      "  Error rc: 0\n",
      "  Time: 0.019318103790283203\n",
      "Solution: \n",
      "- number of solutions: 0\n",
      "  number of solutions displayed: 0\n",
      "\n",
      "solver status ok\n",
      "solver termination condition optimal\n"
     ]
    }
   ],
   "source": [
    "# 3rd change: adding another constraint \n",
    "model.x[1].setub(np.inf)\n",
    "new_constr_coef = [0,1,-1]\n",
    "new_constr_rhs = 6\n",
    "model.constraint.add(sum(new_constr_coef[j]*model.x[j] for j in col_indices) <= new_constr_rhs)\n",
    "model.pprint()\n",
    "result_cbc=cbc.solve(model)\n",
    "print(result_cbc)\n",
    "print(\"solver status\",result_cbc.solver.status)\n",
    "print(\"solver termination condition\",result_cbc.solver.termination_condition)\n"
   ]
  },
  {
   "cell_type": "markdown",
   "metadata": {
    "colab_type": "text",
    "id": "spaO5IZcf794"
   },
   "source": [
    "Solver Status is ok and termination condition is optimal. This indicates that the problem was solved and optimal condition is reached and hence the proper messages. "
   ]
  },
  {
   "cell_type": "code",
   "execution_count": 21,
   "metadata": {
    "colab": {
     "base_uri": "https://localhost:8080/",
     "height": 278
    },
    "colab_type": "code",
    "id": "ldOu6bpsf8m8",
    "outputId": "9ad48eb5-eb8d-425c-fb3a-187dc304b026"
   },
   "outputs": [
    {
     "name": "stdout",
     "output_type": "stream",
     "text": [
      "\n",
      "Objective =  -5.0\n",
      "\n",
      "Decision Variables\n",
      "x[ 0 ] =  1.0\n",
      "x[ 1 ] =  12.0\n",
      "x[ 2 ] =  6.0\n",
      "\n",
      "Constraints\n",
      "constraint : Size=4\n",
      "    Key : Lower : Body  : Upper\n",
      "      1 :  None :   2.0 :   4.0\n",
      "      2 :  None : -28.0 :  -5.0\n",
      "      3 :  None :  -1.0 :  -1.0\n",
      "      4 :  None :   6.0 :   6.0\n"
     ]
    }
   ],
   "source": [
    "print('\\nObjective = ', model.objective())\n",
    "\n",
    "print('\\nDecision Variables')\n",
    "for i in col_indices:\n",
    "  print('x[',i,'] = ', model.x[i].value)\n",
    "print('\\nConstraints')\n",
    "model.constraint.display()"
   ]
  },
  {
   "cell_type": "markdown",
   "metadata": {
    "colab_type": "text",
    "id": "eNv_2io9gY4D"
   },
   "source": [
    "Constraint 1 and 2 are inactive.  \n",
    "Constraint 3 and 4 are active."
   ]
  },
  {
   "cell_type": "code",
   "execution_count": 22,
   "metadata": {
    "colab": {
     "base_uri": "https://localhost:8080/",
     "height": 1000
    },
    "colab_type": "code",
    "id": "iAhn2j2kNPzg",
    "outputId": "f7730cdd-14d8-4273-bbe2-d3cb4e9e32fd"
   },
   "outputs": [
    {
     "name": "stdout",
     "output_type": "stream",
     "text": [
      "2 Set Declarations\n",
      "    constraint_index : Size=1, Index=None, Ordered=Insertion\n",
      "        Key  : Dimen : Domain : Size : Members\n",
      "        None :     1 :    Any :    5 : {1, 2, 3, 4, 5}\n",
      "    x_index : Size=1, Index=None, Ordered=False\n",
      "        Key  : Dimen : Domain : Size : Members\n",
      "        None :     1 :    Any :    3 : {0, 1, 2}\n",
      "\n",
      "1 Var Declarations\n",
      "    x : Size=3, Index=x_index\n",
      "        Key : Lower : Value : Upper : Fixed : Stale : Domain\n",
      "          0 :     1 :   1.0 :   inf : False : False :  Reals\n",
      "          1 :     1 :  12.0 :   inf : False : False :  Reals\n",
      "          2 :     2 :   6.0 :   inf : False : False :  Reals\n",
      "\n",
      "2 Objective Declarations\n",
      "    new_objective : Size=1, Index=None, Active=True\n",
      "        Key  : Active : Sense    : Expression\n",
      "        None :   True : minimize : x[0] + x[1] + x[2]\n",
      "    objective : Size=1, Index=None, Active=False\n",
      "        Key  : Active : Sense    : Expression\n",
      "        None :  False : minimize : x[0] - x[1] + x[2]\n",
      "\n",
      "1 Constraint Declarations\n",
      "    constraint : Size=5, Index=constraint_index, Active=True\n",
      "        Key : Lower : Body                   : Upper : Active\n",
      "          1 :  -Inf : 2*x[0] - x[1] + 2*x[2] :   4.0 :   True\n",
      "          2 :  -Inf : 2*x[0] - 3*x[1] + x[2] :  -5.0 :  False\n",
      "          3 :  -Inf : - x[0] + x[1] - 2*x[2] :  -1.0 :   True\n",
      "          4 :  -Inf :            x[1] - x[2] :   6.0 :  False\n",
      "          5 :  25.0 :            x[0] + x[1] :  +Inf :   True\n",
      "\n",
      "6 Declarations: x_index x constraint_index constraint objective new_objective\n",
      "\n",
      "Problem: \n",
      "- Name: unknown\n",
      "  Lower bound: 35.0\n",
      "  Upper bound: 35.0\n",
      "  Number of objectives: 1\n",
      "  Number of constraints: 4\n",
      "  Number of variables: 4\n",
      "  Number of nonzeros: 3\n",
      "  Sense: minimize\n",
      "Solver: \n",
      "- Status: ok\n",
      "  User time: -1.0\n",
      "  System time: 0.0\n",
      "  Wallclock time: 0.0\n",
      "  Termination condition: optimal\n",
      "  Termination message: Model was solved to optimality (subject to tolerances), and an optimal solution is available.\n",
      "  Statistics: \n",
      "    Branch and bound: \n",
      "      Number of bounded subproblems: None\n",
      "      Number of created subproblems: None\n",
      "    Black box: \n",
      "      Number of iterations: 3\n",
      "  Error rc: 0\n",
      "  Time: 0.02149486541748047\n",
      "Solution: \n",
      "- number of solutions: 0\n",
      "  number of solutions displayed: 0\n",
      "\n",
      "solver status ok\n",
      "solver termination condition optimal\n"
     ]
    }
   ],
   "source": [
    "#4th change: changing objective and one of the constraints\n",
    "\n",
    "model.constraint[4].deactivate()\n",
    "\n",
    "model.constraint[2].deactivate()\n",
    "model.constraint.add(expr=model.x[0]+model.x[1]>=25)\n",
    "\n",
    "model.objective.deactivate()\n",
    "model.new_objective=Objective(expr=model.x[0]+model.x[1]+model.x[2],sense=minimize)\n",
    "\n",
    "\n",
    "model.pprint()\n",
    "\n",
    "result_cbc=cbc.solve(model)\n",
    "print(result_cbc)\n",
    "print(\"solver status\",result_cbc.solver.status)\n",
    "print(\"solver termination condition\",result_cbc.solver.termination_condition)\n",
    "\n"
   ]
  },
  {
   "cell_type": "markdown",
   "metadata": {
    "colab_type": "text",
    "id": "Ljeo9Q6Qgo1i"
   },
   "source": [
    "Solver Status is ok and termination condition is optimal. This indicates that the problem was solved and optimal condition is reached and hence the proper messages. "
   ]
  },
  {
   "cell_type": "code",
   "execution_count": 24,
   "metadata": {
    "colab": {
     "base_uri": "https://localhost:8080/",
     "height": 260
    },
    "colab_type": "code",
    "id": "nT5mzEc9gqSW",
    "outputId": "03f24e49-3290-48dd-ca5f-4e373c055ca1"
   },
   "outputs": [
    {
     "name": "stdout",
     "output_type": "stream",
     "text": [
      "\n",
      "Objective =  35.0\n",
      "\n",
      "Decision Variables\n",
      "x[ 0 ] =  3.0\n",
      "x[ 1 ] =  22.0\n",
      "x[ 2 ] =  10.0\n",
      "\n",
      "Constraints\n",
      "constraint : Size=5\n",
      "    Key : Lower : Body : Upper\n",
      "      1 :  None :  4.0 :   4.0\n",
      "      3 :  None : -1.0 :  -1.0\n",
      "      5 :  25.0 : 25.0 :  None\n"
     ]
    }
   ],
   "source": [
    "print('\\nObjective = ', model.new_objective())\n",
    "\n",
    "print('\\nDecision Variables')\n",
    "for i in col_indices:\n",
    "  print('x[',i,'] = ', model.x[i].value)\n",
    "print('\\nConstraints')\n",
    "model.constraint.display()"
   ]
  },
  {
   "cell_type": "markdown",
   "metadata": {
    "colab_type": "text",
    "id": "EEqePVwlhiCg"
   },
   "source": [
    "All the 3 constraints are active."
   ]
  }
 ],
 "metadata": {
  "colab": {
   "collapsed_sections": [],
   "name": "203190015_IE507_Lab3_Ex1.ipynb",
   "provenance": []
  },
  "kernelspec": {
   "display_name": "Python 3",
   "language": "python",
   "name": "python3"
  },
  "language_info": {
   "codemirror_mode": {
    "name": "ipython",
    "version": 3
   },
   "file_extension": ".py",
   "mimetype": "text/x-python",
   "name": "python",
   "nbconvert_exporter": "python",
   "pygments_lexer": "ipython3",
   "version": "3.8.5"
  }
 },
 "nbformat": 4,
 "nbformat_minor": 1
}
