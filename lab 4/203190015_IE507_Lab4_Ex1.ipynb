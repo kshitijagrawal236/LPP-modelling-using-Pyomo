{
  "nbformat": 4,
  "nbformat_minor": 0,
  "metadata": {
    "colab": {
      "name": "203190015_IE507_Lab4_Ex1.ipynb",
      "provenance": [],
      "collapsed_sections": []
    },
    "kernelspec": {
      "name": "python3",
      "display_name": "Python 3"
    }
  },
  "cells": [
    {
      "cell_type": "code",
      "metadata": {
        "id": "qcZN35VXVkB8",
        "colab_type": "code",
        "colab": {}
      },
      "source": [
        "!pip install -q pyomo\n",
        "from pyomo.environ import * \n",
        "import numpy as np\n",
        "import pandas as pd\n",
        "!apt-get install -y -qq coinor-cbc"
      ],
      "execution_count": null,
      "outputs": []
    },
    {
      "cell_type": "code",
      "metadata": {
        "id": "mDpE0sJOWi92",
        "colab_type": "code",
        "colab": {
          "base_uri": "https://localhost:8080/",
          "height": 677
        },
        "outputId": "74a064ed-d349-496b-8ca9-a30b76d2a4f3"
      },
      "source": [
        "coef = np.loadtxt('lab4_ex1_coef.txt', delimiter=',')\n",
        "\n",
        "model=ConcreteModel()\n",
        "\n",
        "N=coef.shape[1]-1\n",
        "M=coef.shape[0]-1\n",
        "\n",
        "obj_coef = coef[0,:-1]\n",
        "constr_coef = coef[1:,:-1]\n",
        "\n",
        "constr_rhs = coef[1:,-1]\n",
        "\n",
        "col_indices = np.arange(N)\n",
        "\n",
        "model.x = Var(col_indices,domain=NonNegativeReals)\n",
        "\n",
        "row_indices = np.arange(M)\n",
        "\n",
        "model.constraints = ConstraintList()\n",
        "\n",
        "for i in row_indices:\n",
        "  model.constraints.add(summation(constr_coef[i],model.x) <= constr_rhs[i])\n",
        "\n",
        "model.objective = Objective(expr = summation(obj_coef,model.x), sense=maximize)\n",
        "\n",
        "model.pprint()\n",
        "\n",
        "opt_cbc = SolverFactory('cbc')\n",
        "\n",
        "result = opt_cbc.solve(model)\n",
        "\n",
        "print('Solver status:', result.solver.status)\n",
        "print('Solver termination condition:',result.solver.termination_condition)"
      ],
      "execution_count": 2,
      "outputs": [
        {
          "output_type": "stream",
          "text": [
            "2 Set Declarations\n",
            "    constraints_index : Size=1, Index=None, Ordered=Insertion\n",
            "        Key  : Dimen : Domain : Size : Members\n",
            "        None :     1 :    Any :    5 : {1, 2, 3, 4, 5}\n",
            "    x_index : Size=1, Index=None, Ordered=False\n",
            "        Key  : Dimen : Domain : Size : Members\n",
            "        None :     1 :    Any :    6 : {0, 1, 2, 3, 4, 5}\n",
            "\n",
            "1 Var Declarations\n",
            "    x : Size=6, Index=x_index\n",
            "        Key : Lower : Value : Upper : Fixed : Stale : Domain\n",
            "          0 :     0 :  None :  None : False :  True : NonNegativeReals\n",
            "          1 :     0 :  None :  None : False :  True : NonNegativeReals\n",
            "          2 :     0 :  None :  None : False :  True : NonNegativeReals\n",
            "          3 :     0 :  None :  None : False :  True : NonNegativeReals\n",
            "          4 :     0 :  None :  None : False :  True : NonNegativeReals\n",
            "          5 :     0 :  None :  None : False :  True : NonNegativeReals\n",
            "\n",
            "1 Objective Declarations\n",
            "    objective : Size=1, Index=None, Active=True\n",
            "        Key  : Active : Sense    : Expression\n",
            "        None :   True : maximize : - 0.5*x[0] - 1.25*x[1] - 5.0*x[2] + 3.0*x[3] + 10.0*x[4] + 25.0*x[5]\n",
            "\n",
            "1 Constraint Declarations\n",
            "    constraints : Size=5, Index=constraints_index, Active=True\n",
            "        Key : Lower : Body                           : Upper : Active\n",
            "          1 :  -Inf :     0.8*x[0] - 1.3*x[1] - x[3] :  12.0 :   True\n",
            "          2 :  -Inf :             x[1] - x[2] - x[4] :   0.6 :   True\n",
            "          3 :  -Inf :                    x[2] - x[5] :   1.2 :   True\n",
            "          4 :  -Inf : 0.5*x[0] + 0.8*x[1] + 4.0*x[2] :  45.0 :   True\n",
            "          5 :  -Inf :            0.9*x[0] + 1.5*x[1] :  27.0 :   True\n",
            "\n",
            "5 Declarations: x_index x constraints_index constraints objective\n",
            "WARNING: Loading a SolverResults object with a warning status into\n",
            "    model=unknown;\n",
            "        message from solver=<undefined>\n",
            "Solver status: warning\n",
            "Solver termination condition: unbounded\n"
          ],
          "name": "stdout"
        }
      ]
    },
    {
      "cell_type": "markdown",
      "metadata": {
        "id": "943BSQaNW-Su",
        "colab_type": "text"
      },
      "source": [
        "**Ex1.7** The solver termination condition is unbounded and status is warning. This has happened because the problem we are trying to solve has a unbounded feasible region and is and hence the objective function is taking value infinity hence the warning status is obtained.\n",
        "\n",
        "The remedy for this situation is that I changed the sense of objective function to minimisation."
      ]
    },
    {
      "cell_type": "code",
      "metadata": {
        "id": "PUGvbbguYLVv",
        "colab_type": "code",
        "colab": {
          "base_uri": "https://localhost:8080/",
          "height": 382
        },
        "outputId": "b143842f-d1e0-4efe-fbe9-b475cfe7cba7"
      },
      "source": [
        "#changing it to minimisation problem and then solving  \n",
        "model.objective.set_sense(minimize)\n",
        "\n",
        "opt_cbc = SolverFactory('cbc')\n",
        "\n",
        "result = opt_cbc.solve(model)\n",
        "print('Solver status:', result.solver.status)\n",
        "print('Solver termination condition:',result.solver.termination_condition)\n",
        "\n",
        "print('\\nObjective = ', model.objective())\n",
        "\n",
        "print('\\nDecision Variables')\n",
        "for i in col_indices:\n",
        "  print('x[',i,'] = ', model.x[i].value)\n",
        "\n",
        "print('\\nConstraints')\n",
        "model.constraints.display()"
      ],
      "execution_count": 4,
      "outputs": [
        {
          "output_type": "stream",
          "text": [
            "Solver status: ok\n",
            "Solver termination condition: optimal\n",
            "\n",
            "Objective =  -17.2125\n",
            "\n",
            "Decision Variables\n",
            "x[ 0 ] =  17.925\n",
            "x[ 1 ] =  1.8\n",
            "x[ 2 ] =  1.2\n",
            "x[ 3 ] =  0.0\n",
            "x[ 4 ] =  0.0\n",
            "x[ 5 ] =  0.0\n",
            "\n",
            "Constraints\n",
            "constraints : Size=5\n",
            "    Key : Lower : Body               : Upper\n",
            "      1 :  None : 12.000000000000002 :  12.0\n",
            "      2 :  None : 0.6000000000000001 :   0.6\n",
            "      3 :  None :                1.2 :   1.2\n",
            "      4 :  None :            15.2025 :  45.0\n",
            "      5 :  None :            18.8325 :  27.0\n"
          ],
          "name": "stdout"
        }
      ]
    },
    {
      "cell_type": "markdown",
      "metadata": {
        "id": "NEZsox8GY8cz",
        "colab_type": "text"
      },
      "source": [
        "**Ex 1.9** The value of objective function and decision variables are printed above.\n",
        "\n",
        "Constraints 1,2 and 3 active.  \n",
        "Constraints 4 and 5 are inactive."
      ]
    }
  ]
}