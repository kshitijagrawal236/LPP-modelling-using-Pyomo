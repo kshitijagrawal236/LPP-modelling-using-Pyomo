{
  "nbformat": 4,
  "nbformat_minor": 0,
  "metadata": {
    "colab": {
      "name": "203190015_IE507_Lab4_Ex2.ipynb",
      "provenance": [],
      "collapsed_sections": []
    },
    "kernelspec": {
      "name": "python3",
      "display_name": "Python 3"
    }
  },
  "cells": [
    {
      "cell_type": "code",
      "metadata": {
        "id": "sPeioe07amqW",
        "colab_type": "code",
        "colab": {}
      },
      "source": [
        "!pip install -q pyomo\n",
        "from pyomo.environ import * \n",
        "import numpy as np\n",
        "import pandas as pd\n",
        "!apt-get install -y -qq coinor-cbc"
      ],
      "execution_count": null,
      "outputs": []
    },
    {
      "cell_type": "code",
      "metadata": {
        "id": "Vmt9-wp1arcp",
        "colab_type": "code",
        "colab": {
          "base_uri": "https://localhost:8080/",
          "height": 208
        },
        "outputId": "d713c674-d190-475a-bf49-1b8062d372f4"
      },
      "source": [
        "coef = np.loadtxt('lab4_ex2_lp_ip_coef.txt', delimiter=',')\n",
        "\n",
        "model=ConcreteModel()\n",
        "\n",
        "N=coef.shape[1]-1\n",
        "M=coef.shape[0]-1\n",
        "\n",
        "obj_coef = coef[0,:-1]\n",
        "constr_coef = coef[1:,:-1]\n",
        "\n",
        "constr_rhs = coef[1:,-1]\n",
        "\n",
        "col_indices = np.arange(N)\n",
        "\n",
        "model.x = Var(col_indices,domain=Binary)\n",
        "\n",
        "row_indices = np.arange(M)\n",
        "\n",
        "model.constraints = ConstraintList()\n",
        "\n",
        "for i in row_indices:\n",
        "  model.constraints.add(summation(constr_coef[i],model.x) <= constr_rhs[i])\n",
        "\n",
        "model.objective = Objective(expr = summation(obj_coef,model.x), sense=maximize)\n",
        "\n",
        "opt_cbc = SolverFactory('cbc')\n",
        "\n",
        "result = opt_cbc.solve(model)\n",
        "\n",
        "print('\\nObjective = ', model.objective())\n",
        "print(\"\\nsolver time\",result.solver.time)\n",
        "print(\"solver statistics\",result.solver.statistics)"
      ],
      "execution_count": 3,
      "outputs": [
        {
          "output_type": "stream",
          "text": [
            "\n",
            "Objective =  295828.0\n",
            "\n",
            "solver time 65.8500497341156\n",
            "solver statistics \n",
            "Branch and bound: \n",
            "  Number of bounded subproblems: 347044\n",
            "  Number of created subproblems: 347044\n",
            "Black box: \n",
            "  Number of iterations: 1407089\n",
            "\n"
          ],
          "name": "stdout"
        }
      ]
    },
    {
      "cell_type": "code",
      "metadata": {
        "id": "qw8rTiyCdROI",
        "colab_type": "code",
        "colab": {
          "base_uri": "https://localhost:8080/",
          "height": 208
        },
        "outputId": "d7c50497-a345-47e4-c58b-d2e22014cca8"
      },
      "source": [
        "#solving corresponding LP problem by removing the integer restrictions from decision variables\n",
        "\n",
        "model.x.domain=NonNegativeReals\n",
        "\n",
        "lower_bound = 0\n",
        "upper_bound = 1\n",
        "\n",
        "model.x.setlb(lower_bound)\n",
        "model.x.setub(upper_bound)\n",
        "\n",
        "opt_cbc = SolverFactory('cbc')\n",
        "\n",
        "result = opt_cbc.solve(model)\n",
        "\n",
        "print('\\nObjective = ', model.objective())\n",
        "print(\"\\nsolver time\",result.solver.time)\n",
        "print(\"solver statistics\",result.solver.statistics)\n"
      ],
      "execution_count": 6,
      "outputs": [
        {
          "output_type": "stream",
          "text": [
            "\n",
            "Objective =  295896.37697236\n",
            "\n",
            "solver time 0.024948835372924805\n",
            "solver statistics \n",
            "Branch and bound: \n",
            "  Number of bounded subproblems: None\n",
            "  Number of created subproblems: None\n",
            "Black box: \n",
            "  Number of iterations: 18\n",
            "\n"
          ],
          "name": "stdout"
        }
      ]
    },
    {
      "cell_type": "markdown",
      "metadata": {
        "id": "I90HQCUqf2CL",
        "colab_type": "text"
      },
      "source": [
        "Comparing the time in two cases   \n",
        "MILP solver time is 65.85 while LP solver time is approximately 0.025. So time taken in solving MILP is approximately 2600 times more than that taken in solving LP."
      ]
    }
  ]
}