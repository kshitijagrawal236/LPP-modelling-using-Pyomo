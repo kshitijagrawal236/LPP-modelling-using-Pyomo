{
  "nbformat": 4,
  "nbformat_minor": 0,
  "metadata": {
    "colab": {
      "name": "203190015_IE507_Lab4_Ex3.ipynb",
      "provenance": [],
      "collapsed_sections": []
    },
    "kernelspec": {
      "name": "python3",
      "display_name": "Python 3"
    }
  },
  "cells": [
    {
      "cell_type": "markdown",
      "metadata": {
        "id": "zUhnSBumNic1",
        "colab_type": "text"
      },
      "source": [
        "**Ex3.4 Mathematica Modelling of given problem**  \n",
        "Let us denote following symbols as decision variables for the corresponding Drone Models  \n",
        "Sankalp:x0  \n",
        "Kartav: x1  \n",
        "Saahas: x2  \n",
        "Vijay: x3  \n",
        "Lakshya: x4\n",
        "\n",
        "Objective is to maximise total carrying capacity(kgs)  \n",
        "Max. 15*x0 + 10*x1 + 20*x2 + 10*x3 + 15*x4\n",
        "\n",
        "Constraints  \n",
        "Budget constraint: 4*x0+ 3.5*x1+ 5*x2+ 4*x3+ 4.5*x4 <=29  \n",
        "Space constraint: 3*x0+ 3.25*x1+ 4*x2+ 2.75*x3+ 2.5*x4 <=37\n",
        "\n",
        "x0,x1,x2,x3,x4 are all non negative integers."
      ]
    },
    {
      "cell_type": "code",
      "metadata": {
        "id": "FkcE6jiv5ksH",
        "colab_type": "code",
        "colab": {}
      },
      "source": [
        "!pip install -q pyomo\n",
        "from pyomo.environ import * \n",
        "import numpy as np\n",
        "import pandas as pd\n",
        "!apt-get install -y -qq coinor-cbc"
      ],
      "execution_count": 29,
      "outputs": []
    },
    {
      "cell_type": "code",
      "metadata": {
        "id": "-nRZ1gHS6Pbp",
        "colab_type": "code",
        "colab": {
          "base_uri": "https://localhost:8080/",
          "height": 521
        },
        "outputId": "c573a337-d6e3-4070-f0b0-b3ce564402b8"
      },
      "source": [
        "data_csvfile = pd.read_csv('lab4_ex3.csv')\n",
        "\n",
        "model=ConcreteModel()\n",
        "\n",
        "N = len(data_csvfile.index)\n",
        "M = 2\n",
        "\n",
        "col_indices = range(N)\n",
        "\n",
        "model.x = Var(col_indices,domain=NonNegativeIntegers)\n",
        "\n",
        "model.objective = Objective(expr=summation(data_csvfile['Capacity'], model.x),sense=maximize)\n",
        "\n",
        "model.constraints = ConstraintList()\n",
        "\n",
        "#budget constraint\n",
        "model.constraints.add(summation(data_csvfile['Cost'], model.x) <= 29)\n",
        "\n",
        "#space constraint\n",
        "model.constraints.add(summation(data_csvfile['Space Required'], model.x) <= 37)\n",
        "\n",
        "model.pprint()\n"
      ],
      "execution_count": 30,
      "outputs": [
        {
          "output_type": "stream",
          "text": [
            "2 Set Declarations\n",
            "    constraints_index : Size=1, Index=None, Ordered=Insertion\n",
            "        Key  : Dimen : Domain : Size : Members\n",
            "        None :     1 :    Any :    2 : {1, 2}\n",
            "    x_index : Size=1, Index=None, Ordered=False\n",
            "        Key  : Dimen : Domain : Size : Members\n",
            "        None :     1 :    Any :    5 : {0, 1, 2, 3, 4}\n",
            "\n",
            "1 Var Declarations\n",
            "    x : Size=5, Index=x_index\n",
            "        Key : Lower : Value : Upper : Fixed : Stale : Domain\n",
            "          0 :     0 :  None :  None : False :  True : NonNegativeIntegers\n",
            "          1 :     0 :  None :  None : False :  True : NonNegativeIntegers\n",
            "          2 :     0 :  None :  None : False :  True : NonNegativeIntegers\n",
            "          3 :     0 :  None :  None : False :  True : NonNegativeIntegers\n",
            "          4 :     0 :  None :  None : False :  True : NonNegativeIntegers\n",
            "\n",
            "1 Objective Declarations\n",
            "    objective : Size=1, Index=None, Active=True\n",
            "        Key  : Active : Sense    : Expression\n",
            "        None :   True : maximize : 15*x[0] + 10*x[1] + 20*x[2] + 10*x[3] + 15*x[4]\n",
            "\n",
            "1 Constraint Declarations\n",
            "    constraints : Size=2, Index=constraints_index, Active=True\n",
            "        Key : Lower : Body                                                   : Upper : Active\n",
            "          1 :  -Inf :   4.0*x[0] + 3.5*x[1] + 5.0*x[2] + 4.0*x[3] + 4.5*x[4] :  29.0 :   True\n",
            "          2 :  -Inf : 3.0*x[0] + 3.25*x[1] + 4.0*x[2] + 2.75*x[3] + 2.5*x[4] :  37.0 :   True\n",
            "\n",
            "5 Declarations: x_index x objective constraints_index constraints\n"
          ],
          "name": "stdout"
        }
      ]
    },
    {
      "cell_type": "code",
      "metadata": {
        "id": "_R7J_lZh97aQ",
        "colab_type": "code",
        "colab": {
          "base_uri": "https://localhost:8080/",
          "height": 173
        },
        "outputId": "9fb65291-9a3b-488f-f4c8-db55c30941f8"
      },
      "source": [
        "opt_cbc=SolverFactory('cbc')\n",
        "result = opt_cbc.solve(model)\n",
        "\n",
        "print('\\nMaximum Capacity = ', model.objective())\n",
        "\n",
        "print('\\nDecision Variables')\n",
        "for i in col_indices:\n",
        "  print('Number of Drone',data_csvfile['Drone'][i], model.x[i].value)\n"
      ],
      "execution_count": 32,
      "outputs": [
        {
          "output_type": "stream",
          "text": [
            "\n",
            "Maximum Capacity =  115.0\n",
            "\n",
            "Decision Variables\n",
            "Number of Drone Sankalp 1.0\n",
            "Number of Drone Kartav 0.0\n",
            "Number of Drone Saahas 5.0\n",
            "Number of Drone Vijay 0.0\n",
            "Number of Drone Lakshya 0.0\n"
          ],
          "name": "stdout"
        }
      ]
    },
    {
      "cell_type": "markdown",
      "metadata": {
        "id": "REiMFgauQbfg",
        "colab_type": "text"
      },
      "source": [
        "**3.6** Maximum Capacity =  115.0\n",
        "\n",
        "Decision Variables  \n",
        "Number of Drone Sankalp 1.0  \n",
        "Number of Drone Kartav 0.0  \n",
        "Number of Drone Saahas 5.0  \n",
        "Number of Drone Vijay 0.0  \n",
        "Number of Drone Lakshya 0.0   "
      ]
    },
    {
      "cell_type": "code",
      "metadata": {
        "id": "qSFO2vQT-mno",
        "colab_type": "code",
        "colab": {
          "base_uri": "https://localhost:8080/",
          "height": 173
        },
        "outputId": "11c2392d-7682-40f0-c6bd-363f0514fd14"
      },
      "source": [
        "# 3.7 removing integer constraints\n",
        "model.x.domain=NonNegativeReals\n",
        "\n",
        "opt_cbc=SolverFactory('cbc')\n",
        "result = opt_cbc.solve(model)\n",
        "\n",
        "print('\\nMaximum Capacity = ', model.objective())\n",
        "\n",
        "print('\\nDecision Variables')\n",
        "for i in col_indices:\n",
        "  print('Number of Drone',data_csvfile['Drone'][i], model.x[i].value)"
      ],
      "execution_count": 33,
      "outputs": [
        {
          "output_type": "stream",
          "text": [
            "\n",
            "Maximum Capacity =  116.0\n",
            "\n",
            "Decision Variables\n",
            "Number of Drone Sankalp 0.0\n",
            "Number of Drone Kartav 0.0\n",
            "Number of Drone Saahas 5.8\n",
            "Number of Drone Vijay 0.0\n",
            "Number of Drone Lakshya 0.0\n"
          ],
          "name": "stdout"
        }
      ]
    },
    {
      "cell_type": "markdown",
      "metadata": {
        "id": "gIjWitWZ_0oj",
        "colab_type": "text"
      },
      "source": [
        "**3.8** Solution of MILP can not be obtained by just rounding off the solution of LP for this problem as the solution obtained in two situations assigns diffrent values of decison variables and hence the objective funtion."
      ]
    },
    {
      "cell_type": "code",
      "metadata": {
        "id": "WaBQUGtIAH0c",
        "colab_type": "code",
        "colab": {
          "base_uri": "https://localhost:8080/",
          "height": 173
        },
        "outputId": "6dbe471b-e5a8-49fc-b329-1c340a310f20"
      },
      "source": [
        "#3.9 with LP\n",
        "#changing constraints\n",
        "model.constraints[1].deactivate()\n",
        "model.constraints[2].deactivate()\n",
        "\n",
        "#budget constraint\n",
        "model.constraints.add(summation(data_csvfile['Cost'], model.x) <= 41)\n",
        "\n",
        "#space constraint\n",
        "model.constraints.add(summation(data_csvfile['Space Required'], model.x) <= 47)\n",
        "\n",
        "\n",
        "\n",
        "opt_cbc=SolverFactory('cbc')\n",
        "result = opt_cbc.solve(model)\n",
        "\n",
        "print('\\nMaximum Capacity = ', model.objective())\n",
        "\n",
        "print('\\nDecision Variables')\n",
        "for i in col_indices:\n",
        "  print('Number of Drone',data_csvfile['Drone'][i], model.x[i].value)\n",
        "\n"
      ],
      "execution_count": 34,
      "outputs": [
        {
          "output_type": "stream",
          "text": [
            "\n",
            "Maximum Capacity =  164.0\n",
            "\n",
            "Decision Variables\n",
            "Number of Drone Sankalp 0.0\n",
            "Number of Drone Kartav 0.0\n",
            "Number of Drone Saahas 8.2\n",
            "Number of Drone Vijay 0.0\n",
            "Number of Drone Lakshya 0.0\n"
          ],
          "name": "stdout"
        }
      ]
    },
    {
      "cell_type": "code",
      "metadata": {
        "id": "cw8M2K_4CDyH",
        "colab_type": "code",
        "colab": {
          "base_uri": "https://localhost:8080/",
          "height": 173
        },
        "outputId": "d91cb389-2530-49a0-d465-fe32cc0f9ecc"
      },
      "source": [
        "#3.9 with MILP\n",
        "\n",
        "model.x.domain=NonNegativeIntegers\n",
        "\n",
        "opt_cbc=SolverFactory('cbc')\n",
        "result = opt_cbc.solve(model)\n",
        "\n",
        "print('\\nMaximum Capacity = ', model.objective())\n",
        "\n",
        "print('\\nDecision Variables')\n",
        "for i in col_indices:\n",
        "  print('Number of Drone',data_csvfile['Drone'][i], model.x[i].value)"
      ],
      "execution_count": 35,
      "outputs": [
        {
          "output_type": "stream",
          "text": [
            "\n",
            "Maximum Capacity =  160.0\n",
            "\n",
            "Decision Variables\n",
            "Number of Drone Sankalp 0.0\n",
            "Number of Drone Kartav 0.0\n",
            "Number of Drone Saahas 8.0\n",
            "Number of Drone Vijay 0.0\n",
            "Number of Drone Lakshya 0.0\n"
          ],
          "name": "stdout"
        }
      ]
    },
    {
      "cell_type": "markdown",
      "metadata": {
        "id": "-Z4I2M5ISNqM",
        "colab_type": "text"
      },
      "source": [
        "**3.9** On increasing the budget to 41 crores and space avaiable to 47 sq.m. we see the follwin change in objective function  \n",
        "LP objective value increased from 116 to 164\n",
        "MILP objective value increased from 115 to 160"
      ]
    },
    {
      "cell_type": "code",
      "metadata": {
        "id": "2Vsun6P9Cuoy",
        "colab_type": "code",
        "colab": {
          "base_uri": "https://localhost:8080/",
          "height": 173
        },
        "outputId": "5da8add0-b963-4f32-96aa-7b88813d2e9f"
      },
      "source": [
        "# 3.10 (a)LP\n",
        "\n",
        "model.x.domain=NonNegativeReals\n",
        "\n",
        "model.constraints[3].deactivate()\n",
        "model.constraints[4].deactivate()\n",
        "\n",
        "#cost constraint\n",
        "model.constraints.add(summation(data_csvfile['Cost'], model.x) <= 39)\n",
        "\n",
        "#space constraint\n",
        "model.constraints.add(summation(data_csvfile['Space Required'], model.x) <= 49)\n",
        "\n",
        "opt_cbc=SolverFactory('cbc')\n",
        "result = opt_cbc.solve(model)\n",
        "\n",
        "print('\\nMaximum Capacity = ', model.objective())\n",
        "\n",
        "print('\\nDecision Variables')\n",
        "for i in col_indices:\n",
        "  print('Number of Drone',data_csvfile['Drone'][i], model.x[i].value)"
      ],
      "execution_count": 37,
      "outputs": [
        {
          "output_type": "stream",
          "text": [
            "\n",
            "Maximum Capacity =  156.0\n",
            "\n",
            "Decision Variables\n",
            "Number of Drone Sankalp 0.0\n",
            "Number of Drone Kartav 0.0\n",
            "Number of Drone Saahas 7.8\n",
            "Number of Drone Vijay 0.0\n",
            "Number of Drone Lakshya 0.0\n"
          ],
          "name": "stdout"
        }
      ]
    },
    {
      "cell_type": "code",
      "metadata": {
        "id": "oq4AW_ZEDg9P",
        "colab_type": "code",
        "colab": {
          "base_uri": "https://localhost:8080/",
          "height": 173
        },
        "outputId": "fdcd01cf-2bbd-4d31-efe5-d767cc1454d3"
      },
      "source": [
        "#3.10 (a)MILP\n",
        "\n",
        "model.x.domain=NonNegativeIntegers\n",
        "\n",
        "opt_cbc=SolverFactory('cbc')\n",
        "result = opt_cbc.solve(model)\n",
        "\n",
        "print('\\nMaximum Capacity = ', model.objective())\n",
        "\n",
        "print('\\nDecision Variables')\n",
        "for i in col_indices:\n",
        "  print('Number of Drone',data_csvfile['Drone'][i], model.x[i].value)\n"
      ],
      "execution_count": 38,
      "outputs": [
        {
          "output_type": "stream",
          "text": [
            "\n",
            "Maximum Capacity =  155.0\n",
            "\n",
            "Decision Variables\n",
            "Number of Drone Sankalp 1.0\n",
            "Number of Drone Kartav 0.0\n",
            "Number of Drone Saahas 7.0\n",
            "Number of Drone Vijay 0.0\n",
            "Number of Drone Lakshya 0.0\n"
          ],
          "name": "stdout"
        }
      ]
    },
    {
      "cell_type": "code",
      "metadata": {
        "id": "ih05sdB3Dvat",
        "colab_type": "code",
        "colab": {
          "base_uri": "https://localhost:8080/",
          "height": 173
        },
        "outputId": "5f56607d-ff0a-4aef-a0b9-2a00c4863349"
      },
      "source": [
        "# 3.10 (b)LP\n",
        "\n",
        "model.x.domain=NonNegativeReals\n",
        "\n",
        "model.constraints[5].deactivate()\n",
        "model.constraints[6].deactivate()\n",
        "\n",
        "#cost constraint\n",
        "model.constraints.add(summation(data_csvfile['Cost'], model.x) <= 37)\n",
        "\n",
        "#space constraint\n",
        "model.constraints.add(summation(data_csvfile['Space Required'], model.x) <= 51)\n",
        "\n",
        "\n",
        "opt_cbc=SolverFactory('cbc')\n",
        "result = opt_cbc.solve(model)\n",
        "\n",
        "print('\\nMaximum Capacity = ', model.objective())\n",
        "\n",
        "print('\\nDecision Variables')\n",
        "for i in col_indices:\n",
        "  print('Number of Drone',data_csvfile['Drone'][i], model.x[i].value)"
      ],
      "execution_count": 39,
      "outputs": [
        {
          "output_type": "stream",
          "text": [
            "\n",
            "Maximum Capacity =  148.0\n",
            "\n",
            "Decision Variables\n",
            "Number of Drone Sankalp 0.0\n",
            "Number of Drone Kartav 0.0\n",
            "Number of Drone Saahas 7.4\n",
            "Number of Drone Vijay 0.0\n",
            "Number of Drone Lakshya 0.0\n"
          ],
          "name": "stdout"
        }
      ]
    },
    {
      "cell_type": "code",
      "metadata": {
        "id": "hWeCqrCEEC_B",
        "colab_type": "code",
        "colab": {
          "base_uri": "https://localhost:8080/",
          "height": 173
        },
        "outputId": "5ddc7b14-582b-44a2-943f-309f26ca7dfe"
      },
      "source": [
        "# 3.10 (b)MILP\n",
        "\n",
        "model.x.domain=NonNegativeIntegers\n",
        "\n",
        "opt_cbc=SolverFactory('cbc')\n",
        "result = opt_cbc.solve(model)\n",
        "\n",
        "print('\\nMaximum Capacity = ', model.objective())\n",
        "\n",
        "print('\\nDecision Variables')\n",
        "for i in col_indices:\n",
        "  print('Number of Drone',data_csvfile['Drone'][i], model.x[i].value)"
      ],
      "execution_count": 40,
      "outputs": [
        {
          "output_type": "stream",
          "text": [
            "\n",
            "Maximum Capacity =  145.0\n",
            "\n",
            "Decision Variables\n",
            "Number of Drone Sankalp 3.0\n",
            "Number of Drone Kartav 0.0\n",
            "Number of Drone Saahas 5.0\n",
            "Number of Drone Vijay 0.0\n",
            "Number of Drone Lakshya 0.0\n"
          ],
          "name": "stdout"
        }
      ]
    },
    {
      "cell_type": "code",
      "metadata": {
        "id": "YStNdecXEce1",
        "colab_type": "code",
        "colab": {
          "base_uri": "https://localhost:8080/",
          "height": 173
        },
        "outputId": "819cb1aa-5133-45bc-ef2e-360f48949e74"
      },
      "source": [
        "# 3.10 (c)LP\n",
        "\n",
        "model.x.domain=NonNegativeReals\n",
        "\n",
        "model.constraints[7].deactivate()\n",
        "model.constraints[8].deactivate()\n",
        "\n",
        "#cost constraint\n",
        "model.constraints.add(summation(data_csvfile['Cost'], model.x) <= 35)\n",
        "\n",
        "#space constraint\n",
        "model.constraints.add(summation(data_csvfile['Space Required'], model.x) <= 53)\n",
        "\n",
        "\n",
        "opt_cbc=SolverFactory('cbc')\n",
        "result = opt_cbc.solve(model)\n",
        "\n",
        "print('\\nMaximum Capacity = ', model.objective())\n",
        "\n",
        "print('\\nDecision Variables')\n",
        "for i in col_indices:\n",
        "  print('Number of Drone',data_csvfile['Drone'][i], model.x[i].value)"
      ],
      "execution_count": 41,
      "outputs": [
        {
          "output_type": "stream",
          "text": [
            "\n",
            "Maximum Capacity =  140.0\n",
            "\n",
            "Decision Variables\n",
            "Number of Drone Sankalp 0.0\n",
            "Number of Drone Kartav 0.0\n",
            "Number of Drone Saahas 7.0\n",
            "Number of Drone Vijay 0.0\n",
            "Number of Drone Lakshya 0.0\n"
          ],
          "name": "stdout"
        }
      ]
    },
    {
      "cell_type": "code",
      "metadata": {
        "id": "deZxCbMwErYE",
        "colab_type": "code",
        "colab": {
          "base_uri": "https://localhost:8080/",
          "height": 173
        },
        "outputId": "59c81d21-4a62-4b77-db09-dbe50705656c"
      },
      "source": [
        "# 3.10 (c)MILP\n",
        "\n",
        "model.x.domain=NonNegativeIntegers\n",
        "\n",
        "opt_cbc=SolverFactory('cbc')\n",
        "result = opt_cbc.solve(model)\n",
        "\n",
        "print('\\nMaximum Capacity = ', model.objective())\n",
        "\n",
        "print('\\nDecision Variables')\n",
        "for i in col_indices:\n",
        "  print('Number of Drone',data_csvfile['Drone'][i], model.x[i].value)"
      ],
      "execution_count": 42,
      "outputs": [
        {
          "output_type": "stream",
          "text": [
            "\n",
            "Maximum Capacity =  140.0\n",
            "\n",
            "Decision Variables\n",
            "Number of Drone Sankalp 0.0\n",
            "Number of Drone Kartav 0.0\n",
            "Number of Drone Saahas 7.0\n",
            "Number of Drone Vijay 0.0\n",
            "Number of Drone Lakshya 0.0\n"
          ],
          "name": "stdout"
        }
      ]
    },
    {
      "cell_type": "code",
      "metadata": {
        "id": "a4y1np4fE6-Q",
        "colab_type": "code",
        "colab": {
          "base_uri": "https://localhost:8080/",
          "height": 173
        },
        "outputId": "02e70268-a1a1-439f-8c22-55886729e8e9"
      },
      "source": [
        "# 3.10 (d)LP\n",
        "\n",
        "model.x.domain=NonNegativeReals\n",
        "\n",
        "model.constraints[9].deactivate()\n",
        "model.constraints[10].deactivate()\n",
        "\n",
        "#cost constraint\n",
        "model.constraints.add(summation(data_csvfile['Cost'], model.x) <= 33)\n",
        "\n",
        "#space constraint\n",
        "model.constraints.add(summation(data_csvfile['Space Required'], model.x) <= 55)\n",
        "\n",
        "\n",
        "opt_cbc=SolverFactory('cbc')\n",
        "result = opt_cbc.solve(model)\n",
        "\n",
        "print('\\nMaximum Capacity = ', model.objective())\n",
        "\n",
        "print('\\nDecision Variables')\n",
        "for i in col_indices:\n",
        "  print('Number of Drone',data_csvfile['Drone'][i], model.x[i].value)"
      ],
      "execution_count": 43,
      "outputs": [
        {
          "output_type": "stream",
          "text": [
            "\n",
            "Maximum Capacity =  132.0\n",
            "\n",
            "Decision Variables\n",
            "Number of Drone Sankalp 0.0\n",
            "Number of Drone Kartav 0.0\n",
            "Number of Drone Saahas 6.6\n",
            "Number of Drone Vijay 0.0\n",
            "Number of Drone Lakshya 0.0\n"
          ],
          "name": "stdout"
        }
      ]
    },
    {
      "cell_type": "code",
      "metadata": {
        "id": "EtNACD0lFHkf",
        "colab_type": "code",
        "colab": {
          "base_uri": "https://localhost:8080/",
          "height": 173
        },
        "outputId": "52342db3-1e4a-4ce7-d4cf-38396c10d53a"
      },
      "source": [
        "# 3.10 (d)MILP\n",
        "\n",
        "model.x.domain=NonNegativeIntegers\n",
        "\n",
        "opt_cbc=SolverFactory('cbc')\n",
        "result = opt_cbc.solve(model)\n",
        "\n",
        "print('\\nMaximum Capacity = ', model.objective())\n",
        "\n",
        "print('\\nDecision Variables')\n",
        "for i in col_indices:\n",
        "  print('Number of Drone',data_csvfile['Drone'][i], model.x[i].value)"
      ],
      "execution_count": 44,
      "outputs": [
        {
          "output_type": "stream",
          "text": [
            "\n",
            "Maximum Capacity =  130.0\n",
            "\n",
            "Decision Variables\n",
            "Number of Drone Sankalp 2.0\n",
            "Number of Drone Kartav 0.0\n",
            "Number of Drone Saahas 5.0\n",
            "Number of Drone Vijay 0.0\n",
            "Number of Drone Lakshya 0.0\n"
          ],
          "name": "stdout"
        }
      ]
    },
    {
      "cell_type": "markdown",
      "metadata": {
        "id": "LE4wkKmZNfvU",
        "colab_type": "text"
      },
      "source": [
        "**3.10** \n",
        "\n",
        "On decreasing the budget 39,37,35,33 and correspondingly increasing space availability 49,51,53,55  \n",
        "we see decreasing pattern in objective function values for both MILP and LP. "
      ]
    }
  ]
}