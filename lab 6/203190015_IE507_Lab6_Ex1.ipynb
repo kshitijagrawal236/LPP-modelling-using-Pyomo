{
  "nbformat": 4,
  "nbformat_minor": 0,
  "metadata": {
    "colab": {
      "name": "203190015_IE507_Lab6_Ex1.ipynb",
      "provenance": [],
      "collapsed_sections": []
    },
    "kernelspec": {
      "name": "python3",
      "display_name": "Python 3"
    }
  },
  "cells": [
    {
      "cell_type": "markdown",
      "metadata": {
        "id": "t4UCChHL8U4R",
        "colab_type": "text"
      },
      "source": [
        "**Ex1 (OP1)**"
      ]
    },
    {
      "cell_type": "code",
      "metadata": {
        "id": "IZtJxq5R1cjX",
        "colab_type": "code",
        "colab": {}
      },
      "source": [
        "!pip install -q pyomo\n",
        "from pyomo.environ import * \n",
        "import numpy as np\n",
        "import pandas as pd\n",
        "!apt-get install -y -qq coinor-cbc"
      ],
      "execution_count": null,
      "outputs": []
    },
    {
      "cell_type": "code",
      "metadata": {
        "id": "qr_-8_WO2_rg",
        "colab_type": "code",
        "colab": {
          "base_uri": "https://localhost:8080/",
          "height": 937
        },
        "outputId": "5ec89798-a4aa-4368-dbf0-f92910e17acf"
      },
      "source": [
        "coef = np.loadtxt('lab6_practice_coef.txt', delimiter=',')\n",
        "\n",
        "model_op1 = ConcreteModel()\n",
        "\n",
        "N = coef.shape[1]-1\n",
        "M = coef.shape[0]-1\n",
        "\n",
        "obj_coef = coef[0,:-1]\n",
        "\n",
        "constr_coef = coef[1:,:-1]\n",
        "\n",
        "constr_rhs = coef[1:,-1]\n",
        "\n",
        "col_indices_x = np.arange(int(N/2))\n",
        "model_op1.x = Var(col_indices_x)\n",
        "\n",
        "col_indices_u = np.arange(int(N/2))\n",
        "model_op1.u = Var(col_indices_u, domain=NonNegativeReals)\n",
        "\n",
        "row_indices = np.arange(M)\n",
        "\n",
        "model_op1.constraints = ConstraintList()\n",
        "\n",
        "for i in row_indices:\n",
        "  model_op1.constraints.add(summation(constr_coef[i][0:int(N/2)],model_op1.x) + summation(constr_coef[i][int(N/2):N],model_op1.u)  >= constr_rhs[i])\n",
        "\n",
        "model_op1.objective = Objective(expr = summation(obj_coef[0:int(N/2)],model_op1.x) + summation(obj_coef[int(N/2):N],model_op1.u), sense=minimize)\n",
        "\n",
        "model_op1.pprint()\n"
      ],
      "execution_count": 3,
      "outputs": [
        {
          "output_type": "stream",
          "text": [
            "3 Set Declarations\n",
            "    constraints_index : Size=1, Index=None, Ordered=Insertion\n",
            "        Key  : Dimen : Domain : Size : Members\n",
            "        None :     1 :    Any :   16 : {1, 2, 3, 4, 5, 6, 7, 8, 9, 10, 11, 12, 13, 14, 15, 16}\n",
            "    u_index : Size=1, Index=None, Ordered=False\n",
            "        Key  : Dimen : Domain : Size : Members\n",
            "        None :     1 :    Any :    5 : {0, 1, 2, 3, 4}\n",
            "    x_index : Size=1, Index=None, Ordered=False\n",
            "        Key  : Dimen : Domain : Size : Members\n",
            "        None :     1 :    Any :    5 : {0, 1, 2, 3, 4}\n",
            "\n",
            "2 Var Declarations\n",
            "    u : Size=5, Index=u_index\n",
            "        Key : Lower : Value : Upper : Fixed : Stale : Domain\n",
            "          0 :     0 :  None :  None : False :  True : NonNegativeReals\n",
            "          1 :     0 :  None :  None : False :  True : NonNegativeReals\n",
            "          2 :     0 :  None :  None : False :  True : NonNegativeReals\n",
            "          3 :     0 :  None :  None : False :  True : NonNegativeReals\n",
            "          4 :     0 :  None :  None : False :  True : NonNegativeReals\n",
            "    x : Size=5, Index=x_index\n",
            "        Key : Lower : Value : Upper : Fixed : Stale : Domain\n",
            "          0 :  None :  None :  None : False :  True :  Reals\n",
            "          1 :  None :  None :  None : False :  True :  Reals\n",
            "          2 :  None :  None :  None : False :  True :  Reals\n",
            "          3 :  None :  None :  None : False :  True :  Reals\n",
            "          4 :  None :  None :  None : False :  True :  Reals\n",
            "\n",
            "1 Objective Declarations\n",
            "    objective : Size=1, Index=None, Active=True\n",
            "        Key  : Active : Sense    : Expression\n",
            "        None :   True : minimize :  + (u[0] + u[1] + u[2] + u[3] + u[4])\n",
            "\n",
            "1 Constraint Declarations\n",
            "    constraints : Size=16, Index=constraints_index, Active=True\n",
            "        Key : Lower : Body                                                             : Upper : Active\n",
            "          1 :   1.0 :   85.0*x[0] + 92.0*x[1] + 45.0*x[2] + 27.0*x[3] + 31.0*x[4] + () :  +Inf :   True\n",
            "          2 :   1.0 :    92.0*x[0] + 54.0*x[1] + 22.0*x[2] + 20.0*x[3] + 7.0*x[4] + () :  +Inf :   True\n",
            "          3 :   1.0 :   96.0*x[0] + 67.0*x[1] + 29.0*x[2] + 20.0*x[3] + 11.0*x[4] + () :  +Inf :   True\n",
            "          4 :   1.0 : - 91.0*x[0] - 57.0*x[1] - 33.0*x[2] - 23.0*x[3] - 12.0*x[4] + () :  +Inf :   True\n",
            "          5 :   1.0 : - 99.0*x[0] - 75.0*x[1] - 26.0*x[2] - 24.0*x[3] - 41.0*x[4] + () :  +Inf :   True\n",
            "          6 :   1.0 : - 98.0*x[0] - 99.0*x[1] - 57.0*x[2] - 45.0*x[3] - 65.0*x[4] + () :  +Inf :   True\n",
            "          7 :   0.0 :                                                  - x[0] + (u[0]) :  +Inf :   True\n",
            "          8 :   0.0 :                                                  - x[1] + (u[1]) :  +Inf :   True\n",
            "          9 :   0.0 :                                                  - x[2] + (u[2]) :  +Inf :   True\n",
            "         10 :   0.0 :                                                  - x[3] + (u[3]) :  +Inf :   True\n",
            "         11 :   0.0 :                                                  - x[4] + (u[4]) :  +Inf :   True\n",
            "         12 :   0.0 :                                                    x[0] + (u[0]) :  +Inf :   True\n",
            "         13 :   0.0 :                                                    x[1] + (u[1]) :  +Inf :   True\n",
            "         14 :   0.0 :                                                    x[2] + (u[2]) :  +Inf :   True\n",
            "         15 :   0.0 :                                                    x[3] + (u[3]) :  +Inf :   True\n",
            "         16 :   0.0 :                                                    x[4] + (u[4]) :  +Inf :   True\n",
            "\n",
            "7 Declarations: x_index x u_index u constraints_index constraints objective\n"
          ],
          "name": "stdout"
        }
      ]
    },
    {
      "cell_type": "code",
      "metadata": {
        "id": "Xz1Kr_Ek5Swn",
        "colab_type": "code",
        "colab": {
          "base_uri": "https://localhost:8080/",
          "height": 52
        },
        "outputId": "28efb143-6cb8-4039-aa6c-7d7cd1bd4957"
      },
      "source": [
        "opt_cbc=SolverFactory('cbc')\n",
        "result=opt_cbc.solve(model_op1)\n",
        "\n",
        "print(\"solver status:\",result.solver.status)\n",
        "print(\"solver termination condition:\",result.solver.termination_condition)"
      ],
      "execution_count": 4,
      "outputs": [
        {
          "output_type": "stream",
          "text": [
            "solver status: ok\n",
            "solver termination condition: optimal\n"
          ],
          "name": "stdout"
        }
      ]
    },
    {
      "cell_type": "markdown",
      "metadata": {
        "id": "vNmoPXST8lIN",
        "colab_type": "text"
      },
      "source": [
        "Ex 1.2\n",
        "Solver status is OK   \n",
        "Solver termination condition is optimal.\n",
        "\n",
        "Solver yields an optimal solution so no need of any remedy."
      ]
    },
    {
      "cell_type": "code",
      "metadata": {
        "id": "hQOsl3MU6kRj",
        "colab_type": "code",
        "colab": {
          "base_uri": "https://localhost:8080/",
          "height": 642
        },
        "outputId": "19f881e4-5d33-4d38-a912-16df28d3a4d4"
      },
      "source": [
        "# 1.3 printing value of objective function, decision variables and constraints\n",
        "print('\\nObjective = ', model_op1.objective())\n",
        "\n",
        "print('\\nDecision Variables x')\n",
        "for i in col_indices_x:\n",
        "  print('x[',i,'] = ', model_op1.x[i].value)\n",
        "\n",
        "print('\\nDecision Variables u')\n",
        "for i in col_indices_u:\n",
        "  print('u[',i,'] = ', model_op1.u[i].value)\n",
        "\n",
        "print('\\nConstraints')\n",
        "model_op1.constraints.display()\n"
      ],
      "execution_count": null,
      "outputs": [
        {
          "output_type": "stream",
          "text": [
            "\n",
            "Objective =  0.547955725\n",
            "\n",
            "Decision Variables x\n",
            "x[ 0 ] =  -0.046448575\n",
            "x[ 1 ] =  0.18612441\n",
            "x[ 2 ] =  -0.17131802\n",
            "x[ 3 ] =  0.0\n",
            "x[ 4 ] =  -0.14406472\n",
            "\n",
            "Decision Variables u\n",
            "u[ 0 ] =  0.046448575\n",
            "u[ 1 ] =  0.18612441\n",
            "u[ 2 ] =  0.17131802\n",
            "u[ 3 ] =  0.0\n",
            "u[ 4 ] =  0.14406472\n",
            "\n",
            "Constraints\n",
            "constraints : Size=16\n",
            "    Key : Lower : Body               : Upper\n",
            "      1 :   1.0 : 0.9999996250000001 :  None\n",
            "      2 :   1.0 : 0.9999997599999997 :  None\n",
            "      3 :   1.0 :  1.458337769999999 :  None\n",
            "      4 :   1.0 : 1.0000002550000002 :  None\n",
            "      5 :   1.0 :  1.000000215000001 :  None\n",
            "      6 :   1.0 : 5.2549776999999995 :  None\n",
            "      7 :   0.0 :         0.09289715 :  None\n",
            "      8 :   0.0 :                0.0 :  None\n",
            "      9 :   0.0 :         0.34263604 :  None\n",
            "     10 :   0.0 :                0.0 :  None\n",
            "     11 :   0.0 :         0.28812944 :  None\n",
            "     12 :   0.0 :                0.0 :  None\n",
            "     13 :   0.0 :         0.37224882 :  None\n",
            "     14 :   0.0 :                0.0 :  None\n",
            "     15 :   0.0 :                0.0 :  None\n",
            "     16 :   0.0 :                0.0 :  None\n"
          ],
          "name": "stdout"
        }
      ]
    },
    {
      "cell_type": "markdown",
      "metadata": {
        "id": "M31pEL_D9-TE",
        "colab_type": "text"
      },
      "source": [
        "1.3 Objective value and value of decision variables is printed above.\n",
        "\n",
        "Constraints 1,2,4,5,8,10,12,14,15 and 16 are active.  \n",
        "Remaining constraints are inactive.\n",
        "\n",
        "On comapring $x_{i}$ with $u_{i}$ we can see that there are three $x_{i}$ which are taking negative value at the optimal and there corresponding $u_{i}$ values are of the same magnitude but positive.   \n",
        "One of the remaining two $x_{i}$ is having positive value and other is 0, for these $x_{i}$ the corresponding $u_{i}$ values are same.  \n",
        "From these observations it is verified that the approach we have used to solve this problem is actually giving absolute values, so we were able to convert non linear absolute value function type optimization problem into a linear program and solve it."
      ]
    },
    {
      "cell_type": "markdown",
      "metadata": {
        "id": "PwfnpdvyCs1I",
        "colab_type": "text"
      },
      "source": [
        "**EX1 (OP2)**"
      ]
    },
    {
      "cell_type": "code",
      "metadata": {
        "id": "VMAuaCSP8Tta",
        "colab_type": "code",
        "colab": {
          "base_uri": "https://localhost:8080/",
          "height": 784
        },
        "outputId": "b5dca5b2-f194-496c-ac6b-72cf6eee3ae2"
      },
      "source": [
        "coef = np.loadtxt('lab6_practice_coef_OP2.txt', delimiter=',')\n",
        "\n",
        "model_op2 = ConcreteModel()\n",
        "\n",
        "N=coef.shape[1]-1\n",
        "M=coef.shape[0]-1\n",
        "\n",
        "col_indices_a=np.arange(N)\n",
        "col_indices_b=np.arange(N)\n",
        "\n",
        "row_indices=np.arange(M)\n",
        "\n",
        "model_op2.a = Var(col_indices_a, domain=NonNegativeReals)\n",
        "model_op2.b = Var(col_indices_b, domain=NonNegativeReals)\n",
        "\n",
        "constr_coef=coef[1:,:-1]\n",
        "constr_rhs = coef[1:,-1]\n",
        "\n",
        "obj_coef = coef[0,:-1]\n",
        "\n",
        "model_op2.constraints = ConstraintList()\n",
        "\n",
        "for i in row_indices:\n",
        "  model_op2.constraints.add(summation(constr_coef[i][0:N],model_op2.a) - summation(constr_coef[i][0:N],model_op2.b)  >= constr_rhs[i])\n",
        "\n",
        "\n",
        "model_op2.objective = Objective(expr = summation(obj_coef[0:N],model_op2.a) + summation(obj_coef[0:N],model_op2.b), sense=minimize)\n",
        "\n",
        "model_op2.pprint()\n",
        "\n",
        "\n",
        "\n"
      ],
      "execution_count": 6,
      "outputs": [
        {
          "output_type": "stream",
          "text": [
            "3 Set Declarations\n",
            "    a_index : Size=1, Index=None, Ordered=False\n",
            "        Key  : Dimen : Domain : Size : Members\n",
            "        None :     1 :    Any :    5 : {0, 1, 2, 3, 4}\n",
            "    b_index : Size=1, Index=None, Ordered=False\n",
            "        Key  : Dimen : Domain : Size : Members\n",
            "        None :     1 :    Any :    5 : {0, 1, 2, 3, 4}\n",
            "    constraints_index : Size=1, Index=None, Ordered=Insertion\n",
            "        Key  : Dimen : Domain : Size : Members\n",
            "        None :     1 :    Any :    6 : {1, 2, 3, 4, 5, 6}\n",
            "\n",
            "2 Var Declarations\n",
            "    a : Size=5, Index=a_index\n",
            "        Key : Lower : Value : Upper : Fixed : Stale : Domain\n",
            "          0 :     0 :  None :  None : False :  True : NonNegativeReals\n",
            "          1 :     0 :  None :  None : False :  True : NonNegativeReals\n",
            "          2 :     0 :  None :  None : False :  True : NonNegativeReals\n",
            "          3 :     0 :  None :  None : False :  True : NonNegativeReals\n",
            "          4 :     0 :  None :  None : False :  True : NonNegativeReals\n",
            "    b : Size=5, Index=b_index\n",
            "        Key : Lower : Value : Upper : Fixed : Stale : Domain\n",
            "          0 :     0 :  None :  None : False :  True : NonNegativeReals\n",
            "          1 :     0 :  None :  None : False :  True : NonNegativeReals\n",
            "          2 :     0 :  None :  None : False :  True : NonNegativeReals\n",
            "          3 :     0 :  None :  None : False :  True : NonNegativeReals\n",
            "          4 :     0 :  None :  None : False :  True : NonNegativeReals\n",
            "\n",
            "1 Objective Declarations\n",
            "    objective : Size=1, Index=None, Active=True\n",
            "        Key  : Active : Sense    : Expression\n",
            "        None :   True : minimize : a[0] + a[1] + a[2] + a[3] + a[4] + (b[0] + b[1] + b[2] + b[3] + b[4])\n",
            "\n",
            "1 Constraint Declarations\n",
            "    constraints : Size=6, Index=constraints_index, Active=True\n",
            "        Key : Lower : Body                                                                                                                        : Upper : Active\n",
            "          1 :   1.0 :     85.0*a[0] + 92.0*a[1] + 45.0*a[2] + 27.0*a[3] + 31.0*a[4] - (85.0*b[0] + 92.0*b[1] + 45.0*b[2] + 27.0*b[3] + 31.0*b[4]) :  +Inf :   True\n",
            "          2 :   1.0 :       92.0*a[0] + 54.0*a[1] + 22.0*a[2] + 20.0*a[3] + 7.0*a[4] - (92.0*b[0] + 54.0*b[1] + 22.0*b[2] + 20.0*b[3] + 7.0*b[4]) :  +Inf :   True\n",
            "          3 :   1.0 :     96.0*a[0] + 67.0*a[1] + 29.0*a[2] + 20.0*a[3] + 11.0*a[4] - (96.0*b[0] + 67.0*b[1] + 29.0*b[2] + 20.0*b[3] + 11.0*b[4]) :  +Inf :   True\n",
            "          4 :   1.0 : - 91.0*a[0] - 57.0*a[1] - 33.0*a[2] - 23.0*a[3] - 12.0*a[4] - (- 91.0*b[0] - 57.0*b[1] - 33.0*b[2] - 23.0*b[3] - 12.0*b[4]) :  +Inf :   True\n",
            "          5 :   1.0 : - 99.0*a[0] - 75.0*a[1] - 26.0*a[2] - 24.0*a[3] - 41.0*a[4] - (- 99.0*b[0] - 75.0*b[1] - 26.0*b[2] - 24.0*b[3] - 41.0*b[4]) :  +Inf :   True\n",
            "          6 :   1.0 : - 98.0*a[0] - 99.0*a[1] - 57.0*a[2] - 45.0*a[3] - 65.0*a[4] - (- 98.0*b[0] - 99.0*b[1] - 57.0*b[2] - 45.0*b[3] - 65.0*b[4]) :  +Inf :   True\n",
            "\n",
            "7 Declarations: a_index a b_index b constraints_index constraints objective\n"
          ],
          "name": "stdout"
        }
      ]
    },
    {
      "cell_type": "code",
      "metadata": {
        "id": "YLrRm-88H6cR",
        "colab_type": "code",
        "colab": {
          "base_uri": "https://localhost:8080/",
          "height": 52
        },
        "outputId": "b5acc832-a9aa-41e3-b373-6528b85340b7"
      },
      "source": [
        "opt_cbc=SolverFactory('cbc')\n",
        "result=opt_cbc.solve(model_op2)\n",
        "\n",
        "print(\"solver status:\",result.solver.status)\n",
        "print(\"solver termination condition:\",result.solver.termination_condition)"
      ],
      "execution_count": 7,
      "outputs": [
        {
          "output_type": "stream",
          "text": [
            "solver status: ok\n",
            "solver termination condition: optimal\n"
          ],
          "name": "stdout"
        }
      ]
    },
    {
      "cell_type": "markdown",
      "metadata": {
        "id": "Spbf4_d_UJwO",
        "colab_type": "text"
      },
      "source": [
        "Ex 1.9\n",
        "Solver status is OK   \n",
        "Solver termination condition is optimal.\n",
        "\n",
        "Solver yields an optimal solution so no need of any remedy."
      ]
    },
    {
      "cell_type": "code",
      "metadata": {
        "id": "tb-OGGBDTs8i",
        "colab_type": "code",
        "colab": {
          "base_uri": "https://localhost:8080/",
          "height": 469
        },
        "outputId": "914bfd5a-dc3c-4c23-d032-163bf03bfac5"
      },
      "source": [
        "print('\\nObjective = ', model_op2.objective())\n",
        "\n",
        "print('\\nDecision Variables a')\n",
        "for i in col_indices_a:\n",
        "  print('a[',i,'] = ', model_op2.a[i].value)\n",
        "\n",
        "print('\\nDecision Variables b')\n",
        "for i in col_indices_u:\n",
        "  print('b[',i,'] = ', model_op2.b[i].value)\n",
        "\n",
        "print('\\nConstraints')\n",
        "model_op2.constraints.display()"
      ],
      "execution_count": 8,
      "outputs": [
        {
          "output_type": "stream",
          "text": [
            "\n",
            "Objective =  0.547955725\n",
            "\n",
            "Decision Variables a\n",
            "a[ 0 ] =  0.0\n",
            "a[ 1 ] =  0.18612441\n",
            "a[ 2 ] =  0.0\n",
            "a[ 3 ] =  0.0\n",
            "a[ 4 ] =  0.0\n",
            "\n",
            "Decision Variables b\n",
            "b[ 0 ] =  0.046448575\n",
            "b[ 1 ] =  0.0\n",
            "b[ 2 ] =  0.17131802\n",
            "b[ 3 ] =  0.0\n",
            "b[ 4 ] =  0.14406472\n",
            "\n",
            "Constraints\n",
            "constraints : Size=6\n",
            "    Key : Lower : Body               : Upper\n",
            "      1 :   1.0 :  0.999999625000001 :  None\n",
            "      2 :   1.0 : 0.9999997599999997 :  None\n",
            "      3 :   1.0 :         1.45833777 :  None\n",
            "      4 :   1.0 : 1.0000002549999998 :  None\n",
            "      5 :   1.0 :        1.000000215 :  None\n",
            "      6 :   1.0 :  5.254977699999998 :  None\n"
          ],
          "name": "stdout"
        }
      ]
    },
    {
      "cell_type": "markdown",
      "metadata": {
        "id": "I8FXFDnPUILu",
        "colab_type": "text"
      },
      "source": [
        "1.10 \n",
        "Objective value and value of decision variables is printed above.\n",
        "\n",
        "Constraints 1,2,4 and 5 are active.  \n",
        "Remaining constraints are inactive."
      ]
    },
    {
      "cell_type": "code",
      "metadata": {
        "id": "8RhUM07dU3Xv",
        "colab_type": "code",
        "colab": {
          "base_uri": "https://localhost:8080/",
          "height": 104
        },
        "outputId": "38ec67eb-c652-491d-f682-efffe94cceb4"
      },
      "source": [
        "#1.11 code to print x[i] values from a[i] and b[i]\n",
        "for i in col_indices_a:\n",
        "  print(\"x[\",i,\"]=\",model_op2.a[i].value-model_op2.b[i].value)"
      ],
      "execution_count": 9,
      "outputs": [
        {
          "output_type": "stream",
          "text": [
            "x[ 0 ]= -0.046448575\n",
            "x[ 1 ]= 0.18612441\n",
            "x[ 2 ]= -0.17131802\n",
            "x[ 3 ]= 0.0\n",
            "x[ 4 ]= -0.14406472\n"
          ],
          "name": "stdout"
        }
      ]
    },
    {
      "cell_type": "markdown",
      "metadata": {
        "id": "d4P0GewgWEOP",
        "colab_type": "text"
      },
      "source": [
        "1.12 \n",
        "On comaparing the values of decision variables $x_{i}$ obtained from both the approaches that is OP1 and OP2, it is observed that they are exactly same."
      ]
    }
  ]
}