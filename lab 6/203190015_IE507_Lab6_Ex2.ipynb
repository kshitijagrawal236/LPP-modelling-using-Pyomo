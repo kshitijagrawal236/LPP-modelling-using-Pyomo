{
 "cells": [
  {
   "cell_type": "markdown",
   "metadata": {
    "colab_type": "text",
    "id": "_oD2FV3oiHcU"
   },
   "source": [
    "**2.1**\n",
    "\n",
    "\\begin{align}\n",
    "\\max \\ 35 x_1 + 57 x_2 + 48 x_3 + 20 x_4 + 15 x_5, \\\\\n",
    "{\\rm{s.t.}} \\; x_1 + x_2 + x_3 & \\leq 75, \\\\\n",
    "x_3 + x_4 + x_5 & \\leq 100, \\\\\n",
    "x_1 + x_2 & \\geq 10, \\\\ \n",
    "30000 x_1 + 95000 x_2 + 10000 x_3 + 5000 x_4 + 4000 x_5 & \\leq 1500000, \\\\\n",
    "100000 x_1 + 500000 x_2 + 200000 x_3 + 45000 x_4 + 25000 x_5 & \\geq 900000, \\\\\n",
    "x_i & \\geq 0, \\quad i \\in \\{1,2,3,4,5\\}. \\\\\n",
    "\\end{align}\n",
    "---\n",
    "\n",
    "New Constraint\n",
    "\n",
    "$|(x_{1} + x_{2})-(x_{3} + x_{4}+x_{5})|$ <=18\n",
    "\n",
    "Now the resultant formulation is not linear program as it contains absolute value function which are not linear."
   ]
  },
  {
   "cell_type": "markdown",
   "metadata": {
    "colab_type": "text",
    "id": "Ufno5RlVlct6"
   },
   "source": [
    "1.2\n",
    "New formualtion using approach 1\n",
    "\n",
    "Let $u=|(x_{1} + x_{2})-(x_{3} + x_{4}+x_{5})|$\n",
    "\n",
    "\\begin{align}\n",
    "\\max \\ 35 x_1 + 57 x_2 + 48 x_3 + 20 x_4 + 15 x_5, \\\\\n",
    "{\\rm{s.t.}} \\; x_1 + x_2 + x_3 & \\leq 75, \\\\\n",
    "x_3 + x_4 + x_5 & \\leq 100, \\\\\n",
    "x_1 + x_2 & \\geq 10, \\\\ \n",
    "30000 x_1 + 95000 x_2 + 10000 x_3 + 5000 x_4 + 4000 x_5 & \\leq 1500000, \\\\\n",
    "100000 x_1 + 500000 x_2 + 200000 x_3 + 45000 x_4 + 25000 x_5 & \\geq 900000, \\\\\n",
    "x_i & \\geq 0, \\quad i \\in \\{1,2,3,4,5\\}. \\\\\n",
    "\\end{align}\n",
    "\n",
    "$u<=18$  \n",
    "$u - x_{1} - x_{2} + x_{3} + x_{4}+x_{5} >=0$   \n",
    "$u + x_{1} + x_{2} - x_{3} - x_{4}-x_{5} >=0$  \n",
    "$u>=0$ \n",
    "\n",
    "All the decision variables are positive integers."
   ]
  },
  {
   "cell_type": "markdown",
   "metadata": {
    "colab_type": "text",
    "id": "CmVkjdcvo5l7"
   },
   "source": [
    "1.2\n",
    "New formualtion using approach 2\n",
    "\n",
    "\\begin{align}\n",
    "\\max \\ 35 x_1 + 57 x_2 + 48 x_3 + 20 x_4 + 15 x_5, \\\\\n",
    "{\\rm{s.t.}} \\; x_1 + x_2 + x_3 & \\leq 75, \\\\\n",
    "x_3 + x_4 + x_5 & \\leq 100, \\\\\n",
    "x_1 + x_2 & \\geq 10, \\\\ \n",
    "30000 x_1 + 95000 x_2 + 10000 x_3 + 5000 x_4 + 4000 x_5 & \\leq 1500000, \\\\\n",
    "100000 x_1 + 500000 x_2 + 200000 x_3 + 45000 x_4 + 25000 x_5 & \\geq 900000, \\\\\n",
    "x_i & \\geq 0, \\quad i \\in \\{1,2,3,4,5\\}. \\\\\n",
    "\\end{align}\n",
    "\n",
    "New constraints:  \n",
    "$(x_{1} + x_{2}) - (x_{3} + x_{4}+x_{5}) = a-b$   \n",
    "$a+b <=18$ \n",
    "\n",
    "Here  a and b are non negative integers.\n"
   ]
  },
  {
   "cell_type": "code",
   "execution_count": null,
   "metadata": {
    "colab": {},
    "colab_type": "code",
    "id": "tEKQwDjxhYxM"
   },
   "outputs": [],
   "source": [
    "!pip install -q pyomo\n",
    "from pyomo.environ import * \n",
    "import numpy as np\n",
    "import pandas as pd\n",
    "!apt-get install -y -qq coinor-cbc"
   ]
  },
  {
   "cell_type": "code",
   "execution_count": 10,
   "metadata": {
    "colab": {
     "base_uri": "https://localhost:8080/",
     "height": 677
    },
    "colab_type": "code",
    "id": "J2ekmze21LKq",
    "outputId": "ff44e4b1-f347-48ca-851b-a73ebdb17fc6"
   },
   "outputs": [
    {
     "name": "stdout",
     "output_type": "stream",
     "text": [
      "2 Set Declarations\n",
      "    constraints_index : Size=1, Index=None, Ordered=Insertion\n",
      "        Key  : Dimen : Domain : Size : Members\n",
      "        None :     1 :    Any :    8 : {1, 2, 3, 4, 5, 6, 7, 8}\n",
      "    x_index : Size=1, Index=None, Ordered=False\n",
      "        Key  : Dimen : Domain : Size : Members\n",
      "        None :     1 :    Any :    5 : {0, 1, 2, 3, 4}\n",
      "\n",
      "2 Var Declarations\n",
      "    u : Size=1, Index=None\n",
      "        Key  : Lower : Value : Upper : Fixed : Stale : Domain\n",
      "        None :     0 :  None :  None : False :  True : NonNegativeIntegers\n",
      "    x : Size=5, Index=x_index\n",
      "        Key : Lower : Value : Upper : Fixed : Stale : Domain\n",
      "          0 :     0 :  None :  None : False :  True : NonNegativeIntegers\n",
      "          1 :     0 :  None :  None : False :  True : NonNegativeIntegers\n",
      "          2 :     0 :  None :  None : False :  True : NonNegativeIntegers\n",
      "          3 :     0 :  None :  None : False :  True : NonNegativeIntegers\n",
      "          4 :     0 :  None :  None : False :  True : NonNegativeIntegers\n",
      "\n",
      "1 Objective Declarations\n",
      "    objective : Size=1, Index=None, Active=True\n",
      "        Key  : Active : Sense    : Expression\n",
      "        None :   True : maximize : 35*x[0] + 57*x[1] + 48*x[2] + 20*x[3] + 15*x[4]\n",
      "\n",
      "1 Constraint Declarations\n",
      "    constraints : Size=8, Index=constraints_index, Active=True\n",
      "        Key : Lower    : Body                                                              : Upper     : Active\n",
      "          1 :     -Inf :                                                x[0] + x[1] + x[2] :      75.0 :   True\n",
      "          2 :     -Inf :                                                x[2] + x[3] + x[4] :     100.0 :   True\n",
      "          3 :     10.0 :                                                       x[0] + x[1] :      +Inf :   True\n",
      "          4 :     -Inf :      30000*x[0] + 95000*x[1] + 10000*x[2] + 5000*x[3] + 4000*x[4] : 1500000.0 :   True\n",
      "          5 : 900000.0 : 100000*x[0] + 500000*x[1] + 200000*x[2] + 45000*x[3] + 25000*x[4] :      +Inf :   True\n",
      "          6 :     -Inf :                                                                 u :      18.0 :   True\n",
      "          7 :      0.0 :                              u - x[0] - x[1] + x[2] + x[3] + x[4] :      +Inf :   True\n",
      "          8 :      0.0 :                              u + x[0] + x[1] - x[2] - x[3] - x[4] :      +Inf :   True\n",
      "\n",
      "6 Declarations: x_index x u objective constraints_index constraints\n"
     ]
    }
   ],
   "source": [
    "# 2.4 Solving problem from approach 1\n",
    "data_csvfile = pd.read_csv('sample_csvfile.csv')\n",
    "\n",
    "model_1 = ConcreteModel()\n",
    "\n",
    "N = len(data_csvfile.index)\n",
    "M = 5\n",
    "col_indices = range(N)\n",
    "\n",
    "#defining variables\n",
    "model_1.x = Var(col_indices, domain=NonNegativeIntegers)\n",
    "model_1.u = Var(domain=NonNegativeIntegers)\n",
    "\n",
    "#defining objective\n",
    "model_1.objective = Objective(expr=summation(data_csvfile['Reach Quality'], model_1.x),sense=maximize)\n",
    "\n",
    "\n",
    "#adding constraints\n",
    "model_1.constraints = ConstraintList()\n",
    "\n",
    "model_1.constraints.add(expr= model_1.x[0] + model_1.x[1] + model_1.x[2]<= 75  )\n",
    "model_1.constraints.add(expr= model_1.x[2] + model_1.x[3] +  model_1.x[4] <= 100  )\n",
    "model_1.constraints.add(expr= model_1.x[0] + model_1.x[1] >= 10  )\n",
    "\n",
    "model_1.constraints.add(summation(data_csvfile['Cost per advt'], model_1.x) <= 1500000)\n",
    "\n",
    "model_1.constraints.add(summation(data_csvfile['Num Customers'], model_1.x) >= 900000)\n",
    "\n",
    "#additional constraints\n",
    "model_1.constraints.add(expr=model_1.u<=18)\n",
    "model_1.constraints.add(expr=model_1.u-model_1.x[0]-model_1.x[1]+model_1.x[2]+model_1.x[3]+model_1.x[4]>=0)\n",
    "model_1.constraints.add(expr=model_1.u+model_1.x[0]+model_1.x[1]-model_1.x[2]-model_1.x[3]-model_1.x[4]>=0)\n",
    "\n",
    "model_1.pprint()\n"
   ]
  },
  {
   "cell_type": "code",
   "execution_count": 11,
   "metadata": {
    "colab": {
     "base_uri": "https://localhost:8080/",
     "height": 52
    },
    "colab_type": "code",
    "id": "wiAz2nhd6EwL",
    "outputId": "e832f8cc-3614-4802-e03f-91eed88e8b6c"
   },
   "outputs": [
    {
     "name": "stdout",
     "output_type": "stream",
     "text": [
      "Solver status: ok\n",
      "Solver termination condition: optimal\n"
     ]
    }
   ],
   "source": [
    "opt_cbc = SolverFactory('cbc')\n",
    "result = opt_cbc.solve(model_1)\n",
    "print('Solver status:', result.solver.status)\n",
    "print('Solver termination condition:',result.solver.termination_condition)"
   ]
  },
  {
   "cell_type": "markdown",
   "metadata": {
    "colab_type": "text",
    "id": "HNH8nXU36aUe"
   },
   "source": [
    "2.4  By Approach 1\n",
    "  \n",
    "Solver status is OK  \n",
    "Solver termination condition is optimal  \n",
    "We are getting optimal solution by approach 1\n"
   ]
  },
  {
   "cell_type": "code",
   "execution_count": 12,
   "metadata": {
    "colab": {
     "base_uri": "https://localhost:8080/",
     "height": 399
    },
    "colab_type": "code",
    "id": "T5bsUbqH612c",
    "outputId": "6d29d0a8-6006-437a-9515-2d8988a08a1d"
   },
   "outputs": [
    {
     "name": "stdout",
     "output_type": "stream",
     "text": [
      "\n",
      "Objective =  3378.0\n",
      "\n",
      "Decision Variables\n",
      "Num slots for medium  Websites 34.0\n",
      "Num slots for medium  TV 0.0\n",
      "Num slots for medium  DailyNewspaper 41.0\n",
      "Num slots for medium  WeeklyMagazine 11.0\n",
      "Num slots for medium  MonthlyMagazine 0.0\n",
      "value of new variable u= 18.0\n",
      "\n",
      "Constraints\n",
      "constraints : Size=8\n",
      "    Key : Lower    : Body       : Upper\n",
      "      1 :     None :       75.0 :      75.0\n",
      "      2 :     None :       52.0 :     100.0\n",
      "      3 :     10.0 :       34.0 :      None\n",
      "      4 :     None :  1485000.0 : 1500000.0\n",
      "      5 : 900000.0 : 12095000.0 :      None\n",
      "      6 :     None :       18.0 :      18.0\n",
      "      7 :      0.0 :       36.0 :      None\n",
      "      8 :      0.0 :        0.0 :      None\n"
     ]
    }
   ],
   "source": [
    "print('\\nObjective = ', model_1.objective())\n",
    "\n",
    "print('\\nDecision Variables')\n",
    "for i in col_indices:\n",
    "  print('Num slots for medium ',data_csvfile['Medium'][i], model_1.x[i].value)\n",
    "\n",
    "print(\"value of new variable u=\",model_1.u.value)\n",
    "\n",
    "print('\\nConstraints')\n",
    "model_1.constraints.display()"
   ]
  },
  {
   "cell_type": "markdown",
   "metadata": {
    "colab_type": "text",
    "id": "RiO7jwq17qBO"
   },
   "source": [
    "2.5 By approach 1\n",
    "\n",
    "Optimal objective value and value of decision variables and new introduced varible are shown above.\n",
    "\n",
    "Constraint activity.  \n",
    "Constraint 1,4,6 and 8 are active. Other constraints are inactive."
   ]
  },
  {
   "cell_type": "code",
   "execution_count": 16,
   "metadata": {
    "colab": {
     "base_uri": "https://localhost:8080/",
     "height": 712
    },
    "colab_type": "code",
    "id": "IQ51tse56Rg4",
    "outputId": "98e91857-adb7-41ca-e164-7ebfcb978b81"
   },
   "outputs": [
    {
     "name": "stdout",
     "output_type": "stream",
     "text": [
      "2 Set Declarations\n",
      "    constraints_index : Size=1, Index=None, Ordered=Insertion\n",
      "        Key  : Dimen : Domain : Size : Members\n",
      "        None :     1 :    Any :    7 : {1, 2, 3, 4, 5, 6, 7}\n",
      "    x_index : Size=1, Index=None, Ordered=False\n",
      "        Key  : Dimen : Domain : Size : Members\n",
      "        None :     1 :    Any :    5 : {0, 1, 2, 3, 4}\n",
      "\n",
      "3 Var Declarations\n",
      "    a : Size=1, Index=None\n",
      "        Key  : Lower : Value : Upper : Fixed : Stale : Domain\n",
      "        None :     0 :  None :  None : False :  True : NonNegativeIntegers\n",
      "    b : Size=1, Index=None\n",
      "        Key  : Lower : Value : Upper : Fixed : Stale : Domain\n",
      "        None :     0 :  None :  None : False :  True : NonNegativeIntegers\n",
      "    x : Size=5, Index=x_index\n",
      "        Key : Lower : Value : Upper : Fixed : Stale : Domain\n",
      "          0 :     0 :  None :  None : False :  True : NonNegativeIntegers\n",
      "          1 :     0 :  None :  None : False :  True : NonNegativeIntegers\n",
      "          2 :     0 :  None :  None : False :  True : NonNegativeIntegers\n",
      "          3 :     0 :  None :  None : False :  True : NonNegativeIntegers\n",
      "          4 :     0 :  None :  None : False :  True : NonNegativeIntegers\n",
      "\n",
      "1 Objective Declarations\n",
      "    objective : Size=1, Index=None, Active=True\n",
      "        Key  : Active : Sense    : Expression\n",
      "        None :   True : maximize : 35*x[0] + 57*x[1] + 48*x[2] + 20*x[3] + 15*x[4]\n",
      "\n",
      "1 Constraint Declarations\n",
      "    constraints : Size=7, Index=constraints_index, Active=True\n",
      "        Key : Lower    : Body                                                              : Upper     : Active\n",
      "          1 :     -Inf :                                                x[0] + x[1] + x[2] :      75.0 :   True\n",
      "          2 :     -Inf :                                                x[2] + x[3] + x[4] :     100.0 :   True\n",
      "          3 :     10.0 :                                                       x[0] + x[1] :      +Inf :   True\n",
      "          4 :     -Inf :      30000*x[0] + 95000*x[1] + 10000*x[2] + 5000*x[3] + 4000*x[4] : 1500000.0 :   True\n",
      "          5 : 900000.0 : 100000*x[0] + 500000*x[1] + 200000*x[2] + 45000*x[3] + 25000*x[4] :      +Inf :   True\n",
      "          6 :      0.0 :                          x[0] + x[1] - x[2] - x[3] - x[4] - a + b :       0.0 :   True\n",
      "          7 :     -Inf :                                                             a + b :      18.0 :   True\n",
      "\n",
      "7 Declarations: x_index x a b objective constraints_index constraints\n"
     ]
    }
   ],
   "source": [
    "# 2.4 solving problem by approach 2\n",
    "\n",
    "data_csvfile = pd.read_csv('sample_csvfile.csv')\n",
    "\n",
    "model_2 = ConcreteModel()\n",
    "\n",
    "N = len(data_csvfile.index)\n",
    "M = 5\n",
    "col_indices = range(N)\n",
    "\n",
    "#defining variables\n",
    "model_2.x = Var(col_indices, domain=NonNegativeIntegers)\n",
    "model_2.a=Var(domain=NonNegativeIntegers)\n",
    "model_2.b=Var(domain=NonNegativeIntegers)\n",
    "\n",
    "#defining objective\n",
    "model_2.objective = Objective(expr=summation(data_csvfile['Reach Quality'], model_2.x),sense=maximize)\n",
    "\n",
    "#adding constraints\n",
    "model_2.constraints = ConstraintList()\n",
    "\n",
    "model_2.constraints.add(expr= model. _2.x[0] + model_2.x[1] + model_2.x[2]<= 75  )\n",
    "model_2.constraints.add(expr= model_2.x[2] + model_2.x[3] +  model_2.x[4] <= 100  )\n",
    "model_2.constraints.add(expr= model_2.x[0] + model_2.x[1] >= 10  )\n",
    "\n",
    "model_2.constraints.add(summation(data_csvfile['Cost per advt'], model_2.x) <= 1500000)\n",
    "\n",
    "model_2.constraints.add(summation(data_csvfile['Num Customers'], model_2.x) >= 900000)\n",
    "\n",
    "#additional constraints\n",
    "model_2.constraints.add(expr=model_2.x[0]+model_2.x[1]-model_2.x[2]-model_2.x[3]-model_2.x[4]-model_2.a+model_2.b==0)\n",
    "model_2.constraints.add(model_2.a+model_2.b<=18)\n",
    "\n",
    "model_2.pprint()\n",
    "\n"
   ]
  },
  {
   "cell_type": "code",
   "execution_count": 17,
   "metadata": {
    "colab": {
     "base_uri": "https://localhost:8080/",
     "height": 52
    },
    "colab_type": "code",
    "id": "DATVFoCt-awN",
    "outputId": "aca4258d-6b70-4495-85f9-b7334e7f49d7"
   },
   "outputs": [
    {
     "name": "stdout",
     "output_type": "stream",
     "text": [
      "Solver status: ok\n",
      "Solver termination condition: optimal\n"
     ]
    }
   ],
   "source": [
    "opt_cbc_2 = SolverFactory('cbc')\n",
    "result = opt_cbc_2.solve(model_2)\n",
    "print('Solver status:', result.solver.status)\n",
    "print('Solver termination condition:',result.solver.termination_condition)"
   ]
  },
  {
   "cell_type": "markdown",
   "metadata": {
    "colab_type": "text",
    "id": "JnzGdJ4s-8VK"
   },
   "source": [
    "2.4  By Approach 2\n",
    "  \n",
    "Solver status is OK  \n",
    "Solver termination condition is optimal  \n",
    "We are getting optimal solution by approach 2"
   ]
  },
  {
   "cell_type": "code",
   "execution_count": 18,
   "metadata": {
    "colab": {
     "base_uri": "https://localhost:8080/",
     "height": 399
    },
    "colab_type": "code",
    "id": "_hDJkrpQ_GDh",
    "outputId": "67e7cc3f-610f-4abd-9125-6f5bbd58e30e"
   },
   "outputs": [
    {
     "name": "stdout",
     "output_type": "stream",
     "text": [
      "\n",
      "Objective =  3378.0\n",
      "\n",
      "Decision Variables\n",
      "Num slots for medium  Websites 34.0\n",
      "Num slots for medium  TV 0.0\n",
      "Num slots for medium  DailyNewspaper 41.0\n",
      "Num slots for medium  WeeklyMagazine 11.0\n",
      "Num slots for medium  MonthlyMagazine 0.0\n",
      "value of new variable a= 0.0\n",
      "value of new variable b= 18.0\n",
      "\n",
      "Constraints\n",
      "constraints : Size=7\n",
      "    Key : Lower    : Body       : Upper\n",
      "      1 :     None :       75.0 :      75.0\n",
      "      2 :     None :       52.0 :     100.0\n",
      "      3 :     10.0 :       34.0 :      None\n",
      "      4 :     None :  1485000.0 : 1500000.0\n",
      "      5 : 900000.0 : 12095000.0 :      None\n",
      "      6 :      0.0 :        0.0 :       0.0\n",
      "      7 :     None :       18.0 :      18.0\n"
     ]
    }
   ],
   "source": [
    "print('\\nObjective = ', model_2.objective())\n",
    "\n",
    "print('\\nDecision Variables')\n",
    "for i in col_indices:\n",
    "  print('Num slots for medium ',data_csvfile['Medium'][i], model_2.x[i].value)\n",
    "\n",
    "print(\"value of new variable a=\",model_2.a.value)\n",
    "print(\"value of new variable b=\",model_2.b.value)\n",
    "\n",
    "print('\\nConstraints')\n",
    "model_2.constraints.display()"
   ]
  },
  {
   "cell_type": "markdown",
   "metadata": {
    "colab_type": "text",
    "id": "T_hp9zkVI5s2"
   },
   "source": [
    "2.5 By approach 1\n",
    "\n",
    "Optimal objective value and value of decision variables and new introduced varible are shown above.\n",
    "\n",
    "Constraint activity.  \n",
    "Constraints 1,6 and 7 are active. Other constraints are inactive."
   ]
  },
  {
   "cell_type": "markdown",
   "metadata": {
    "colab_type": "text",
    "id": "EHjHwYZpJeYP"
   },
   "source": [
    "2.6 \n",
    "The values of original decision variables x[i], obtained from both the approaches are exactly same."
   ]
  },
  {
   "cell_type": "markdown",
   "metadata": {
    "colab_type": "text",
    "id": "VynfQJ8yL0To"
   },
   "source": [
    "2.7\n",
    "New constraint is absolute value of difference in  \"no. of newspapers\" and \"total no. of magazines of both types\" is atleast 4.\n",
    "\n",
    "i.e.   \n",
    "$|x_{4} + x_{5}-x_{3} |$ >=4  \n",
    "\n",
    "New formulation \n",
    "\n",
    "\\begin{align}\n",
    "\\max \\ 35 x_1 + 57 x_2 + 48 x_3 + 20 x_4 + 15 x_5, \\\\\n",
    "{\\rm{s.t.}} \\; x_1 + x_2 + x_3 & \\leq 75, \\\\\n",
    "x_3 + x_4 + x_5 & \\leq 100, \\\\\n",
    "x_1 + x_2 & \\geq 10, \\\\ \n",
    "30000 x_1 + 95000 x_2 + 10000 x_3 + 5000 x_4 + 4000 x_5 & \\leq 1500000, \\\\\n",
    "100000 x_1 + 500000 x_2 + 200000 x_3 + 45000 x_4 + 25000 x_5 & \\geq 900000, \\\\\n",
    "x_i & \\geq 0, \\quad i \\in \\{1,2,3,4,5\\}. \\\\\n",
    "\\end{align}\n",
    "\n",
    "New constraint\n",
    "$|x_{4} + x_{5}-x_{3} |$ >=4  \n",
    "\n",
    "\n",
    "This new formulation is not a linear program as it contains absolute value function which is not a linear function.  \n",
    "\n",
    "\n",
    "This can be converted into linear programs by replacing the new constraint by following constraints.\n",
    "\n",
    "$x_{4} + x_{5}-x_{3} $ >=4   \n",
    "$x_{4} + x_{5}-x_{3} $ <=-4 "
   ]
  }
 ],
 "metadata": {
  "colab": {
   "collapsed_sections": [],
   "name": "203190015_IE507_Lab6_Ex2.ipynb",
   "provenance": [],
   "toc_visible": true
  },
  "kernelspec": {
   "display_name": "Python 3",
   "language": "python",
   "name": "python3"
  },
  "language_info": {
   "codemirror_mode": {
    "name": "ipython",
    "version": 3
   },
   "file_extension": ".py",
   "mimetype": "text/x-python",
   "name": "python",
   "nbconvert_exporter": "python",
   "pygments_lexer": "ipython3",
   "version": "3.8.5"
  }
 },
 "nbformat": 4,
 "nbformat_minor": 1
}
