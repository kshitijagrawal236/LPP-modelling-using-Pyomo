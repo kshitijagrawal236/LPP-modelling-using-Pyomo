{
  "nbformat": 4,
  "nbformat_minor": 0,
  "metadata": {
    "colab": {
      "name": "203190015_IE507_Lab6_Ex3.ipynb",
      "provenance": [],
      "collapsed_sections": []
    },
    "kernelspec": {
      "name": "python3",
      "display_name": "Python 3"
    }
  },
  "cells": [
    {
      "cell_type": "markdown",
      "metadata": {
        "id": "ubCJHdHAkNx-",
        "colab_type": "text"
      },
      "source": [
        "3.1 Optimization problem for given situation\n",
        "\n",
        "\\begin{align}\n",
        "min.\\sum_{i=1}^{6} |b_{0} + b_{1}*L_{i}+b_{2}*E_{i}-P_{i}|  \\nonumber \n",
        "\\end{align}\n",
        "Here 'i' represents Warehouse no.  \n",
        "$L_{i}$ is the Lot Size for warehouse 'i'  \n",
        "$E_{i}$ is the Elevation for warehouse 'i'  \n",
        "$P_{i}$ is the Selling Prize for warehouse 'i'\n",
        "\n",
        "The quantity $b_{0} + b_{1}*L_{i}+b_{2}*E_{i}$ is the predicted price using the linear for warehouse 'i' and hence $|b_{0} + b_{1}*L_{i}+b_{2}*E_{i}-P_{i}|$ is the absolute value of error between actual price and predicted price.\n",
        "\n",
        "We need to find our values of $b_{0},b_{1},b_{2}$ such that the sum of absolute value of errors is minimized.\n",
        "\n",
        "$b_{0}$>=0  \n",
        "$b_{1}$ & $b_{2}$ can take any real values.\n",
        "\n",
        "This optimization problem is not linear because it includes absolute values and absolute value function is not a linear function."
      ]
    },
    {
      "cell_type": "code",
      "metadata": {
        "id": "5cVcTzoISUHS",
        "colab_type": "code",
        "colab": {}
      },
      "source": [
        "!pip install -q pyomo\n",
        "from pyomo.environ import * \n",
        "import numpy as np\n",
        "import pandas as pd\n",
        "!apt-get install -y -qq coinor-cbc"
      ],
      "execution_count": 44,
      "outputs": []
    },
    {
      "cell_type": "markdown",
      "metadata": {
        "id": "oEF9z34TqWMM",
        "colab_type": "text"
      },
      "source": [
        "**3.5 Solving by approach 1**\n",
        "\n",
        "We define variables     \n",
        "$y_{i}$=$|b_{0} + b_{1}*L_{i}+b_{2}*E_{i}-P_{i}|$   \n",
        "for 'i' in {1,2,3,4,5,6}\n",
        "\n",
        "So objective is   \n",
        "\\begin{align}\n",
        "min.\\sum_{i=1}^{6} y_{i}  \\nonumber \n",
        "\\end{align}\n",
        "\n",
        "s.t.  \n",
        "$y_{i}>=0$  \n",
        "$y_{i}-$ ($b_{0} + b_{1}*L_{i}+b_{2}*E_{i}-P_{i}$)$>=0$  \n",
        "$y_{i}+$ ($b_{0} + b_{1}*L_{i}+b_{2}*E_{i}-P_{i}$)$>=0$"
      ]
    },
    {
      "cell_type": "code",
      "metadata": {
        "id": "vw2cSO5FS34d",
        "colab_type": "code",
        "colab": {
          "base_uri": "https://localhost:8080/",
          "height": 851
        },
        "outputId": "88ca5f36-0ce4-4334-f0ff-583d61ac6ce6"
      },
      "source": [
        "#3.5 by approach 1\n",
        "\n",
        "data_csvfile = pd.read_csv('lab6_ex3.csv')\n",
        "\n",
        "model_1 = ConcreteModel()\n",
        "\n",
        "M=len(data_csvfile.columns)-1\n",
        "N=len(data_csvfile.index)\n",
        "\n",
        "col_indices = range(N)\n",
        "row_indices = range(M)\n",
        "\n",
        "\n",
        "#defining variables\n",
        "model_1.y = Var(col_indices, domain=NonNegativeReals)\n",
        "model_1.b = Var(row_indices)\n",
        "\n",
        "model_1.b[0].domain=NonNegativeReals\n",
        "\n",
        "#defining objective\n",
        "model_1.objective = Objective(expr=model_1.y[0]+model_1.y[1]+model_1.y[2]+model_1.y[3]+model_1.y[4]+model_1.y[5] ,sense=minimize)\n",
        "\n",
        "# adding constraints\n",
        "model_1.constraints = ConstraintList()\n",
        "\n",
        "for i in col_indices:\n",
        "  model_1.constraints.add(expr=model_1.y[i]+model_1.b[0]+model_1.b[1]*data_csvfile['LotSize'][i]+model_1.b[2]*data_csvfile['Elevation'][i]-data_csvfile['SellingPrice'][i]>=0)\n",
        "  model_1.constraints.add(expr=model_1.y[i]-model_1.b[0]-model_1.b[1]*data_csvfile['LotSize'][i]-model_1.b[2]*data_csvfile['Elevation'][i]+data_csvfile['SellingPrice'][i]>=0)\n",
        "\n",
        "model_1.pprint()"
      ],
      "execution_count": 45,
      "outputs": [
        {
          "output_type": "stream",
          "text": [
            "3 Set Declarations\n",
            "    b_index : Size=1, Index=None, Ordered=False\n",
            "        Key  : Dimen : Domain : Size : Members\n",
            "        None :     1 :    Any :    3 : {0, 1, 2}\n",
            "    constraints_index : Size=1, Index=None, Ordered=Insertion\n",
            "        Key  : Dimen : Domain : Size : Members\n",
            "        None :     1 :    Any :   12 : {1, 2, 3, 4, 5, 6, 7, 8, 9, 10, 11, 12}\n",
            "    y_index : Size=1, Index=None, Ordered=False\n",
            "        Key  : Dimen : Domain : Size : Members\n",
            "        None :     1 :    Any :    6 : {0, 1, 2, 3, 4, 5}\n",
            "\n",
            "2 Var Declarations\n",
            "    b : Size=3, Index=b_index\n",
            "        Key : Lower : Value : Upper : Fixed : Stale : Domain\n",
            "          0 :     0 :  None :  None : False :  True : NonNegativeReals\n",
            "          1 :  None :  None :  None : False :  True :            Reals\n",
            "          2 :  None :  None :  None : False :  True :            Reals\n",
            "    y : Size=6, Index=y_index\n",
            "        Key : Lower : Value : Upper : Fixed : Stale : Domain\n",
            "          0 :     0 :  None :  None : False :  True : NonNegativeReals\n",
            "          1 :     0 :  None :  None : False :  True : NonNegativeReals\n",
            "          2 :     0 :  None :  None : False :  True : NonNegativeReals\n",
            "          3 :     0 :  None :  None : False :  True : NonNegativeReals\n",
            "          4 :     0 :  None :  None : False :  True : NonNegativeReals\n",
            "          5 :     0 :  None :  None : False :  True : NonNegativeReals\n",
            "\n",
            "1 Objective Declarations\n",
            "    objective : Size=1, Index=None, Active=True\n",
            "        Key  : Active : Sense    : Expression\n",
            "        None :   True : minimize : y[0] + y[1] + y[2] + y[3] + y[4] + y[5]\n",
            "\n",
            "1 Constraint Declarations\n",
            "    constraints : Size=12, Index=constraints_index, Active=True\n",
            "        Key : Lower : Body                                        : Upper : Active\n",
            "          1 :   0.0 : y[0] + b[0] + 1800*b[1] + 250*b[2] - 175000 :  +Inf :   True\n",
            "          2 :   0.0 : y[0] - b[0] - 1800*b[1] - 250*b[2] + 175000 :  +Inf :   True\n",
            "          3 :   0.0 : y[1] + b[0] + 2800*b[1] + 400*b[2] - 150000 :  +Inf :   True\n",
            "          4 :   0.0 : y[1] - b[0] - 2800*b[1] - 400*b[2] + 150000 :  +Inf :   True\n",
            "          5 :   0.0 : y[2] + b[0] + 3500*b[1] + 450*b[2] - 125000 :  +Inf :   True\n",
            "          6 :   0.0 : y[2] - b[0] - 3500*b[1] - 450*b[2] + 125000 :  +Inf :   True\n",
            "          7 :   0.0 :   y[3] + b[0] + 800*b[1] + 100*b[2] - 90000 :  +Inf :   True\n",
            "          8 :   0.0 :   y[3] - b[0] - 800*b[1] - 100*b[2] + 90000 :  +Inf :   True\n",
            "          9 :   0.0 :   y[4] + b[0] + 700*b[1] + 200*b[2] - 80000 :  +Inf :   True\n",
            "         10 :   0.0 :   y[4] - b[0] - 700*b[1] - 200*b[2] + 80000 :  +Inf :   True\n",
            "         11 :   0.0 :   y[5] + b[0] + 500*b[1] + 50*b[2] - 120000 :  +Inf :   True\n",
            "         12 :   0.0 :   y[5] - b[0] - 500*b[1] - 50*b[2] + 120000 :  +Inf :   True\n",
            "\n",
            "7 Declarations: y_index y b_index b objective constraints_index constraints\n"
          ],
          "name": "stdout"
        }
      ]
    },
    {
      "cell_type": "code",
      "metadata": {
        "id": "T8yhtjNVcMQk",
        "colab_type": "code",
        "colab": {
          "base_uri": "https://localhost:8080/",
          "height": 52
        },
        "outputId": "c64c23af-4092-46e1-feb5-caf5c9a65a30"
      },
      "source": [
        "opt_cbc = SolverFactory('cbc')\n",
        "result = opt_cbc.solve(model_1)\n",
        "print('Solver status:', result.solver.status)\n",
        "print('Solver termination condition:',result.solver.termination_condition)"
      ],
      "execution_count": 46,
      "outputs": [
        {
          "output_type": "stream",
          "text": [
            "Solver status: ok\n",
            "Solver termination condition: optimal\n"
          ],
          "name": "stdout"
        }
      ]
    },
    {
      "cell_type": "code",
      "metadata": {
        "id": "jN2tl1FjcT8t",
        "colab_type": "code",
        "colab": {
          "base_uri": "https://localhost:8080/",
          "height": 278
        },
        "outputId": "aa08862b-6ffb-499d-869f-cca0108a3105"
      },
      "source": [
        "print('\\noptimal sum of residuals = ', model_1.objective())\n",
        "\n",
        "print(\"\\n\")\n",
        "for j in row_indices:\n",
        "  print(\"b[\",j,\"]=\",model_1.b[j].value)\n",
        "\n",
        "print(\"\\n\")\n",
        "\n",
        "for i in col_indices:\n",
        "  print(\"y[\",i,\"]=\",model_1.y[i].value)\n"
      ],
      "execution_count": 47,
      "outputs": [
        {
          "output_type": "stream",
          "text": [
            "\n",
            "optimal sum of residuals =  125454.545\n",
            "\n",
            "\n",
            "b[ 0 ]= 104181.82\n",
            "b[ 1 ]= 67.272727\n",
            "b[ 2 ]= -356.36364\n",
            "\n",
            "\n",
            "y[ 0 ]= 38818.182\n",
            "y[ 1 ]= 0.0\n",
            "y[ 2 ]= 54272.727\n",
            "y[ 3 ]= 32363.636\n",
            "y[ 4 ]= 0.0\n",
            "y[ 5 ]= 0.0\n"
          ],
          "name": "stdout"
        }
      ]
    },
    {
      "cell_type": "markdown",
      "metadata": {
        "id": "emSXr1RttWDD",
        "colab_type": "text"
      },
      "source": [
        "**3.5 Solving by approach 2**\n",
        "\n",
        "We define varibles $u_{i}$ & $v_{i}$ for 'i' in {1,2,3,4,5,6}\n",
        "\n",
        "s.t.  \n",
        "$u_{i}>=0$  \n",
        "$v_{i}>=0$     \n",
        "$u_{i}-v_{i}=b_{0} + b_{1}*L_{i}+b_{2}*E_{i}-P_{i}$ \n",
        "\n",
        "Objective. \n",
        "\\begin{align}\n",
        "min.\\sum_{i=1}^{6} u_{i}+v_{i}  \\nonumber \n",
        "\\end{align}"
      ]
    },
    {
      "cell_type": "code",
      "metadata": {
        "id": "FwevxfNSfNod",
        "colab_type": "code",
        "colab": {
          "base_uri": "https://localhost:8080/",
          "height": 937
        },
        "outputId": "28537529-325e-4264-80b3-7b9f9e1baa6d"
      },
      "source": [
        "# 3.5 by approach 2\n",
        "\n",
        "data_csvfile = pd.read_csv('lab6_ex3.csv')\n",
        "\n",
        "model_2 = ConcreteModel()\n",
        "\n",
        "M=len(data_csvfile.columns)-1\n",
        "N=len(data_csvfile.index)\n",
        "\n",
        "col_indices = range(N)\n",
        "row_indices = range(M)\n",
        "\n",
        "#defining variables\n",
        "model_2.u = Var(col_indices, domain=NonNegativeReals)\n",
        "model_2.v = Var(col_indices, domain=NonNegativeReals)\n",
        "\n",
        "model_2.b = Var(row_indices)\n",
        "\n",
        "model_2.b[0].domain=NonNegativeReals\n",
        "\n",
        "#defining objective\n",
        "model_2.objective = Objective(expr=model_2.u[0]+model_2.u[1]+model_2.u[2]+model_2.u[3]+model_2.u[4]+model_2.u[5]+model_2.v[0]+model_2.v[1]+model_2.v[2]+model_2.v[3]+model_2.v[4]+model_2.v[5],sense=minimize)\n",
        "\n",
        "# adding constraints\n",
        "model_2.constraints = ConstraintList()\n",
        "\n",
        "for i in col_indices:\n",
        "  model_2.constraints.add(expr=model_2.u[i]-model_2.v[i]-model_2.b[0]-model_2.b[1]*data_csvfile['LotSize'][i]-model_2.b[2]*data_csvfile['Elevation'][i]+data_csvfile['SellingPrice'][i]==0)\n",
        "\n",
        "model_2.pprint()\n",
        "\n"
      ],
      "execution_count": 48,
      "outputs": [
        {
          "output_type": "stream",
          "text": [
            "4 Set Declarations\n",
            "    b_index : Size=1, Index=None, Ordered=False\n",
            "        Key  : Dimen : Domain : Size : Members\n",
            "        None :     1 :    Any :    3 : {0, 1, 2}\n",
            "    constraints_index : Size=1, Index=None, Ordered=Insertion\n",
            "        Key  : Dimen : Domain : Size : Members\n",
            "        None :     1 :    Any :    6 : {1, 2, 3, 4, 5, 6}\n",
            "    u_index : Size=1, Index=None, Ordered=False\n",
            "        Key  : Dimen : Domain : Size : Members\n",
            "        None :     1 :    Any :    6 : {0, 1, 2, 3, 4, 5}\n",
            "    v_index : Size=1, Index=None, Ordered=False\n",
            "        Key  : Dimen : Domain : Size : Members\n",
            "        None :     1 :    Any :    6 : {0, 1, 2, 3, 4, 5}\n",
            "\n",
            "3 Var Declarations\n",
            "    b : Size=3, Index=b_index\n",
            "        Key : Lower : Value : Upper : Fixed : Stale : Domain\n",
            "          0 :     0 :  None :  None : False :  True : NonNegativeReals\n",
            "          1 :  None :  None :  None : False :  True :            Reals\n",
            "          2 :  None :  None :  None : False :  True :            Reals\n",
            "    u : Size=6, Index=u_index\n",
            "        Key : Lower : Value : Upper : Fixed : Stale : Domain\n",
            "          0 :     0 :  None :  None : False :  True : NonNegativeReals\n",
            "          1 :     0 :  None :  None : False :  True : NonNegativeReals\n",
            "          2 :     0 :  None :  None : False :  True : NonNegativeReals\n",
            "          3 :     0 :  None :  None : False :  True : NonNegativeReals\n",
            "          4 :     0 :  None :  None : False :  True : NonNegativeReals\n",
            "          5 :     0 :  None :  None : False :  True : NonNegativeReals\n",
            "    v : Size=6, Index=v_index\n",
            "        Key : Lower : Value : Upper : Fixed : Stale : Domain\n",
            "          0 :     0 :  None :  None : False :  True : NonNegativeReals\n",
            "          1 :     0 :  None :  None : False :  True : NonNegativeReals\n",
            "          2 :     0 :  None :  None : False :  True : NonNegativeReals\n",
            "          3 :     0 :  None :  None : False :  True : NonNegativeReals\n",
            "          4 :     0 :  None :  None : False :  True : NonNegativeReals\n",
            "          5 :     0 :  None :  None : False :  True : NonNegativeReals\n",
            "\n",
            "1 Objective Declarations\n",
            "    objective : Size=1, Index=None, Active=True\n",
            "        Key  : Active : Sense    : Expression\n",
            "        None :   True : minimize : u[0] + u[1] + u[2] + u[3] + u[4] + u[5] + v[0] + v[1] + v[2] + v[3] + v[4] + v[5]\n",
            "\n",
            "1 Constraint Declarations\n",
            "    constraints : Size=6, Index=constraints_index, Active=True\n",
            "        Key : Lower : Body                                               : Upper : Active\n",
            "          1 :   0.0 : u[0] - v[0] - b[0] - 1800*b[1] - 250*b[2] + 175000 :   0.0 :   True\n",
            "          2 :   0.0 : u[1] - v[1] - b[0] - 2800*b[1] - 400*b[2] + 150000 :   0.0 :   True\n",
            "          3 :   0.0 : u[2] - v[2] - b[0] - 3500*b[1] - 450*b[2] + 125000 :   0.0 :   True\n",
            "          4 :   0.0 :   u[3] - v[3] - b[0] - 800*b[1] - 100*b[2] + 90000 :   0.0 :   True\n",
            "          5 :   0.0 :   u[4] - v[4] - b[0] - 700*b[1] - 200*b[2] + 80000 :   0.0 :   True\n",
            "          6 :   0.0 :   u[5] - v[5] - b[0] - 500*b[1] - 50*b[2] + 120000 :   0.0 :   True\n",
            "\n",
            "9 Declarations: u_index u v_index v b_index b objective constraints_index constraints\n"
          ],
          "name": "stdout"
        }
      ]
    },
    {
      "cell_type": "code",
      "metadata": {
        "id": "3UmxKDLMhrRC",
        "colab_type": "code",
        "colab": {
          "base_uri": "https://localhost:8080/",
          "height": 52
        },
        "outputId": "b5e48512-84f1-4a21-cb52-d95f85220900"
      },
      "source": [
        "opt_cbc = SolverFactory('cbc')\n",
        "result = opt_cbc.solve(model_2)\n",
        "print('Solver status:', result.solver.status)\n",
        "print('Solver termination condition:',result.solver.termination_condition)"
      ],
      "execution_count": 49,
      "outputs": [
        {
          "output_type": "stream",
          "text": [
            "Solver status: ok\n",
            "Solver termination condition: optimal\n"
          ],
          "name": "stdout"
        }
      ]
    },
    {
      "cell_type": "code",
      "metadata": {
        "id": "Rs8na8A_hyr7",
        "colab_type": "code",
        "colab": {
          "base_uri": "https://localhost:8080/",
          "height": 382
        },
        "outputId": "f0d2c7fb-c60e-4fce-dd07-a11e648fdcc8"
      },
      "source": [
        "print('\\nObjective = ', model_2.objective())\n",
        "print(\"\\n\")\n",
        "for j in row_indices:\n",
        "  print(\"b[\",j,\"]=\",model_2.b[j].value)\n",
        "\n",
        "print(\"\\n\")\n",
        "\n",
        "for i in col_indices:\n",
        "  print(\"u[\",i,\"]=\",model_2.u[i].value)\n",
        "  print(\"v[\",i,\"]=\",model_2.v[i].value)\n"
      ],
      "execution_count": 50,
      "outputs": [
        {
          "output_type": "stream",
          "text": [
            "\n",
            "Objective =  125454.545\n",
            "\n",
            "\n",
            "b[ 0 ]= 104181.82\n",
            "b[ 1 ]= 67.272727\n",
            "b[ 2 ]= -356.36364\n",
            "\n",
            "\n",
            "u[ 0 ]= 0.0\n",
            "v[ 0 ]= 38818.182\n",
            "u[ 1 ]= 0.0\n",
            "v[ 1 ]= 0.0\n",
            "u[ 2 ]= 54272.727\n",
            "v[ 2 ]= 0.0\n",
            "u[ 3 ]= 32363.636\n",
            "v[ 3 ]= 0.0\n",
            "u[ 4 ]= 0.0\n",
            "v[ 4 ]= 0.0\n",
            "u[ 5 ]= 0.0\n",
            "v[ 5 ]= 0.0\n"
          ],
          "name": "stdout"
        }
      ]
    },
    {
      "cell_type": "markdown",
      "metadata": {
        "id": "bn_2mFlwvKpd",
        "colab_type": "text"
      },
      "source": [
        "We can see that the value of decision variables at optimum and sum of residuals is exactly same by both the approaches.\n",
        "\n",
        "Also note that we get value of $b_{1}$ as positive which indicates that as the lot size increases the price of warehouse increases. However the value of $b_{2}$ is negative which indicates that as the elevation increases the price of warehouse goes down."
      ]
    }
  ]
}